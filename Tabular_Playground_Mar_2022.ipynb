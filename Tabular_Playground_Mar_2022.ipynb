{
  "nbformat": 4,
  "nbformat_minor": 0,
  "metadata": {
    "colab": {
      "name": "Tabular_Playground_Mar_2022.ipynb",
      "provenance": [],
      "collapsed_sections": []
    },
    "kernelspec": {
      "name": "python3",
      "display_name": "Python 3"
    },
    "language_info": {
      "name": "python"
    },
    "accelerator": "GPU"
  },
  "cells": [
    {
      "cell_type": "code",
<<<<<<< HEAD
      "execution_count": null,
=======
      "execution_count": 1,
>>>>>>> 827112322a66591a34654b99fc95088df37c0dc0
      "metadata": {
        "id": "e6jwhYGjO-CP"
      },
      "outputs": [],
      "source": [
        "import numpy as np\n",
        "import pandas as pd\n",
        "import matplotlib.pyplot as plt \n",
        "import seaborn as sns"
      ]
    },
    {
      "cell_type": "code",
      "source": [
        "train = pd.read_csv('https://raw.githubusercontent.com/topguns837/Tabular_Playground_Kaggle_Mar_2022/master/train.csv?token=GHSAT0AAAAAABQDRJRADAUUOTX6PWT5K6MMYRNUPFA'  , index_col=False)\n",
        "test = pd.read_csv('https://raw.githubusercontent.com/topguns837/Tabular_Playground_Kaggle_Mar_2022/master/test.csv?token=GHSAT0AAAAAABQDRJRAGUVH2Q5AZT62G4U4YRNUSOA' , index_col = False)"
      ],
      "metadata": {
        "id": "-SKmuoT-PKKW"
      },
<<<<<<< HEAD
      "execution_count": null,
=======
      "execution_count": 2,
>>>>>>> 827112322a66591a34654b99fc95088df37c0dc0
      "outputs": []
    },
    {
      "cell_type": "code",
      "source": [
        "train.head()"
      ],
      "metadata": {
        "colab": {
          "base_uri": "https://localhost:8080/",
          "height": 206
        },
        "id": "_tRJn4WGPKNP",
        "outputId": "d9c50039-72da-424b-c246-7f83b8b114bf"
      },
<<<<<<< HEAD
      "execution_count": null,
=======
      "execution_count": 3,
>>>>>>> 827112322a66591a34654b99fc95088df37c0dc0
      "outputs": [
        {
          "output_type": "execute_result",
          "data": {
            "text/html": [
              "\n",
              "  <div id=\"df-6fc1657d-cc9b-4c43-a800-b55dd950bc24\">\n",
              "    <div class=\"colab-df-container\">\n",
              "      <div>\n",
              "<style scoped>\n",
              "    .dataframe tbody tr th:only-of-type {\n",
              "        vertical-align: middle;\n",
              "    }\n",
              "\n",
              "    .dataframe tbody tr th {\n",
              "        vertical-align: top;\n",
              "    }\n",
              "\n",
              "    .dataframe thead th {\n",
              "        text-align: right;\n",
              "    }\n",
              "</style>\n",
              "<table border=\"1\" class=\"dataframe\">\n",
              "  <thead>\n",
              "    <tr style=\"text-align: right;\">\n",
              "      <th></th>\n",
              "      <th>row_id</th>\n",
              "      <th>time</th>\n",
              "      <th>x</th>\n",
              "      <th>y</th>\n",
              "      <th>direction</th>\n",
              "      <th>congestion</th>\n",
              "    </tr>\n",
              "  </thead>\n",
              "  <tbody>\n",
              "    <tr>\n",
              "      <th>0</th>\n",
              "      <td>0</td>\n",
              "      <td>1991-04-01 00:00:00</td>\n",
              "      <td>0</td>\n",
              "      <td>0</td>\n",
              "      <td>EB</td>\n",
              "      <td>70</td>\n",
              "    </tr>\n",
              "    <tr>\n",
              "      <th>1</th>\n",
              "      <td>1</td>\n",
              "      <td>1991-04-01 00:00:00</td>\n",
              "      <td>0</td>\n",
              "      <td>0</td>\n",
              "      <td>NB</td>\n",
              "      <td>49</td>\n",
              "    </tr>\n",
              "    <tr>\n",
              "      <th>2</th>\n",
              "      <td>2</td>\n",
              "      <td>1991-04-01 00:00:00</td>\n",
              "      <td>0</td>\n",
              "      <td>0</td>\n",
              "      <td>SB</td>\n",
              "      <td>24</td>\n",
              "    </tr>\n",
              "    <tr>\n",
              "      <th>3</th>\n",
              "      <td>3</td>\n",
              "      <td>1991-04-01 00:00:00</td>\n",
              "      <td>0</td>\n",
              "      <td>1</td>\n",
              "      <td>EB</td>\n",
              "      <td>18</td>\n",
              "    </tr>\n",
              "    <tr>\n",
              "      <th>4</th>\n",
              "      <td>4</td>\n",
              "      <td>1991-04-01 00:00:00</td>\n",
              "      <td>0</td>\n",
              "      <td>1</td>\n",
              "      <td>NB</td>\n",
              "      <td>60</td>\n",
              "    </tr>\n",
              "  </tbody>\n",
              "</table>\n",
              "</div>\n",
              "      <button class=\"colab-df-convert\" onclick=\"convertToInteractive('df-6fc1657d-cc9b-4c43-a800-b55dd950bc24')\"\n",
              "              title=\"Convert this dataframe to an interactive table.\"\n",
              "              style=\"display:none;\">\n",
              "        \n",
              "  <svg xmlns=\"http://www.w3.org/2000/svg\" height=\"24px\"viewBox=\"0 0 24 24\"\n",
              "       width=\"24px\">\n",
              "    <path d=\"M0 0h24v24H0V0z\" fill=\"none\"/>\n",
              "    <path d=\"M18.56 5.44l.94 2.06.94-2.06 2.06-.94-2.06-.94-.94-2.06-.94 2.06-2.06.94zm-11 1L8.5 8.5l.94-2.06 2.06-.94-2.06-.94L8.5 2.5l-.94 2.06-2.06.94zm10 10l.94 2.06.94-2.06 2.06-.94-2.06-.94-.94-2.06-.94 2.06-2.06.94z\"/><path d=\"M17.41 7.96l-1.37-1.37c-.4-.4-.92-.59-1.43-.59-.52 0-1.04.2-1.43.59L10.3 9.45l-7.72 7.72c-.78.78-.78 2.05 0 2.83L4 21.41c.39.39.9.59 1.41.59.51 0 1.02-.2 1.41-.59l7.78-7.78 2.81-2.81c.8-.78.8-2.07 0-2.86zM5.41 20L4 18.59l7.72-7.72 1.47 1.35L5.41 20z\"/>\n",
              "  </svg>\n",
              "      </button>\n",
              "      \n",
              "  <style>\n",
              "    .colab-df-container {\n",
              "      display:flex;\n",
              "      flex-wrap:wrap;\n",
              "      gap: 12px;\n",
              "    }\n",
              "\n",
              "    .colab-df-convert {\n",
              "      background-color: #E8F0FE;\n",
              "      border: none;\n",
              "      border-radius: 50%;\n",
              "      cursor: pointer;\n",
              "      display: none;\n",
              "      fill: #1967D2;\n",
              "      height: 32px;\n",
              "      padding: 0 0 0 0;\n",
              "      width: 32px;\n",
              "    }\n",
              "\n",
              "    .colab-df-convert:hover {\n",
              "      background-color: #E2EBFA;\n",
              "      box-shadow: 0px 1px 2px rgba(60, 64, 67, 0.3), 0px 1px 3px 1px rgba(60, 64, 67, 0.15);\n",
              "      fill: #174EA6;\n",
              "    }\n",
              "\n",
              "    [theme=dark] .colab-df-convert {\n",
              "      background-color: #3B4455;\n",
              "      fill: #D2E3FC;\n",
              "    }\n",
              "\n",
              "    [theme=dark] .colab-df-convert:hover {\n",
              "      background-color: #434B5C;\n",
              "      box-shadow: 0px 1px 3px 1px rgba(0, 0, 0, 0.15);\n",
              "      filter: drop-shadow(0px 1px 2px rgba(0, 0, 0, 0.3));\n",
              "      fill: #FFFFFF;\n",
              "    }\n",
              "  </style>\n",
              "\n",
              "      <script>\n",
              "        const buttonEl =\n",
              "          document.querySelector('#df-6fc1657d-cc9b-4c43-a800-b55dd950bc24 button.colab-df-convert');\n",
              "        buttonEl.style.display =\n",
              "          google.colab.kernel.accessAllowed ? 'block' : 'none';\n",
              "\n",
              "        async function convertToInteractive(key) {\n",
              "          const element = document.querySelector('#df-6fc1657d-cc9b-4c43-a800-b55dd950bc24');\n",
              "          const dataTable =\n",
              "            await google.colab.kernel.invokeFunction('convertToInteractive',\n",
              "                                                     [key], {});\n",
              "          if (!dataTable) return;\n",
              "\n",
              "          const docLinkHtml = 'Like what you see? Visit the ' +\n",
              "            '<a target=\"_blank\" href=https://colab.research.google.com/notebooks/data_table.ipynb>data table notebook</a>'\n",
              "            + ' to learn more about interactive tables.';\n",
              "          element.innerHTML = '';\n",
              "          dataTable['output_type'] = 'display_data';\n",
              "          await google.colab.output.renderOutput(dataTable, element);\n",
              "          const docLink = document.createElement('div');\n",
              "          docLink.innerHTML = docLinkHtml;\n",
              "          element.appendChild(docLink);\n",
              "        }\n",
              "      </script>\n",
              "    </div>\n",
              "  </div>\n",
              "  "
            ],
            "text/plain": [
              "   row_id                 time  x  y direction  congestion\n",
              "0       0  1991-04-01 00:00:00  0  0        EB          70\n",
              "1       1  1991-04-01 00:00:00  0  0        NB          49\n",
              "2       2  1991-04-01 00:00:00  0  0        SB          24\n",
              "3       3  1991-04-01 00:00:00  0  1        EB          18\n",
              "4       4  1991-04-01 00:00:00  0  1        NB          60"
            ]
          },
          "metadata": {},
          "execution_count": 3
        }
      ]
    },
    {
      "cell_type": "code",
      "source": [
        "train.isnull().sum()"
      ],
      "metadata": {
        "colab": {
          "base_uri": "https://localhost:8080/"
        },
        "id": "JQtGwbR2PKPv",
        "outputId": "83e8a4a5-fad3-4542-9570-3f097576270a"
      },
<<<<<<< HEAD
      "execution_count": null,
=======
      "execution_count": 4,
>>>>>>> 827112322a66591a34654b99fc95088df37c0dc0
      "outputs": [
        {
          "output_type": "execute_result",
          "data": {
            "text/plain": [
              "row_id        0\n",
              "time          0\n",
              "x             0\n",
              "y             0\n",
              "direction     0\n",
              "congestion    0\n",
              "dtype: int64"
            ]
          },
          "metadata": {},
          "execution_count": 4
        }
      ]
    },
    {
      "cell_type": "code",
      "source": [
        " test.isnull().sum()"
      ],
      "metadata": {
        "colab": {
          "base_uri": "https://localhost:8080/"
        },
        "id": "-lk9QOmUPKSf",
        "outputId": "725523f5-2b24-434a-a191-174b1e6e7658"
      },
<<<<<<< HEAD
      "execution_count": null,
=======
      "execution_count": 5,
>>>>>>> 827112322a66591a34654b99fc95088df37c0dc0
      "outputs": [
        {
          "output_type": "execute_result",
          "data": {
            "text/plain": [
              "row_id       0\n",
              "time         0\n",
              "x            0\n",
              "y            0\n",
              "direction    0\n",
              "dtype: int64"
            ]
          },
          "metadata": {},
          "execution_count": 5
        }
      ]
    },
    {
      "cell_type": "code",
      "source": [
        "train['time'].max()"
      ],
      "metadata": {
        "colab": {
          "base_uri": "https://localhost:8080/",
          "height": 35
        },
        "id": "IJOW79UoPKVV",
        "outputId": "9850f3f6-20d4-49ab-dc4a-ce345f5d4552"
      },
<<<<<<< HEAD
      "execution_count": null,
=======
      "execution_count": 6,
>>>>>>> 827112322a66591a34654b99fc95088df37c0dc0
      "outputs": [
        {
          "output_type": "execute_result",
          "data": {
            "application/vnd.google.colaboratory.intrinsic+json": {
              "type": "string"
            },
            "text/plain": [
              "'1991-09-30 11:40:00'"
            ]
          },
          "metadata": {},
          "execution_count": 6
        }
      ]
    },
    {
      "cell_type": "code",
      "source": [
        "train['time'].min()"
      ],
      "metadata": {
        "colab": {
          "base_uri": "https://localhost:8080/",
          "height": 35
        },
        "id": "H_f8fsYGPKYH",
        "outputId": "2aaab586-33ee-4d91-cb07-8d09dec7a7ad"
      },
<<<<<<< HEAD
      "execution_count": null,
=======
      "execution_count": 7,
>>>>>>> 827112322a66591a34654b99fc95088df37c0dc0
      "outputs": [
        {
          "output_type": "execute_result",
          "data": {
            "application/vnd.google.colaboratory.intrinsic+json": {
              "type": "string"
            },
            "text/plain": [
              "'1991-04-01 00:00:00'"
            ]
          },
          "metadata": {},
          "execution_count": 7
        }
      ]
    },
    {
      "cell_type": "markdown",
      "source": [
        "Note :  The year (1991) holds no importance here since it is constant in all of the train and test data"
      ],
      "metadata": {
        "id": "_4O84lp-PKa1"
      }
    },
    {
      "cell_type": "code",
      "source": [
        "train['Date'] = pd.to_datetime(train['time']).dt.date\n",
        "train['Time'] = pd.to_datetime(train['time']).dt.time"
      ],
      "metadata": {
        "id": "ZkjNEZfsPKd3"
      },
<<<<<<< HEAD
      "execution_count": null,
=======
      "execution_count": 8,
>>>>>>> 827112322a66591a34654b99fc95088df37c0dc0
      "outputs": []
    },
    {
      "cell_type": "code",
      "source": [
        "train.dtypes\n"
      ],
      "metadata": {
        "colab": {
          "base_uri": "https://localhost:8080/"
        },
        "id": "qp7VfvT1PKg2",
        "outputId": "b674a561-ed9d-4a22-ef25-5f38988e95c0"
      },
<<<<<<< HEAD
      "execution_count": null,
=======
      "execution_count": 9,
>>>>>>> 827112322a66591a34654b99fc95088df37c0dc0
      "outputs": [
        {
          "output_type": "execute_result",
          "data": {
            "text/plain": [
              "row_id         int64\n",
              "time          object\n",
              "x              int64\n",
              "y              int64\n",
              "direction     object\n",
              "congestion     int64\n",
              "Date          object\n",
              "Time          object\n",
              "dtype: object"
            ]
          },
          "metadata": {},
          "execution_count": 9
        }
      ]
    },
    {
      "cell_type": "code",
      "source": [
        "train.head()"
      ],
      "metadata": {
        "colab": {
          "base_uri": "https://localhost:8080/",
          "height": 206
        },
        "id": "5q4-LykMegC9",
        "outputId": "c8445d9e-1b94-4816-919e-13715b8d0045"
      },
<<<<<<< HEAD
      "execution_count": null,
=======
      "execution_count": 10,
>>>>>>> 827112322a66591a34654b99fc95088df37c0dc0
      "outputs": [
        {
          "output_type": "execute_result",
          "data": {
            "text/html": [
              "\n",
              "  <div id=\"df-5d967089-7d86-44e7-8a5f-c6e8f6dbe06a\">\n",
              "    <div class=\"colab-df-container\">\n",
              "      <div>\n",
              "<style scoped>\n",
              "    .dataframe tbody tr th:only-of-type {\n",
              "        vertical-align: middle;\n",
              "    }\n",
              "\n",
              "    .dataframe tbody tr th {\n",
              "        vertical-align: top;\n",
              "    }\n",
              "\n",
              "    .dataframe thead th {\n",
              "        text-align: right;\n",
              "    }\n",
              "</style>\n",
              "<table border=\"1\" class=\"dataframe\">\n",
              "  <thead>\n",
              "    <tr style=\"text-align: right;\">\n",
              "      <th></th>\n",
              "      <th>row_id</th>\n",
              "      <th>time</th>\n",
              "      <th>x</th>\n",
              "      <th>y</th>\n",
              "      <th>direction</th>\n",
              "      <th>congestion</th>\n",
              "      <th>Date</th>\n",
              "      <th>Time</th>\n",
              "    </tr>\n",
              "  </thead>\n",
              "  <tbody>\n",
              "    <tr>\n",
              "      <th>0</th>\n",
              "      <td>0</td>\n",
              "      <td>1991-04-01 00:00:00</td>\n",
              "      <td>0</td>\n",
              "      <td>0</td>\n",
              "      <td>EB</td>\n",
              "      <td>70</td>\n",
              "      <td>1991-04-01</td>\n",
              "      <td>00:00:00</td>\n",
              "    </tr>\n",
              "    <tr>\n",
              "      <th>1</th>\n",
              "      <td>1</td>\n",
              "      <td>1991-04-01 00:00:00</td>\n",
              "      <td>0</td>\n",
              "      <td>0</td>\n",
              "      <td>NB</td>\n",
              "      <td>49</td>\n",
              "      <td>1991-04-01</td>\n",
              "      <td>00:00:00</td>\n",
              "    </tr>\n",
              "    <tr>\n",
              "      <th>2</th>\n",
              "      <td>2</td>\n",
              "      <td>1991-04-01 00:00:00</td>\n",
              "      <td>0</td>\n",
              "      <td>0</td>\n",
              "      <td>SB</td>\n",
              "      <td>24</td>\n",
              "      <td>1991-04-01</td>\n",
              "      <td>00:00:00</td>\n",
              "    </tr>\n",
              "    <tr>\n",
              "      <th>3</th>\n",
              "      <td>3</td>\n",
              "      <td>1991-04-01 00:00:00</td>\n",
              "      <td>0</td>\n",
              "      <td>1</td>\n",
              "      <td>EB</td>\n",
              "      <td>18</td>\n",
              "      <td>1991-04-01</td>\n",
              "      <td>00:00:00</td>\n",
              "    </tr>\n",
              "    <tr>\n",
              "      <th>4</th>\n",
              "      <td>4</td>\n",
              "      <td>1991-04-01 00:00:00</td>\n",
              "      <td>0</td>\n",
              "      <td>1</td>\n",
              "      <td>NB</td>\n",
              "      <td>60</td>\n",
              "      <td>1991-04-01</td>\n",
              "      <td>00:00:00</td>\n",
              "    </tr>\n",
              "  </tbody>\n",
              "</table>\n",
              "</div>\n",
              "      <button class=\"colab-df-convert\" onclick=\"convertToInteractive('df-5d967089-7d86-44e7-8a5f-c6e8f6dbe06a')\"\n",
              "              title=\"Convert this dataframe to an interactive table.\"\n",
              "              style=\"display:none;\">\n",
              "        \n",
              "  <svg xmlns=\"http://www.w3.org/2000/svg\" height=\"24px\"viewBox=\"0 0 24 24\"\n",
              "       width=\"24px\">\n",
              "    <path d=\"M0 0h24v24H0V0z\" fill=\"none\"/>\n",
              "    <path d=\"M18.56 5.44l.94 2.06.94-2.06 2.06-.94-2.06-.94-.94-2.06-.94 2.06-2.06.94zm-11 1L8.5 8.5l.94-2.06 2.06-.94-2.06-.94L8.5 2.5l-.94 2.06-2.06.94zm10 10l.94 2.06.94-2.06 2.06-.94-2.06-.94-.94-2.06-.94 2.06-2.06.94z\"/><path d=\"M17.41 7.96l-1.37-1.37c-.4-.4-.92-.59-1.43-.59-.52 0-1.04.2-1.43.59L10.3 9.45l-7.72 7.72c-.78.78-.78 2.05 0 2.83L4 21.41c.39.39.9.59 1.41.59.51 0 1.02-.2 1.41-.59l7.78-7.78 2.81-2.81c.8-.78.8-2.07 0-2.86zM5.41 20L4 18.59l7.72-7.72 1.47 1.35L5.41 20z\"/>\n",
              "  </svg>\n",
              "      </button>\n",
              "      \n",
              "  <style>\n",
              "    .colab-df-container {\n",
              "      display:flex;\n",
              "      flex-wrap:wrap;\n",
              "      gap: 12px;\n",
              "    }\n",
              "\n",
              "    .colab-df-convert {\n",
              "      background-color: #E8F0FE;\n",
              "      border: none;\n",
              "      border-radius: 50%;\n",
              "      cursor: pointer;\n",
              "      display: none;\n",
              "      fill: #1967D2;\n",
              "      height: 32px;\n",
              "      padding: 0 0 0 0;\n",
              "      width: 32px;\n",
              "    }\n",
              "\n",
              "    .colab-df-convert:hover {\n",
              "      background-color: #E2EBFA;\n",
              "      box-shadow: 0px 1px 2px rgba(60, 64, 67, 0.3), 0px 1px 3px 1px rgba(60, 64, 67, 0.15);\n",
              "      fill: #174EA6;\n",
              "    }\n",
              "\n",
              "    [theme=dark] .colab-df-convert {\n",
              "      background-color: #3B4455;\n",
              "      fill: #D2E3FC;\n",
              "    }\n",
              "\n",
              "    [theme=dark] .colab-df-convert:hover {\n",
              "      background-color: #434B5C;\n",
              "      box-shadow: 0px 1px 3px 1px rgba(0, 0, 0, 0.15);\n",
              "      filter: drop-shadow(0px 1px 2px rgba(0, 0, 0, 0.3));\n",
              "      fill: #FFFFFF;\n",
              "    }\n",
              "  </style>\n",
              "\n",
              "      <script>\n",
              "        const buttonEl =\n",
              "          document.querySelector('#df-5d967089-7d86-44e7-8a5f-c6e8f6dbe06a button.colab-df-convert');\n",
              "        buttonEl.style.display =\n",
              "          google.colab.kernel.accessAllowed ? 'block' : 'none';\n",
              "\n",
              "        async function convertToInteractive(key) {\n",
              "          const element = document.querySelector('#df-5d967089-7d86-44e7-8a5f-c6e8f6dbe06a');\n",
              "          const dataTable =\n",
              "            await google.colab.kernel.invokeFunction('convertToInteractive',\n",
              "                                                     [key], {});\n",
              "          if (!dataTable) return;\n",
              "\n",
              "          const docLinkHtml = 'Like what you see? Visit the ' +\n",
              "            '<a target=\"_blank\" href=https://colab.research.google.com/notebooks/data_table.ipynb>data table notebook</a>'\n",
              "            + ' to learn more about interactive tables.';\n",
              "          element.innerHTML = '';\n",
              "          dataTable['output_type'] = 'display_data';\n",
              "          await google.colab.output.renderOutput(dataTable, element);\n",
              "          const docLink = document.createElement('div');\n",
              "          docLink.innerHTML = docLinkHtml;\n",
              "          element.appendChild(docLink);\n",
              "        }\n",
              "      </script>\n",
              "    </div>\n",
              "  </div>\n",
              "  "
            ],
            "text/plain": [
              "   row_id                 time  x  y direction  congestion        Date  \\\n",
              "0       0  1991-04-01 00:00:00  0  0        EB          70  1991-04-01   \n",
              "1       1  1991-04-01 00:00:00  0  0        NB          49  1991-04-01   \n",
              "2       2  1991-04-01 00:00:00  0  0        SB          24  1991-04-01   \n",
              "3       3  1991-04-01 00:00:00  0  1        EB          18  1991-04-01   \n",
              "4       4  1991-04-01 00:00:00  0  1        NB          60  1991-04-01   \n",
              "\n",
              "       Time  \n",
              "0  00:00:00  \n",
              "1  00:00:00  \n",
              "2  00:00:00  \n",
              "3  00:00:00  \n",
              "4  00:00:00  "
            ]
          },
          "metadata": {},
          "execution_count": 10
        }
      ]
    },
    {
      "cell_type": "code",
      "source": [
        "#train_test['Date'] = train['Date'].str[5:]\n",
        "train_df = train.copy()\n",
        "train_df['Month'] = pd.DatetimeIndex(train['Date']).month\n",
        "train_df['Day'] = pd.DatetimeIndex(train['Date']).day\n",
        "train_df.head()"
      ],
      "metadata": {
        "colab": {
          "base_uri": "https://localhost:8080/",
          "height": 206
        },
        "id": "0qGohSC5PKjo",
        "outputId": "b237a58c-2b4d-449c-e105-1e1ff38a184f"
      },
<<<<<<< HEAD
      "execution_count": null,
=======
      "execution_count": 11,
>>>>>>> 827112322a66591a34654b99fc95088df37c0dc0
      "outputs": [
        {
          "output_type": "execute_result",
          "data": {
            "text/html": [
              "\n",
              "  <div id=\"df-d80d6cab-4291-45aa-b004-0a8aa6264f0f\">\n",
              "    <div class=\"colab-df-container\">\n",
              "      <div>\n",
              "<style scoped>\n",
              "    .dataframe tbody tr th:only-of-type {\n",
              "        vertical-align: middle;\n",
              "    }\n",
              "\n",
              "    .dataframe tbody tr th {\n",
              "        vertical-align: top;\n",
              "    }\n",
              "\n",
              "    .dataframe thead th {\n",
              "        text-align: right;\n",
              "    }\n",
              "</style>\n",
              "<table border=\"1\" class=\"dataframe\">\n",
              "  <thead>\n",
              "    <tr style=\"text-align: right;\">\n",
              "      <th></th>\n",
              "      <th>row_id</th>\n",
              "      <th>time</th>\n",
              "      <th>x</th>\n",
              "      <th>y</th>\n",
              "      <th>direction</th>\n",
              "      <th>congestion</th>\n",
              "      <th>Date</th>\n",
              "      <th>Time</th>\n",
              "      <th>Month</th>\n",
              "      <th>Day</th>\n",
              "    </tr>\n",
              "  </thead>\n",
              "  <tbody>\n",
              "    <tr>\n",
              "      <th>0</th>\n",
              "      <td>0</td>\n",
              "      <td>1991-04-01 00:00:00</td>\n",
              "      <td>0</td>\n",
              "      <td>0</td>\n",
              "      <td>EB</td>\n",
              "      <td>70</td>\n",
              "      <td>1991-04-01</td>\n",
              "      <td>00:00:00</td>\n",
              "      <td>4</td>\n",
              "      <td>1</td>\n",
              "    </tr>\n",
              "    <tr>\n",
              "      <th>1</th>\n",
              "      <td>1</td>\n",
              "      <td>1991-04-01 00:00:00</td>\n",
              "      <td>0</td>\n",
              "      <td>0</td>\n",
              "      <td>NB</td>\n",
              "      <td>49</td>\n",
              "      <td>1991-04-01</td>\n",
              "      <td>00:00:00</td>\n",
              "      <td>4</td>\n",
              "      <td>1</td>\n",
              "    </tr>\n",
              "    <tr>\n",
              "      <th>2</th>\n",
              "      <td>2</td>\n",
              "      <td>1991-04-01 00:00:00</td>\n",
              "      <td>0</td>\n",
              "      <td>0</td>\n",
              "      <td>SB</td>\n",
              "      <td>24</td>\n",
              "      <td>1991-04-01</td>\n",
              "      <td>00:00:00</td>\n",
              "      <td>4</td>\n",
              "      <td>1</td>\n",
              "    </tr>\n",
              "    <tr>\n",
              "      <th>3</th>\n",
              "      <td>3</td>\n",
              "      <td>1991-04-01 00:00:00</td>\n",
              "      <td>0</td>\n",
              "      <td>1</td>\n",
              "      <td>EB</td>\n",
              "      <td>18</td>\n",
              "      <td>1991-04-01</td>\n",
              "      <td>00:00:00</td>\n",
              "      <td>4</td>\n",
              "      <td>1</td>\n",
              "    </tr>\n",
              "    <tr>\n",
              "      <th>4</th>\n",
              "      <td>4</td>\n",
              "      <td>1991-04-01 00:00:00</td>\n",
              "      <td>0</td>\n",
              "      <td>1</td>\n",
              "      <td>NB</td>\n",
              "      <td>60</td>\n",
              "      <td>1991-04-01</td>\n",
              "      <td>00:00:00</td>\n",
              "      <td>4</td>\n",
              "      <td>1</td>\n",
              "    </tr>\n",
              "  </tbody>\n",
              "</table>\n",
              "</div>\n",
              "      <button class=\"colab-df-convert\" onclick=\"convertToInteractive('df-d80d6cab-4291-45aa-b004-0a8aa6264f0f')\"\n",
              "              title=\"Convert this dataframe to an interactive table.\"\n",
              "              style=\"display:none;\">\n",
              "        \n",
              "  <svg xmlns=\"http://www.w3.org/2000/svg\" height=\"24px\"viewBox=\"0 0 24 24\"\n",
              "       width=\"24px\">\n",
              "    <path d=\"M0 0h24v24H0V0z\" fill=\"none\"/>\n",
              "    <path d=\"M18.56 5.44l.94 2.06.94-2.06 2.06-.94-2.06-.94-.94-2.06-.94 2.06-2.06.94zm-11 1L8.5 8.5l.94-2.06 2.06-.94-2.06-.94L8.5 2.5l-.94 2.06-2.06.94zm10 10l.94 2.06.94-2.06 2.06-.94-2.06-.94-.94-2.06-.94 2.06-2.06.94z\"/><path d=\"M17.41 7.96l-1.37-1.37c-.4-.4-.92-.59-1.43-.59-.52 0-1.04.2-1.43.59L10.3 9.45l-7.72 7.72c-.78.78-.78 2.05 0 2.83L4 21.41c.39.39.9.59 1.41.59.51 0 1.02-.2 1.41-.59l7.78-7.78 2.81-2.81c.8-.78.8-2.07 0-2.86zM5.41 20L4 18.59l7.72-7.72 1.47 1.35L5.41 20z\"/>\n",
              "  </svg>\n",
              "      </button>\n",
              "      \n",
              "  <style>\n",
              "    .colab-df-container {\n",
              "      display:flex;\n",
              "      flex-wrap:wrap;\n",
              "      gap: 12px;\n",
              "    }\n",
              "\n",
              "    .colab-df-convert {\n",
              "      background-color: #E8F0FE;\n",
              "      border: none;\n",
              "      border-radius: 50%;\n",
              "      cursor: pointer;\n",
              "      display: none;\n",
              "      fill: #1967D2;\n",
              "      height: 32px;\n",
              "      padding: 0 0 0 0;\n",
              "      width: 32px;\n",
              "    }\n",
              "\n",
              "    .colab-df-convert:hover {\n",
              "      background-color: #E2EBFA;\n",
              "      box-shadow: 0px 1px 2px rgba(60, 64, 67, 0.3), 0px 1px 3px 1px rgba(60, 64, 67, 0.15);\n",
              "      fill: #174EA6;\n",
              "    }\n",
              "\n",
              "    [theme=dark] .colab-df-convert {\n",
              "      background-color: #3B4455;\n",
              "      fill: #D2E3FC;\n",
              "    }\n",
              "\n",
              "    [theme=dark] .colab-df-convert:hover {\n",
              "      background-color: #434B5C;\n",
              "      box-shadow: 0px 1px 3px 1px rgba(0, 0, 0, 0.15);\n",
              "      filter: drop-shadow(0px 1px 2px rgba(0, 0, 0, 0.3));\n",
              "      fill: #FFFFFF;\n",
              "    }\n",
              "  </style>\n",
              "\n",
              "      <script>\n",
              "        const buttonEl =\n",
              "          document.querySelector('#df-d80d6cab-4291-45aa-b004-0a8aa6264f0f button.colab-df-convert');\n",
              "        buttonEl.style.display =\n",
              "          google.colab.kernel.accessAllowed ? 'block' : 'none';\n",
              "\n",
              "        async function convertToInteractive(key) {\n",
              "          const element = document.querySelector('#df-d80d6cab-4291-45aa-b004-0a8aa6264f0f');\n",
              "          const dataTable =\n",
              "            await google.colab.kernel.invokeFunction('convertToInteractive',\n",
              "                                                     [key], {});\n",
              "          if (!dataTable) return;\n",
              "\n",
              "          const docLinkHtml = 'Like what you see? Visit the ' +\n",
              "            '<a target=\"_blank\" href=https://colab.research.google.com/notebooks/data_table.ipynb>data table notebook</a>'\n",
              "            + ' to learn more about interactive tables.';\n",
              "          element.innerHTML = '';\n",
              "          dataTable['output_type'] = 'display_data';\n",
              "          await google.colab.output.renderOutput(dataTable, element);\n",
              "          const docLink = document.createElement('div');\n",
              "          docLink.innerHTML = docLinkHtml;\n",
              "          element.appendChild(docLink);\n",
              "        }\n",
              "      </script>\n",
              "    </div>\n",
              "  </div>\n",
              "  "
            ],
            "text/plain": [
              "   row_id                 time  x  y direction  congestion        Date  \\\n",
              "0       0  1991-04-01 00:00:00  0  0        EB          70  1991-04-01   \n",
              "1       1  1991-04-01 00:00:00  0  0        NB          49  1991-04-01   \n",
              "2       2  1991-04-01 00:00:00  0  0        SB          24  1991-04-01   \n",
              "3       3  1991-04-01 00:00:00  0  1        EB          18  1991-04-01   \n",
              "4       4  1991-04-01 00:00:00  0  1        NB          60  1991-04-01   \n",
              "\n",
              "       Time  Month  Day  \n",
              "0  00:00:00      4    1  \n",
              "1  00:00:00      4    1  \n",
              "2  00:00:00      4    1  \n",
              "3  00:00:00      4    1  \n",
              "4  00:00:00      4    1  "
            ]
          },
          "metadata": {},
          "execution_count": 11
        }
      ]
    },
    {
      "cell_type": "code",
      "source": [
        "train_df.drop(['Date'] , axis = 1 , inplace = True)\n"
      ],
      "metadata": {
        "id": "VhYAgviMPKmd"
      },
<<<<<<< HEAD
      "execution_count": null,
=======
      "execution_count": 12,
>>>>>>> 827112322a66591a34654b99fc95088df37c0dc0
      "outputs": []
    },
    {
      "cell_type": "code",
      "source": [
        "train_df.drop(['time'] , axis = 1 , inplace= True)\n",
        "train_df.head()"
      ],
      "metadata": {
        "colab": {
          "base_uri": "https://localhost:8080/",
          "height": 206
        },
        "id": "oaH8Tz77PKpA",
        "outputId": "ee1e2112-3527-4dd7-f130-169f1dfd26dd"
      },
<<<<<<< HEAD
      "execution_count": null,
=======
      "execution_count": 13,
>>>>>>> 827112322a66591a34654b99fc95088df37c0dc0
      "outputs": [
        {
          "output_type": "execute_result",
          "data": {
            "text/html": [
              "\n",
              "  <div id=\"df-1188e35c-f51a-4f3a-a72f-03d5c1b0fbe6\">\n",
              "    <div class=\"colab-df-container\">\n",
              "      <div>\n",
              "<style scoped>\n",
              "    .dataframe tbody tr th:only-of-type {\n",
              "        vertical-align: middle;\n",
              "    }\n",
              "\n",
              "    .dataframe tbody tr th {\n",
              "        vertical-align: top;\n",
              "    }\n",
              "\n",
              "    .dataframe thead th {\n",
              "        text-align: right;\n",
              "    }\n",
              "</style>\n",
              "<table border=\"1\" class=\"dataframe\">\n",
              "  <thead>\n",
              "    <tr style=\"text-align: right;\">\n",
              "      <th></th>\n",
              "      <th>row_id</th>\n",
              "      <th>x</th>\n",
              "      <th>y</th>\n",
              "      <th>direction</th>\n",
              "      <th>congestion</th>\n",
              "      <th>Time</th>\n",
              "      <th>Month</th>\n",
              "      <th>Day</th>\n",
              "    </tr>\n",
              "  </thead>\n",
              "  <tbody>\n",
              "    <tr>\n",
              "      <th>0</th>\n",
              "      <td>0</td>\n",
              "      <td>0</td>\n",
              "      <td>0</td>\n",
              "      <td>EB</td>\n",
              "      <td>70</td>\n",
              "      <td>00:00:00</td>\n",
              "      <td>4</td>\n",
              "      <td>1</td>\n",
              "    </tr>\n",
              "    <tr>\n",
              "      <th>1</th>\n",
              "      <td>1</td>\n",
              "      <td>0</td>\n",
              "      <td>0</td>\n",
              "      <td>NB</td>\n",
              "      <td>49</td>\n",
              "      <td>00:00:00</td>\n",
              "      <td>4</td>\n",
              "      <td>1</td>\n",
              "    </tr>\n",
              "    <tr>\n",
              "      <th>2</th>\n",
              "      <td>2</td>\n",
              "      <td>0</td>\n",
              "      <td>0</td>\n",
              "      <td>SB</td>\n",
              "      <td>24</td>\n",
              "      <td>00:00:00</td>\n",
              "      <td>4</td>\n",
              "      <td>1</td>\n",
              "    </tr>\n",
              "    <tr>\n",
              "      <th>3</th>\n",
              "      <td>3</td>\n",
              "      <td>0</td>\n",
              "      <td>1</td>\n",
              "      <td>EB</td>\n",
              "      <td>18</td>\n",
              "      <td>00:00:00</td>\n",
              "      <td>4</td>\n",
              "      <td>1</td>\n",
              "    </tr>\n",
              "    <tr>\n",
              "      <th>4</th>\n",
              "      <td>4</td>\n",
              "      <td>0</td>\n",
              "      <td>1</td>\n",
              "      <td>NB</td>\n",
              "      <td>60</td>\n",
              "      <td>00:00:00</td>\n",
              "      <td>4</td>\n",
              "      <td>1</td>\n",
              "    </tr>\n",
              "  </tbody>\n",
              "</table>\n",
              "</div>\n",
              "      <button class=\"colab-df-convert\" onclick=\"convertToInteractive('df-1188e35c-f51a-4f3a-a72f-03d5c1b0fbe6')\"\n",
              "              title=\"Convert this dataframe to an interactive table.\"\n",
              "              style=\"display:none;\">\n",
              "        \n",
              "  <svg xmlns=\"http://www.w3.org/2000/svg\" height=\"24px\"viewBox=\"0 0 24 24\"\n",
              "       width=\"24px\">\n",
              "    <path d=\"M0 0h24v24H0V0z\" fill=\"none\"/>\n",
              "    <path d=\"M18.56 5.44l.94 2.06.94-2.06 2.06-.94-2.06-.94-.94-2.06-.94 2.06-2.06.94zm-11 1L8.5 8.5l.94-2.06 2.06-.94-2.06-.94L8.5 2.5l-.94 2.06-2.06.94zm10 10l.94 2.06.94-2.06 2.06-.94-2.06-.94-.94-2.06-.94 2.06-2.06.94z\"/><path d=\"M17.41 7.96l-1.37-1.37c-.4-.4-.92-.59-1.43-.59-.52 0-1.04.2-1.43.59L10.3 9.45l-7.72 7.72c-.78.78-.78 2.05 0 2.83L4 21.41c.39.39.9.59 1.41.59.51 0 1.02-.2 1.41-.59l7.78-7.78 2.81-2.81c.8-.78.8-2.07 0-2.86zM5.41 20L4 18.59l7.72-7.72 1.47 1.35L5.41 20z\"/>\n",
              "  </svg>\n",
              "      </button>\n",
              "      \n",
              "  <style>\n",
              "    .colab-df-container {\n",
              "      display:flex;\n",
              "      flex-wrap:wrap;\n",
              "      gap: 12px;\n",
              "    }\n",
              "\n",
              "    .colab-df-convert {\n",
              "      background-color: #E8F0FE;\n",
              "      border: none;\n",
              "      border-radius: 50%;\n",
              "      cursor: pointer;\n",
              "      display: none;\n",
              "      fill: #1967D2;\n",
              "      height: 32px;\n",
              "      padding: 0 0 0 0;\n",
              "      width: 32px;\n",
              "    }\n",
              "\n",
              "    .colab-df-convert:hover {\n",
              "      background-color: #E2EBFA;\n",
              "      box-shadow: 0px 1px 2px rgba(60, 64, 67, 0.3), 0px 1px 3px 1px rgba(60, 64, 67, 0.15);\n",
              "      fill: #174EA6;\n",
              "    }\n",
              "\n",
              "    [theme=dark] .colab-df-convert {\n",
              "      background-color: #3B4455;\n",
              "      fill: #D2E3FC;\n",
              "    }\n",
              "\n",
              "    [theme=dark] .colab-df-convert:hover {\n",
              "      background-color: #434B5C;\n",
              "      box-shadow: 0px 1px 3px 1px rgba(0, 0, 0, 0.15);\n",
              "      filter: drop-shadow(0px 1px 2px rgba(0, 0, 0, 0.3));\n",
              "      fill: #FFFFFF;\n",
              "    }\n",
              "  </style>\n",
              "\n",
              "      <script>\n",
              "        const buttonEl =\n",
              "          document.querySelector('#df-1188e35c-f51a-4f3a-a72f-03d5c1b0fbe6 button.colab-df-convert');\n",
              "        buttonEl.style.display =\n",
              "          google.colab.kernel.accessAllowed ? 'block' : 'none';\n",
              "\n",
              "        async function convertToInteractive(key) {\n",
              "          const element = document.querySelector('#df-1188e35c-f51a-4f3a-a72f-03d5c1b0fbe6');\n",
              "          const dataTable =\n",
              "            await google.colab.kernel.invokeFunction('convertToInteractive',\n",
              "                                                     [key], {});\n",
              "          if (!dataTable) return;\n",
              "\n",
              "          const docLinkHtml = 'Like what you see? Visit the ' +\n",
              "            '<a target=\"_blank\" href=https://colab.research.google.com/notebooks/data_table.ipynb>data table notebook</a>'\n",
              "            + ' to learn more about interactive tables.';\n",
              "          element.innerHTML = '';\n",
              "          dataTable['output_type'] = 'display_data';\n",
              "          await google.colab.output.renderOutput(dataTable, element);\n",
              "          const docLink = document.createElement('div');\n",
              "          docLink.innerHTML = docLinkHtml;\n",
              "          element.appendChild(docLink);\n",
              "        }\n",
              "      </script>\n",
              "    </div>\n",
              "  </div>\n",
              "  "
            ],
            "text/plain": [
              "   row_id  x  y direction  congestion      Time  Month  Day\n",
              "0       0  0  0        EB          70  00:00:00      4    1\n",
              "1       1  0  0        NB          49  00:00:00      4    1\n",
              "2       2  0  0        SB          24  00:00:00      4    1\n",
              "3       3  0  1        EB          18  00:00:00      4    1\n",
              "4       4  0  1        NB          60  00:00:00      4    1"
            ]
          },
          "metadata": {},
          "execution_count": 13
        }
      ]
    },
    {
      "cell_type": "code",
      "source": [
        "# Congestion vs Month"
      ],
      "metadata": {
        "id": "cgS64wWai9W3"
      },
<<<<<<< HEAD
      "execution_count": null,
=======
      "execution_count": 14,
>>>>>>> 827112322a66591a34654b99fc95088df37c0dc0
      "outputs": []
    },
    {
      "cell_type": "code",
      "source": [
        "sns.barplot(x = 'Month' , y = 'congestion' , data = train_df , estimator = np.mean)"
      ],
      "metadata": {
        "colab": {
          "base_uri": "https://localhost:8080/",
          "height": 298
        },
        "id": "U_vCgQbTPKrr",
        "outputId": "7bc7d806-7937-481e-dc26-9895af52e640"
      },
<<<<<<< HEAD
      "execution_count": null,
=======
      "execution_count": 15,
>>>>>>> 827112322a66591a34654b99fc95088df37c0dc0
      "outputs": [
        {
          "output_type": "execute_result",
          "data": {
            "text/plain": [
              "<matplotlib.axes._subplots.AxesSubplot at 0x7fdd95e60790>"
            ]
          },
          "metadata": {},
          "execution_count": 15
        },
        {
          "output_type": "display_data",
          "data": {
            "image/png": "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\n",
            "text/plain": [
              "<Figure size 432x288 with 1 Axes>"
            ]
          },
          "metadata": {
            "needs_background": "light"
          }
        }
      ]
    },
    {
      "cell_type": "code",
      "source": [
        "sns.barplot(x = 'Month' , y = 'congestion' , data = train_df , estimator = np.max)"
      ],
      "metadata": {
        "colab": {
          "base_uri": "https://localhost:8080/",
          "height": 296
        },
        "id": "fjtzljl1ghnH",
        "outputId": "ca4368ba-7271-4cf4-8bd6-e36e934d7ecf"
      },
<<<<<<< HEAD
      "execution_count": null,
=======
      "execution_count": 16,
>>>>>>> 827112322a66591a34654b99fc95088df37c0dc0
      "outputs": [
        {
          "output_type": "execute_result",
          "data": {
            "text/plain": [
              "<matplotlib.axes._subplots.AxesSubplot at 0x7fdd95ceb190>"
            ]
          },
          "metadata": {},
          "execution_count": 16
        },
        {
          "output_type": "display_data",
          "data": {
            "image/png": "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\n",
            "text/plain": [
              "<Figure size 432x288 with 1 Axes>"
            ]
          },
          "metadata": {
            "needs_background": "light"
          }
        }
      ]
    },
    {
      "cell_type": "markdown",
      "source": [
        "Note :  Congestion doesnt depend on the Month"
      ],
      "metadata": {
        "id": "8BNfBWIbghx2"
      }
    },
    {
      "cell_type": "code",
      "source": [
        "# Congestion vs Day"
      ],
      "metadata": {
        "id": "57UY1T7KghzJ"
      },
<<<<<<< HEAD
      "execution_count": null,
=======
      "execution_count": 17,
>>>>>>> 827112322a66591a34654b99fc95088df37c0dc0
      "outputs": []
    },
    {
      "cell_type": "code",
      "source": [
        "plt.figure(figsize = (12,6))\n",
        "\n",
        "sns.barplot(x = 'Day' , y = 'congestion' , data = train_df , estimator = np.mean)\n",
        "\n",
        "plt.show()"
      ],
      "metadata": {
        "colab": {
          "base_uri": "https://localhost:8080/",
          "height": 388
        },
        "id": "VM0Qg2e4gh0c",
        "outputId": "efc3cb53-7851-4d06-e8cf-ea4931b28c7d"
      },
<<<<<<< HEAD
      "execution_count": null,
=======
      "execution_count": 18,
>>>>>>> 827112322a66591a34654b99fc95088df37c0dc0
      "outputs": [
        {
          "output_type": "display_data",
          "data": {
            "image/png": "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\n",
            "text/plain": [
              "<Figure size 864x432 with 1 Axes>"
            ]
          },
          "metadata": {
            "needs_background": "light"
          }
        }
      ]
    },
    {
      "cell_type": "code",
      "source": [
        "plt.figure(figsize = (12,6))\n",
        "\n",
        "sns.barplot(x = 'Day' , y = 'congestion' , data = train_df , estimator = np.max)\n",
        "\n",
        "plt.show()"
      ],
      "metadata": {
        "colab": {
          "base_uri": "https://localhost:8080/",
          "height": 388
        },
        "id": "fRwk4QT0gh13",
        "outputId": "cd50b553-5fa4-4809-e167-df8a438182d1"
      },
<<<<<<< HEAD
      "execution_count": null,
=======
      "execution_count": 19,
>>>>>>> 827112322a66591a34654b99fc95088df37c0dc0
      "outputs": [
        {
          "output_type": "display_data",
          "data": {
            "image/png": "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\n",
            "text/plain": [
              "<Figure size 864x432 with 1 Axes>"
            ]
          },
          "metadata": {
            "needs_background": "light"
          }
        }
      ]
    },
    {
      "cell_type": "markdown",
      "source": [
        "Note  :  Congestion varies slightly with Day"
      ],
      "metadata": {
        "id": "Kqa0gfCjgh3f"
      }
    },
    {
      "cell_type": "code",
      "source": [
        "## Consider adding a Date variable (without Year)\n"
      ],
      "metadata": {
        "id": "uS8SYhyygh_C"
      },
<<<<<<< HEAD
      "execution_count": null,
=======
      "execution_count": 20,
>>>>>>> 827112322a66591a34654b99fc95088df37c0dc0
      "outputs": []
    },
    {
      "cell_type": "code",
      "source": [
        "plt.figure(figsize = (12,6))\n",
        "sns.countplot(data = train_df , x = 'congestion' )\n",
        "#plt.xticks(rotation = 45)\n",
        "plt.show()"
      ],
      "metadata": {
        "colab": {
          "base_uri": "https://localhost:8080/",
          "height": 388
        },
        "id": "5CdDsDovgiAl",
        "outputId": "21482e34-a9b3-4c52-b64b-1d3c57728157"
      },
<<<<<<< HEAD
      "execution_count": null,
=======
      "execution_count": 21,
>>>>>>> 827112322a66591a34654b99fc95088df37c0dc0
      "outputs": [
        {
          "output_type": "display_data",
          "data": {
            "image/png": "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\n",
            "text/plain": [
              "<Figure size 864x432 with 1 Axes>"
            ]
          },
          "metadata": {
            "needs_background": "light"
          }
        }
      ]
    },
    {
      "cell_type": "code",
      "source": [
        "plt.figure(figsize = (12,6))\n",
        "sns.histplot(data = train_df , x = 'congestion' , bins = 15  , kde = True)\n",
        "plt.show()"
      ],
      "metadata": {
        "colab": {
          "base_uri": "https://localhost:8080/",
          "height": 388
        },
        "id": "hSW4rt_EgiCO",
        "outputId": "e8f0df67-895a-4451-8f88-f2d9a44fb188"
      },
<<<<<<< HEAD
      "execution_count": null,
=======
      "execution_count": 22,
>>>>>>> 827112322a66591a34654b99fc95088df37c0dc0
      "outputs": [
        {
          "output_type": "display_data",
          "data": {
            "image/png": "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\n",
            "text/plain": [
              "<Figure size 864x432 with 1 Axes>"
            ]
          },
          "metadata": {
            "needs_background": "light"
          }
        }
      ]
    },
    {
      "cell_type": "code",
      "source": [
        "sns.boxplot(data = train_df , x = 'congestion')"
      ],
      "metadata": {
        "colab": {
          "base_uri": "https://localhost:8080/",
          "height": 296
        },
        "id": "VuZ_bVeXgiD4",
        "outputId": "e43c9644-aa58-48b9-a5e1-ca78d56b7470"
      },
<<<<<<< HEAD
      "execution_count": null,
=======
      "execution_count": 23,
>>>>>>> 827112322a66591a34654b99fc95088df37c0dc0
      "outputs": [
        {
          "output_type": "execute_result",
          "data": {
            "text/plain": [
              "<matplotlib.axes._subplots.AxesSubplot at 0x7fdd90999c50>"
            ]
          },
          "metadata": {},
          "execution_count": 23
        },
        {
          "output_type": "display_data",
          "data": {
            "image/png": "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\n",
            "text/plain": [
              "<Figure size 432x288 with 1 Axes>"
            ]
          },
          "metadata": {
            "needs_background": "light"
          }
        }
      ]
    },
    {
      "cell_type": "markdown",
      "source": [
        "Note : There are a lot of outliers in our 'Congestion' column in train data"
      ],
      "metadata": {
        "id": "7arnYLUdgiK7"
      }
    },
    {
      "cell_type": "code",
      "source": [
        "train_df.head()"
      ],
      "metadata": {
        "colab": {
          "base_uri": "https://localhost:8080/",
          "height": 206
        },
        "id": "KvcLEgc4PKul",
        "outputId": "949d80b9-0343-4742-aaa4-41681dfc998b"
      },
<<<<<<< HEAD
      "execution_count": null,
=======
      "execution_count": 24,
>>>>>>> 827112322a66591a34654b99fc95088df37c0dc0
      "outputs": [
        {
          "output_type": "execute_result",
          "data": {
            "text/html": [
              "\n",
              "  <div id=\"df-585852cb-18fb-406a-9182-204887c0f65b\">\n",
              "    <div class=\"colab-df-container\">\n",
              "      <div>\n",
              "<style scoped>\n",
              "    .dataframe tbody tr th:only-of-type {\n",
              "        vertical-align: middle;\n",
              "    }\n",
              "\n",
              "    .dataframe tbody tr th {\n",
              "        vertical-align: top;\n",
              "    }\n",
              "\n",
              "    .dataframe thead th {\n",
              "        text-align: right;\n",
              "    }\n",
              "</style>\n",
              "<table border=\"1\" class=\"dataframe\">\n",
              "  <thead>\n",
              "    <tr style=\"text-align: right;\">\n",
              "      <th></th>\n",
              "      <th>row_id</th>\n",
              "      <th>x</th>\n",
              "      <th>y</th>\n",
              "      <th>direction</th>\n",
              "      <th>congestion</th>\n",
              "      <th>Time</th>\n",
              "      <th>Month</th>\n",
              "      <th>Day</th>\n",
              "    </tr>\n",
              "  </thead>\n",
              "  <tbody>\n",
              "    <tr>\n",
              "      <th>0</th>\n",
              "      <td>0</td>\n",
              "      <td>0</td>\n",
              "      <td>0</td>\n",
              "      <td>EB</td>\n",
              "      <td>70</td>\n",
              "      <td>00:00:00</td>\n",
              "      <td>4</td>\n",
              "      <td>1</td>\n",
              "    </tr>\n",
              "    <tr>\n",
              "      <th>1</th>\n",
              "      <td>1</td>\n",
              "      <td>0</td>\n",
              "      <td>0</td>\n",
              "      <td>NB</td>\n",
              "      <td>49</td>\n",
              "      <td>00:00:00</td>\n",
              "      <td>4</td>\n",
              "      <td>1</td>\n",
              "    </tr>\n",
              "    <tr>\n",
              "      <th>2</th>\n",
              "      <td>2</td>\n",
              "      <td>0</td>\n",
              "      <td>0</td>\n",
              "      <td>SB</td>\n",
              "      <td>24</td>\n",
              "      <td>00:00:00</td>\n",
              "      <td>4</td>\n",
              "      <td>1</td>\n",
              "    </tr>\n",
              "    <tr>\n",
              "      <th>3</th>\n",
              "      <td>3</td>\n",
              "      <td>0</td>\n",
              "      <td>1</td>\n",
              "      <td>EB</td>\n",
              "      <td>18</td>\n",
              "      <td>00:00:00</td>\n",
              "      <td>4</td>\n",
              "      <td>1</td>\n",
              "    </tr>\n",
              "    <tr>\n",
              "      <th>4</th>\n",
              "      <td>4</td>\n",
              "      <td>0</td>\n",
              "      <td>1</td>\n",
              "      <td>NB</td>\n",
              "      <td>60</td>\n",
              "      <td>00:00:00</td>\n",
              "      <td>4</td>\n",
              "      <td>1</td>\n",
              "    </tr>\n",
              "  </tbody>\n",
              "</table>\n",
              "</div>\n",
              "      <button class=\"colab-df-convert\" onclick=\"convertToInteractive('df-585852cb-18fb-406a-9182-204887c0f65b')\"\n",
              "              title=\"Convert this dataframe to an interactive table.\"\n",
              "              style=\"display:none;\">\n",
              "        \n",
              "  <svg xmlns=\"http://www.w3.org/2000/svg\" height=\"24px\"viewBox=\"0 0 24 24\"\n",
              "       width=\"24px\">\n",
              "    <path d=\"M0 0h24v24H0V0z\" fill=\"none\"/>\n",
              "    <path d=\"M18.56 5.44l.94 2.06.94-2.06 2.06-.94-2.06-.94-.94-2.06-.94 2.06-2.06.94zm-11 1L8.5 8.5l.94-2.06 2.06-.94-2.06-.94L8.5 2.5l-.94 2.06-2.06.94zm10 10l.94 2.06.94-2.06 2.06-.94-2.06-.94-.94-2.06-.94 2.06-2.06.94z\"/><path d=\"M17.41 7.96l-1.37-1.37c-.4-.4-.92-.59-1.43-.59-.52 0-1.04.2-1.43.59L10.3 9.45l-7.72 7.72c-.78.78-.78 2.05 0 2.83L4 21.41c.39.39.9.59 1.41.59.51 0 1.02-.2 1.41-.59l7.78-7.78 2.81-2.81c.8-.78.8-2.07 0-2.86zM5.41 20L4 18.59l7.72-7.72 1.47 1.35L5.41 20z\"/>\n",
              "  </svg>\n",
              "      </button>\n",
              "      \n",
              "  <style>\n",
              "    .colab-df-container {\n",
              "      display:flex;\n",
              "      flex-wrap:wrap;\n",
              "      gap: 12px;\n",
              "    }\n",
              "\n",
              "    .colab-df-convert {\n",
              "      background-color: #E8F0FE;\n",
              "      border: none;\n",
              "      border-radius: 50%;\n",
              "      cursor: pointer;\n",
              "      display: none;\n",
              "      fill: #1967D2;\n",
              "      height: 32px;\n",
              "      padding: 0 0 0 0;\n",
              "      width: 32px;\n",
              "    }\n",
              "\n",
              "    .colab-df-convert:hover {\n",
              "      background-color: #E2EBFA;\n",
              "      box-shadow: 0px 1px 2px rgba(60, 64, 67, 0.3), 0px 1px 3px 1px rgba(60, 64, 67, 0.15);\n",
              "      fill: #174EA6;\n",
              "    }\n",
              "\n",
              "    [theme=dark] .colab-df-convert {\n",
              "      background-color: #3B4455;\n",
              "      fill: #D2E3FC;\n",
              "    }\n",
              "\n",
              "    [theme=dark] .colab-df-convert:hover {\n",
              "      background-color: #434B5C;\n",
              "      box-shadow: 0px 1px 3px 1px rgba(0, 0, 0, 0.15);\n",
              "      filter: drop-shadow(0px 1px 2px rgba(0, 0, 0, 0.3));\n",
              "      fill: #FFFFFF;\n",
              "    }\n",
              "  </style>\n",
              "\n",
              "      <script>\n",
              "        const buttonEl =\n",
              "          document.querySelector('#df-585852cb-18fb-406a-9182-204887c0f65b button.colab-df-convert');\n",
              "        buttonEl.style.display =\n",
              "          google.colab.kernel.accessAllowed ? 'block' : 'none';\n",
              "\n",
              "        async function convertToInteractive(key) {\n",
              "          const element = document.querySelector('#df-585852cb-18fb-406a-9182-204887c0f65b');\n",
              "          const dataTable =\n",
              "            await google.colab.kernel.invokeFunction('convertToInteractive',\n",
              "                                                     [key], {});\n",
              "          if (!dataTable) return;\n",
              "\n",
              "          const docLinkHtml = 'Like what you see? Visit the ' +\n",
              "            '<a target=\"_blank\" href=https://colab.research.google.com/notebooks/data_table.ipynb>data table notebook</a>'\n",
              "            + ' to learn more about interactive tables.';\n",
              "          element.innerHTML = '';\n",
              "          dataTable['output_type'] = 'display_data';\n",
              "          await google.colab.output.renderOutput(dataTable, element);\n",
              "          const docLink = document.createElement('div');\n",
              "          docLink.innerHTML = docLinkHtml;\n",
              "          element.appendChild(docLink);\n",
              "        }\n",
              "      </script>\n",
              "    </div>\n",
              "  </div>\n",
              "  "
            ],
            "text/plain": [
              "   row_id  x  y direction  congestion      Time  Month  Day\n",
              "0       0  0  0        EB          70  00:00:00      4    1\n",
              "1       1  0  0        NB          49  00:00:00      4    1\n",
              "2       2  0  0        SB          24  00:00:00      4    1\n",
              "3       3  0  1        EB          18  00:00:00      4    1\n",
              "4       4  0  1        NB          60  00:00:00      4    1"
            ]
          },
          "metadata": {},
          "execution_count": 24
        }
      ]
    },
    {
      "cell_type": "code",
      "source": [
        "plt.figure(figsize = (12,6))\n",
        "sns.countplot(data = train_df , x = 'direction' )\n",
        "plt.show()"
      ],
      "metadata": {
        "colab": {
          "base_uri": "https://localhost:8080/",
          "height": 388
        },
        "id": "6Upq07hlBeEF",
        "outputId": "1b569d5e-f549-40bc-f3f2-2e5d72121762"
      },
<<<<<<< HEAD
      "execution_count": null,
=======
      "execution_count": 25,
>>>>>>> 827112322a66591a34654b99fc95088df37c0dc0
      "outputs": [
        {
          "output_type": "display_data",
          "data": {
            "image/png": "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\n",
            "text/plain": [
              "<Figure size 864x432 with 1 Axes>"
            ]
          },
          "metadata": {
            "needs_background": "light"
          }
        }
      ]
    },
    {
      "cell_type": "code",
      "source": [
        "train_df['direction'].value_counts(normalize=True)*100"
      ],
      "metadata": {
        "colab": {
          "base_uri": "https://localhost:8080/"
        },
        "id": "w9qEv-VoDXl-",
        "outputId": "9c7e76ca-d887-4fe5-fdb9-424c50527da2"
      },
<<<<<<< HEAD
      "execution_count": null,
=======
      "execution_count": 26,
>>>>>>> 827112322a66591a34654b99fc95088df37c0dc0
      "outputs": [
        {
          "output_type": "execute_result",
          "data": {
            "text/plain": [
              "EB    18.461538\n",
              "NB    18.461538\n",
              "SB    18.461538\n",
              "WB    16.923077\n",
              "NE    10.769231\n",
              "SW    10.769231\n",
              "NW     3.076923\n",
              "SE     3.076923\n",
              "Name: direction, dtype: float64"
            ]
          },
          "metadata": {},
          "execution_count": 26
        }
      ]
    },
    {
      "cell_type": "code",
      "source": [
        "## Finding relation between congestion and location cordinates"
      ],
      "metadata": {
        "id": "QK616p69BePW"
      },
<<<<<<< HEAD
      "execution_count": null,
=======
      "execution_count": 27,
>>>>>>> 827112322a66591a34654b99fc95088df37c0dc0
      "outputs": []
    },
    {
      "cell_type": "code",
      "source": [
        "train_df['x'].unique()"
      ],
      "metadata": {
        "colab": {
          "base_uri": "https://localhost:8080/"
        },
        "id": "1yk9IH_uFuXZ",
        "outputId": "b4201ada-37c6-4421-ce94-efb4dea5543b"
      },
<<<<<<< HEAD
      "execution_count": null,
=======
      "execution_count": 28,
>>>>>>> 827112322a66591a34654b99fc95088df37c0dc0
      "outputs": [
        {
          "output_type": "execute_result",
          "data": {
            "text/plain": [
              "array([0, 1, 2])"
            ]
          },
          "metadata": {},
          "execution_count": 28
        }
      ]
    },
    {
      "cell_type": "code",
      "source": [
        "train_df['y'].unique()"
      ],
      "metadata": {
        "colab": {
          "base_uri": "https://localhost:8080/"
        },
        "id": "gOs4gfU_Fxui",
        "outputId": "24a65765-cdf6-4203-f212-bbae95ed535b"
      },
<<<<<<< HEAD
      "execution_count": null,
=======
      "execution_count": 29,
>>>>>>> 827112322a66591a34654b99fc95088df37c0dc0
      "outputs": [
        {
          "output_type": "execute_result",
          "data": {
            "text/plain": [
              "array([0, 1, 2, 3])"
            ]
          },
          "metadata": {},
          "execution_count": 29
        }
      ]
    },
    {
      "cell_type": "code",
      "source": [
        "plt.figure(figsize = (12,6))\n",
        "sns.barplot(data = train_df , x = 'x' , y = 'congestion' , estimator = np.mean)\n",
        "plt.show()"
      ],
      "metadata": {
        "colab": {
          "base_uri": "https://localhost:8080/",
          "height": 388
        },
        "id": "pukdVGV3DF7K",
        "outputId": "07fcbfde-742b-4db6-c834-5286f1215c91"
      },
<<<<<<< HEAD
      "execution_count": null,
=======
      "execution_count": 30,
>>>>>>> 827112322a66591a34654b99fc95088df37c0dc0
      "outputs": [
        {
          "output_type": "display_data",
          "data": {
            "image/png": "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\n",
            "text/plain": [
              "<Figure size 864x432 with 1 Axes>"
            ]
          },
          "metadata": {
            "needs_background": "light"
          }
        }
      ]
    },
    {
      "cell_type": "code",
      "source": [
        "plt.figure(figsize = (12,6))\n",
        "sns.barplot(data = train_df , x = 'y' , y = 'congestion' , estimator = np.mean)\n",
        "plt.show()"
      ],
      "metadata": {
        "colab": {
          "base_uri": "https://localhost:8080/",
          "height": 388
        },
        "id": "LldIqZ7RFDZ_",
        "outputId": "524c8448-6ce2-4761-edeb-498a8753b1de"
      },
<<<<<<< HEAD
      "execution_count": null,
=======
      "execution_count": 31,
>>>>>>> 827112322a66591a34654b99fc95088df37c0dc0
      "outputs": [
        {
          "output_type": "display_data",
          "data": {
            "image/png": "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\n",
            "text/plain": [
              "<Figure size 864x432 with 1 Axes>"
            ]
          },
          "metadata": {
            "needs_background": "light"
          }
        }
      ]
    },
    {
      "cell_type": "code",
      "source": [
        "## Trying out combination of (x,y) as a column"
      ],
      "metadata": {
        "id": "e7c26HSnFDkT"
      },
<<<<<<< HEAD
      "execution_count": null,
=======
      "execution_count": 32,
>>>>>>> 827112322a66591a34654b99fc95088df37c0dc0
      "outputs": []
    },
    {
      "cell_type": "code",
      "source": [
        "train_df_copy = train_df.copy()\n",
        "train_df_copy['location'] = [0]*len(train_df)\n",
        "\n",
        "for index , row in train_df_copy.iterrows() :\n",
        "  row['location'] = (row['x'] , row['y'])\n",
        "\n"
      ],
      "metadata": {
        "id": "TKne-Kw2FDl3"
      },
<<<<<<< HEAD
      "execution_count": null,
=======
      "execution_count": 33,
>>>>>>> 827112322a66591a34654b99fc95088df37c0dc0
      "outputs": []
    },
    {
      "cell_type": "code",
      "source": [
        "train_df_copy.head()"
      ],
      "metadata": {
        "colab": {
          "base_uri": "https://localhost:8080/",
          "height": 206
        },
        "id": "H9oM0e0lFDnY",
        "outputId": "ad5cf36e-db29-4274-913d-52cf735abd75"
      },
<<<<<<< HEAD
      "execution_count": null,
=======
      "execution_count": 34,
>>>>>>> 827112322a66591a34654b99fc95088df37c0dc0
      "outputs": [
        {
          "output_type": "execute_result",
          "data": {
            "text/html": [
              "\n",
              "  <div id=\"df-866d8d00-d961-4a1a-a349-d7ab5e231549\">\n",
              "    <div class=\"colab-df-container\">\n",
              "      <div>\n",
              "<style scoped>\n",
              "    .dataframe tbody tr th:only-of-type {\n",
              "        vertical-align: middle;\n",
              "    }\n",
              "\n",
              "    .dataframe tbody tr th {\n",
              "        vertical-align: top;\n",
              "    }\n",
              "\n",
              "    .dataframe thead th {\n",
              "        text-align: right;\n",
              "    }\n",
              "</style>\n",
              "<table border=\"1\" class=\"dataframe\">\n",
              "  <thead>\n",
              "    <tr style=\"text-align: right;\">\n",
              "      <th></th>\n",
              "      <th>row_id</th>\n",
              "      <th>x</th>\n",
              "      <th>y</th>\n",
              "      <th>direction</th>\n",
              "      <th>congestion</th>\n",
              "      <th>Time</th>\n",
              "      <th>Month</th>\n",
              "      <th>Day</th>\n",
              "      <th>location</th>\n",
              "    </tr>\n",
              "  </thead>\n",
              "  <tbody>\n",
              "    <tr>\n",
              "      <th>0</th>\n",
              "      <td>0</td>\n",
              "      <td>0</td>\n",
              "      <td>0</td>\n",
              "      <td>EB</td>\n",
              "      <td>70</td>\n",
              "      <td>00:00:00</td>\n",
              "      <td>4</td>\n",
              "      <td>1</td>\n",
              "      <td>0</td>\n",
              "    </tr>\n",
              "    <tr>\n",
              "      <th>1</th>\n",
              "      <td>1</td>\n",
              "      <td>0</td>\n",
              "      <td>0</td>\n",
              "      <td>NB</td>\n",
              "      <td>49</td>\n",
              "      <td>00:00:00</td>\n",
              "      <td>4</td>\n",
              "      <td>1</td>\n",
              "      <td>0</td>\n",
              "    </tr>\n",
              "    <tr>\n",
              "      <th>2</th>\n",
              "      <td>2</td>\n",
              "      <td>0</td>\n",
              "      <td>0</td>\n",
              "      <td>SB</td>\n",
              "      <td>24</td>\n",
              "      <td>00:00:00</td>\n",
              "      <td>4</td>\n",
              "      <td>1</td>\n",
              "      <td>0</td>\n",
              "    </tr>\n",
              "    <tr>\n",
              "      <th>3</th>\n",
              "      <td>3</td>\n",
              "      <td>0</td>\n",
              "      <td>1</td>\n",
              "      <td>EB</td>\n",
              "      <td>18</td>\n",
              "      <td>00:00:00</td>\n",
              "      <td>4</td>\n",
              "      <td>1</td>\n",
              "      <td>0</td>\n",
              "    </tr>\n",
              "    <tr>\n",
              "      <th>4</th>\n",
              "      <td>4</td>\n",
              "      <td>0</td>\n",
              "      <td>1</td>\n",
              "      <td>NB</td>\n",
              "      <td>60</td>\n",
              "      <td>00:00:00</td>\n",
              "      <td>4</td>\n",
              "      <td>1</td>\n",
              "      <td>0</td>\n",
              "    </tr>\n",
              "  </tbody>\n",
              "</table>\n",
              "</div>\n",
              "      <button class=\"colab-df-convert\" onclick=\"convertToInteractive('df-866d8d00-d961-4a1a-a349-d7ab5e231549')\"\n",
              "              title=\"Convert this dataframe to an interactive table.\"\n",
              "              style=\"display:none;\">\n",
              "        \n",
              "  <svg xmlns=\"http://www.w3.org/2000/svg\" height=\"24px\"viewBox=\"0 0 24 24\"\n",
              "       width=\"24px\">\n",
              "    <path d=\"M0 0h24v24H0V0z\" fill=\"none\"/>\n",
              "    <path d=\"M18.56 5.44l.94 2.06.94-2.06 2.06-.94-2.06-.94-.94-2.06-.94 2.06-2.06.94zm-11 1L8.5 8.5l.94-2.06 2.06-.94-2.06-.94L8.5 2.5l-.94 2.06-2.06.94zm10 10l.94 2.06.94-2.06 2.06-.94-2.06-.94-.94-2.06-.94 2.06-2.06.94z\"/><path d=\"M17.41 7.96l-1.37-1.37c-.4-.4-.92-.59-1.43-.59-.52 0-1.04.2-1.43.59L10.3 9.45l-7.72 7.72c-.78.78-.78 2.05 0 2.83L4 21.41c.39.39.9.59 1.41.59.51 0 1.02-.2 1.41-.59l7.78-7.78 2.81-2.81c.8-.78.8-2.07 0-2.86zM5.41 20L4 18.59l7.72-7.72 1.47 1.35L5.41 20z\"/>\n",
              "  </svg>\n",
              "      </button>\n",
              "      \n",
              "  <style>\n",
              "    .colab-df-container {\n",
              "      display:flex;\n",
              "      flex-wrap:wrap;\n",
              "      gap: 12px;\n",
              "    }\n",
              "\n",
              "    .colab-df-convert {\n",
              "      background-color: #E8F0FE;\n",
              "      border: none;\n",
              "      border-radius: 50%;\n",
              "      cursor: pointer;\n",
              "      display: none;\n",
              "      fill: #1967D2;\n",
              "      height: 32px;\n",
              "      padding: 0 0 0 0;\n",
              "      width: 32px;\n",
              "    }\n",
              "\n",
              "    .colab-df-convert:hover {\n",
              "      background-color: #E2EBFA;\n",
              "      box-shadow: 0px 1px 2px rgba(60, 64, 67, 0.3), 0px 1px 3px 1px rgba(60, 64, 67, 0.15);\n",
              "      fill: #174EA6;\n",
              "    }\n",
              "\n",
              "    [theme=dark] .colab-df-convert {\n",
              "      background-color: #3B4455;\n",
              "      fill: #D2E3FC;\n",
              "    }\n",
              "\n",
              "    [theme=dark] .colab-df-convert:hover {\n",
              "      background-color: #434B5C;\n",
              "      box-shadow: 0px 1px 3px 1px rgba(0, 0, 0, 0.15);\n",
              "      filter: drop-shadow(0px 1px 2px rgba(0, 0, 0, 0.3));\n",
              "      fill: #FFFFFF;\n",
              "    }\n",
              "  </style>\n",
              "\n",
              "      <script>\n",
              "        const buttonEl =\n",
              "          document.querySelector('#df-866d8d00-d961-4a1a-a349-d7ab5e231549 button.colab-df-convert');\n",
              "        buttonEl.style.display =\n",
              "          google.colab.kernel.accessAllowed ? 'block' : 'none';\n",
              "\n",
              "        async function convertToInteractive(key) {\n",
              "          const element = document.querySelector('#df-866d8d00-d961-4a1a-a349-d7ab5e231549');\n",
              "          const dataTable =\n",
              "            await google.colab.kernel.invokeFunction('convertToInteractive',\n",
              "                                                     [key], {});\n",
              "          if (!dataTable) return;\n",
              "\n",
              "          const docLinkHtml = 'Like what you see? Visit the ' +\n",
              "            '<a target=\"_blank\" href=https://colab.research.google.com/notebooks/data_table.ipynb>data table notebook</a>'\n",
              "            + ' to learn more about interactive tables.';\n",
              "          element.innerHTML = '';\n",
              "          dataTable['output_type'] = 'display_data';\n",
              "          await google.colab.output.renderOutput(dataTable, element);\n",
              "          const docLink = document.createElement('div');\n",
              "          docLink.innerHTML = docLinkHtml;\n",
              "          element.appendChild(docLink);\n",
              "        }\n",
              "      </script>\n",
              "    </div>\n",
              "  </div>\n",
              "  "
            ],
            "text/plain": [
              "   row_id  x  y direction  congestion      Time  Month  Day  location\n",
              "0       0  0  0        EB          70  00:00:00      4    1         0\n",
              "1       1  0  0        NB          49  00:00:00      4    1         0\n",
              "2       2  0  0        SB          24  00:00:00      4    1         0\n",
              "3       3  0  1        EB          18  00:00:00      4    1         0\n",
              "4       4  0  1        NB          60  00:00:00      4    1         0"
            ]
          },
          "metadata": {},
          "execution_count": 34
        }
      ]
    },
    {
      "cell_type": "code",
      "source": [
        "train_df_copy['location'] = train_df_copy.apply(lambda row: (row.x , row.y), axis=1)\n",
        "train_df_copy.head()"
      ],
      "metadata": {
        "colab": {
          "base_uri": "https://localhost:8080/",
          "height": 206
        },
        "id": "EO4qi30QDF9x",
        "outputId": "a1c323d5-4135-4709-e96e-7e45db9481f5"
      },
<<<<<<< HEAD
      "execution_count": null,
=======
      "execution_count": 35,
>>>>>>> 827112322a66591a34654b99fc95088df37c0dc0
      "outputs": [
        {
          "output_type": "execute_result",
          "data": {
            "text/html": [
              "\n",
              "  <div id=\"df-4f92c513-c82e-4c25-88a2-d408a5644ff9\">\n",
              "    <div class=\"colab-df-container\">\n",
              "      <div>\n",
              "<style scoped>\n",
              "    .dataframe tbody tr th:only-of-type {\n",
              "        vertical-align: middle;\n",
              "    }\n",
              "\n",
              "    .dataframe tbody tr th {\n",
              "        vertical-align: top;\n",
              "    }\n",
              "\n",
              "    .dataframe thead th {\n",
              "        text-align: right;\n",
              "    }\n",
              "</style>\n",
              "<table border=\"1\" class=\"dataframe\">\n",
              "  <thead>\n",
              "    <tr style=\"text-align: right;\">\n",
              "      <th></th>\n",
              "      <th>row_id</th>\n",
              "      <th>x</th>\n",
              "      <th>y</th>\n",
              "      <th>direction</th>\n",
              "      <th>congestion</th>\n",
              "      <th>Time</th>\n",
              "      <th>Month</th>\n",
              "      <th>Day</th>\n",
              "      <th>location</th>\n",
              "    </tr>\n",
              "  </thead>\n",
              "  <tbody>\n",
              "    <tr>\n",
              "      <th>0</th>\n",
              "      <td>0</td>\n",
              "      <td>0</td>\n",
              "      <td>0</td>\n",
              "      <td>EB</td>\n",
              "      <td>70</td>\n",
              "      <td>00:00:00</td>\n",
              "      <td>4</td>\n",
              "      <td>1</td>\n",
              "      <td>(0, 0)</td>\n",
              "    </tr>\n",
              "    <tr>\n",
              "      <th>1</th>\n",
              "      <td>1</td>\n",
              "      <td>0</td>\n",
              "      <td>0</td>\n",
              "      <td>NB</td>\n",
              "      <td>49</td>\n",
              "      <td>00:00:00</td>\n",
              "      <td>4</td>\n",
              "      <td>1</td>\n",
              "      <td>(0, 0)</td>\n",
              "    </tr>\n",
              "    <tr>\n",
              "      <th>2</th>\n",
              "      <td>2</td>\n",
              "      <td>0</td>\n",
              "      <td>0</td>\n",
              "      <td>SB</td>\n",
              "      <td>24</td>\n",
              "      <td>00:00:00</td>\n",
              "      <td>4</td>\n",
              "      <td>1</td>\n",
              "      <td>(0, 0)</td>\n",
              "    </tr>\n",
              "    <tr>\n",
              "      <th>3</th>\n",
              "      <td>3</td>\n",
              "      <td>0</td>\n",
              "      <td>1</td>\n",
              "      <td>EB</td>\n",
              "      <td>18</td>\n",
              "      <td>00:00:00</td>\n",
              "      <td>4</td>\n",
              "      <td>1</td>\n",
              "      <td>(0, 1)</td>\n",
              "    </tr>\n",
              "    <tr>\n",
              "      <th>4</th>\n",
              "      <td>4</td>\n",
              "      <td>0</td>\n",
              "      <td>1</td>\n",
              "      <td>NB</td>\n",
              "      <td>60</td>\n",
              "      <td>00:00:00</td>\n",
              "      <td>4</td>\n",
              "      <td>1</td>\n",
              "      <td>(0, 1)</td>\n",
              "    </tr>\n",
              "  </tbody>\n",
              "</table>\n",
              "</div>\n",
              "      <button class=\"colab-df-convert\" onclick=\"convertToInteractive('df-4f92c513-c82e-4c25-88a2-d408a5644ff9')\"\n",
              "              title=\"Convert this dataframe to an interactive table.\"\n",
              "              style=\"display:none;\">\n",
              "        \n",
              "  <svg xmlns=\"http://www.w3.org/2000/svg\" height=\"24px\"viewBox=\"0 0 24 24\"\n",
              "       width=\"24px\">\n",
              "    <path d=\"M0 0h24v24H0V0z\" fill=\"none\"/>\n",
              "    <path d=\"M18.56 5.44l.94 2.06.94-2.06 2.06-.94-2.06-.94-.94-2.06-.94 2.06-2.06.94zm-11 1L8.5 8.5l.94-2.06 2.06-.94-2.06-.94L8.5 2.5l-.94 2.06-2.06.94zm10 10l.94 2.06.94-2.06 2.06-.94-2.06-.94-.94-2.06-.94 2.06-2.06.94z\"/><path d=\"M17.41 7.96l-1.37-1.37c-.4-.4-.92-.59-1.43-.59-.52 0-1.04.2-1.43.59L10.3 9.45l-7.72 7.72c-.78.78-.78 2.05 0 2.83L4 21.41c.39.39.9.59 1.41.59.51 0 1.02-.2 1.41-.59l7.78-7.78 2.81-2.81c.8-.78.8-2.07 0-2.86zM5.41 20L4 18.59l7.72-7.72 1.47 1.35L5.41 20z\"/>\n",
              "  </svg>\n",
              "      </button>\n",
              "      \n",
              "  <style>\n",
              "    .colab-df-container {\n",
              "      display:flex;\n",
              "      flex-wrap:wrap;\n",
              "      gap: 12px;\n",
              "    }\n",
              "\n",
              "    .colab-df-convert {\n",
              "      background-color: #E8F0FE;\n",
              "      border: none;\n",
              "      border-radius: 50%;\n",
              "      cursor: pointer;\n",
              "      display: none;\n",
              "      fill: #1967D2;\n",
              "      height: 32px;\n",
              "      padding: 0 0 0 0;\n",
              "      width: 32px;\n",
              "    }\n",
              "\n",
              "    .colab-df-convert:hover {\n",
              "      background-color: #E2EBFA;\n",
              "      box-shadow: 0px 1px 2px rgba(60, 64, 67, 0.3), 0px 1px 3px 1px rgba(60, 64, 67, 0.15);\n",
              "      fill: #174EA6;\n",
              "    }\n",
              "\n",
              "    [theme=dark] .colab-df-convert {\n",
              "      background-color: #3B4455;\n",
              "      fill: #D2E3FC;\n",
              "    }\n",
              "\n",
              "    [theme=dark] .colab-df-convert:hover {\n",
              "      background-color: #434B5C;\n",
              "      box-shadow: 0px 1px 3px 1px rgba(0, 0, 0, 0.15);\n",
              "      filter: drop-shadow(0px 1px 2px rgba(0, 0, 0, 0.3));\n",
              "      fill: #FFFFFF;\n",
              "    }\n",
              "  </style>\n",
              "\n",
              "      <script>\n",
              "        const buttonEl =\n",
              "          document.querySelector('#df-4f92c513-c82e-4c25-88a2-d408a5644ff9 button.colab-df-convert');\n",
              "        buttonEl.style.display =\n",
              "          google.colab.kernel.accessAllowed ? 'block' : 'none';\n",
              "\n",
              "        async function convertToInteractive(key) {\n",
              "          const element = document.querySelector('#df-4f92c513-c82e-4c25-88a2-d408a5644ff9');\n",
              "          const dataTable =\n",
              "            await google.colab.kernel.invokeFunction('convertToInteractive',\n",
              "                                                     [key], {});\n",
              "          if (!dataTable) return;\n",
              "\n",
              "          const docLinkHtml = 'Like what you see? Visit the ' +\n",
              "            '<a target=\"_blank\" href=https://colab.research.google.com/notebooks/data_table.ipynb>data table notebook</a>'\n",
              "            + ' to learn more about interactive tables.';\n",
              "          element.innerHTML = '';\n",
              "          dataTable['output_type'] = 'display_data';\n",
              "          await google.colab.output.renderOutput(dataTable, element);\n",
              "          const docLink = document.createElement('div');\n",
              "          docLink.innerHTML = docLinkHtml;\n",
              "          element.appendChild(docLink);\n",
              "        }\n",
              "      </script>\n",
              "    </div>\n",
              "  </div>\n",
              "  "
            ],
            "text/plain": [
              "   row_id  x  y direction  congestion      Time  Month  Day location\n",
              "0       0  0  0        EB          70  00:00:00      4    1   (0, 0)\n",
              "1       1  0  0        NB          49  00:00:00      4    1   (0, 0)\n",
              "2       2  0  0        SB          24  00:00:00      4    1   (0, 0)\n",
              "3       3  0  1        EB          18  00:00:00      4    1   (0, 1)\n",
              "4       4  0  1        NB          60  00:00:00      4    1   (0, 1)"
            ]
          },
          "metadata": {},
          "execution_count": 35
        }
      ]
    },
    {
      "cell_type": "code",
      "source": [
        "train_df = train_df_copy.copy() #How the tables have turned :)"
      ],
      "metadata": {
        "id": "qSEruvdNIys_"
      },
<<<<<<< HEAD
      "execution_count": null,
=======
      "execution_count": 36,
>>>>>>> 827112322a66591a34654b99fc95088df37c0dc0
      "outputs": []
    },
    {
      "cell_type": "code",
      "source": [
        "train_df['location'].value_counts(normalize = True)*100"
      ],
      "metadata": {
        "colab": {
          "base_uri": "https://localhost:8080/"
        },
        "id": "RqGKsBZEI5OH",
        "outputId": "4ac17099-8a63-430c-bc01-03d8e6cf55c8"
      },
<<<<<<< HEAD
      "execution_count": null,
=======
      "execution_count": 37,
>>>>>>> 827112322a66591a34654b99fc95088df37c0dc0
      "outputs": [
        {
          "output_type": "execute_result",
          "data": {
            "text/plain": [
              "(2, 1)    12.307692\n",
              "(2, 2)    12.307692\n",
              "(0, 3)     9.230769\n",
              "(1, 0)     9.230769\n",
              "(1, 2)     9.230769\n",
              "(1, 3)     9.230769\n",
              "(2, 3)     9.230769\n",
              "(0, 1)     6.153846\n",
              "(0, 2)     6.153846\n",
              "(1, 1)     6.153846\n",
              "(2, 0)     6.153846\n",
              "(0, 0)     4.615385\n",
              "Name: location, dtype: float64"
            ]
          },
          "metadata": {},
          "execution_count": 37
        }
      ]
    },
    {
      "cell_type": "code",
      "source": [
        "plt.figure(figsize = (12,6))\n",
        "sns.barplot(data = train_df , x = 'location' , y = 'congestion' , estimator = np.mean)\n",
        "plt.show()"
      ],
      "metadata": {
        "colab": {
          "base_uri": "https://localhost:8080/",
          "height": 388
        },
        "id": "TuW0VNR5I69P",
        "outputId": "b8c6e888-89ff-4a46-84c1-8b65ba1fcce0"
      },
<<<<<<< HEAD
      "execution_count": null,
=======
      "execution_count": 38,
>>>>>>> 827112322a66591a34654b99fc95088df37c0dc0
      "outputs": [
        {
          "output_type": "display_data",
          "data": {
            "image/png": "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\n",
            "text/plain": [
              "<Figure size 864x432 with 1 Axes>"
            ]
          },
          "metadata": {
            "needs_background": "light"
          }
        }
      ]
    },
    {
      "cell_type": "markdown",
      "source": [
        "Note : Location would be a better feature than x or y individually"
      ],
      "metadata": {
        "id": "2F871Wj4I6_6"
      }
    },
    {
      "cell_type": "code",
      "source": [
        "train_df.drop(['x' , 'y'] , axis = 1 , inplace = True)\n",
        "train_df.head(10)"
      ],
      "metadata": {
        "colab": {
          "base_uri": "https://localhost:8080/",
          "height": 363
        },
        "id": "clx3rZBMI7LU",
        "outputId": "bcd93a24-780e-436f-e3b4-856b669df188"
      },
<<<<<<< HEAD
      "execution_count": null,
=======
      "execution_count": 39,
>>>>>>> 827112322a66591a34654b99fc95088df37c0dc0
      "outputs": [
        {
          "output_type": "execute_result",
          "data": {
            "text/html": [
              "\n",
              "  <div id=\"df-e840aec1-21a2-4eb8-8bec-e04cf0ad8f4f\">\n",
              "    <div class=\"colab-df-container\">\n",
              "      <div>\n",
              "<style scoped>\n",
              "    .dataframe tbody tr th:only-of-type {\n",
              "        vertical-align: middle;\n",
              "    }\n",
              "\n",
              "    .dataframe tbody tr th {\n",
              "        vertical-align: top;\n",
              "    }\n",
              "\n",
              "    .dataframe thead th {\n",
              "        text-align: right;\n",
              "    }\n",
              "</style>\n",
              "<table border=\"1\" class=\"dataframe\">\n",
              "  <thead>\n",
              "    <tr style=\"text-align: right;\">\n",
              "      <th></th>\n",
              "      <th>row_id</th>\n",
              "      <th>direction</th>\n",
              "      <th>congestion</th>\n",
              "      <th>Time</th>\n",
              "      <th>Month</th>\n",
              "      <th>Day</th>\n",
              "      <th>location</th>\n",
              "    </tr>\n",
              "  </thead>\n",
              "  <tbody>\n",
              "    <tr>\n",
              "      <th>0</th>\n",
              "      <td>0</td>\n",
              "      <td>EB</td>\n",
              "      <td>70</td>\n",
              "      <td>00:00:00</td>\n",
              "      <td>4</td>\n",
              "      <td>1</td>\n",
              "      <td>(0, 0)</td>\n",
              "    </tr>\n",
              "    <tr>\n",
              "      <th>1</th>\n",
              "      <td>1</td>\n",
              "      <td>NB</td>\n",
              "      <td>49</td>\n",
              "      <td>00:00:00</td>\n",
              "      <td>4</td>\n",
              "      <td>1</td>\n",
              "      <td>(0, 0)</td>\n",
              "    </tr>\n",
              "    <tr>\n",
              "      <th>2</th>\n",
              "      <td>2</td>\n",
              "      <td>SB</td>\n",
              "      <td>24</td>\n",
              "      <td>00:00:00</td>\n",
              "      <td>4</td>\n",
              "      <td>1</td>\n",
              "      <td>(0, 0)</td>\n",
              "    </tr>\n",
              "    <tr>\n",
              "      <th>3</th>\n",
              "      <td>3</td>\n",
              "      <td>EB</td>\n",
              "      <td>18</td>\n",
              "      <td>00:00:00</td>\n",
              "      <td>4</td>\n",
              "      <td>1</td>\n",
              "      <td>(0, 1)</td>\n",
              "    </tr>\n",
              "    <tr>\n",
              "      <th>4</th>\n",
              "      <td>4</td>\n",
              "      <td>NB</td>\n",
              "      <td>60</td>\n",
              "      <td>00:00:00</td>\n",
              "      <td>4</td>\n",
              "      <td>1</td>\n",
              "      <td>(0, 1)</td>\n",
              "    </tr>\n",
              "    <tr>\n",
              "      <th>5</th>\n",
              "      <td>5</td>\n",
              "      <td>SB</td>\n",
              "      <td>58</td>\n",
              "      <td>00:00:00</td>\n",
              "      <td>4</td>\n",
              "      <td>1</td>\n",
              "      <td>(0, 1)</td>\n",
              "    </tr>\n",
              "    <tr>\n",
              "      <th>6</th>\n",
              "      <td>6</td>\n",
              "      <td>WB</td>\n",
              "      <td>26</td>\n",
              "      <td>00:00:00</td>\n",
              "      <td>4</td>\n",
              "      <td>1</td>\n",
              "      <td>(0, 1)</td>\n",
              "    </tr>\n",
              "    <tr>\n",
              "      <th>7</th>\n",
              "      <td>7</td>\n",
              "      <td>EB</td>\n",
              "      <td>31</td>\n",
              "      <td>00:00:00</td>\n",
              "      <td>4</td>\n",
              "      <td>1</td>\n",
              "      <td>(0, 2)</td>\n",
              "    </tr>\n",
              "    <tr>\n",
              "      <th>8</th>\n",
              "      <td>8</td>\n",
              "      <td>NB</td>\n",
              "      <td>49</td>\n",
              "      <td>00:00:00</td>\n",
              "      <td>4</td>\n",
              "      <td>1</td>\n",
              "      <td>(0, 2)</td>\n",
              "    </tr>\n",
              "    <tr>\n",
              "      <th>9</th>\n",
              "      <td>9</td>\n",
              "      <td>SB</td>\n",
              "      <td>46</td>\n",
              "      <td>00:00:00</td>\n",
              "      <td>4</td>\n",
              "      <td>1</td>\n",
              "      <td>(0, 2)</td>\n",
              "    </tr>\n",
              "  </tbody>\n",
              "</table>\n",
              "</div>\n",
              "      <button class=\"colab-df-convert\" onclick=\"convertToInteractive('df-e840aec1-21a2-4eb8-8bec-e04cf0ad8f4f')\"\n",
              "              title=\"Convert this dataframe to an interactive table.\"\n",
              "              style=\"display:none;\">\n",
              "        \n",
              "  <svg xmlns=\"http://www.w3.org/2000/svg\" height=\"24px\"viewBox=\"0 0 24 24\"\n",
              "       width=\"24px\">\n",
              "    <path d=\"M0 0h24v24H0V0z\" fill=\"none\"/>\n",
              "    <path d=\"M18.56 5.44l.94 2.06.94-2.06 2.06-.94-2.06-.94-.94-2.06-.94 2.06-2.06.94zm-11 1L8.5 8.5l.94-2.06 2.06-.94-2.06-.94L8.5 2.5l-.94 2.06-2.06.94zm10 10l.94 2.06.94-2.06 2.06-.94-2.06-.94-.94-2.06-.94 2.06-2.06.94z\"/><path d=\"M17.41 7.96l-1.37-1.37c-.4-.4-.92-.59-1.43-.59-.52 0-1.04.2-1.43.59L10.3 9.45l-7.72 7.72c-.78.78-.78 2.05 0 2.83L4 21.41c.39.39.9.59 1.41.59.51 0 1.02-.2 1.41-.59l7.78-7.78 2.81-2.81c.8-.78.8-2.07 0-2.86zM5.41 20L4 18.59l7.72-7.72 1.47 1.35L5.41 20z\"/>\n",
              "  </svg>\n",
              "      </button>\n",
              "      \n",
              "  <style>\n",
              "    .colab-df-container {\n",
              "      display:flex;\n",
              "      flex-wrap:wrap;\n",
              "      gap: 12px;\n",
              "    }\n",
              "\n",
              "    .colab-df-convert {\n",
              "      background-color: #E8F0FE;\n",
              "      border: none;\n",
              "      border-radius: 50%;\n",
              "      cursor: pointer;\n",
              "      display: none;\n",
              "      fill: #1967D2;\n",
              "      height: 32px;\n",
              "      padding: 0 0 0 0;\n",
              "      width: 32px;\n",
              "    }\n",
              "\n",
              "    .colab-df-convert:hover {\n",
              "      background-color: #E2EBFA;\n",
              "      box-shadow: 0px 1px 2px rgba(60, 64, 67, 0.3), 0px 1px 3px 1px rgba(60, 64, 67, 0.15);\n",
              "      fill: #174EA6;\n",
              "    }\n",
              "\n",
              "    [theme=dark] .colab-df-convert {\n",
              "      background-color: #3B4455;\n",
              "      fill: #D2E3FC;\n",
              "    }\n",
              "\n",
              "    [theme=dark] .colab-df-convert:hover {\n",
              "      background-color: #434B5C;\n",
              "      box-shadow: 0px 1px 3px 1px rgba(0, 0, 0, 0.15);\n",
              "      filter: drop-shadow(0px 1px 2px rgba(0, 0, 0, 0.3));\n",
              "      fill: #FFFFFF;\n",
              "    }\n",
              "  </style>\n",
              "\n",
              "      <script>\n",
              "        const buttonEl =\n",
              "          document.querySelector('#df-e840aec1-21a2-4eb8-8bec-e04cf0ad8f4f button.colab-df-convert');\n",
              "        buttonEl.style.display =\n",
              "          google.colab.kernel.accessAllowed ? 'block' : 'none';\n",
              "\n",
              "        async function convertToInteractive(key) {\n",
              "          const element = document.querySelector('#df-e840aec1-21a2-4eb8-8bec-e04cf0ad8f4f');\n",
              "          const dataTable =\n",
              "            await google.colab.kernel.invokeFunction('convertToInteractive',\n",
              "                                                     [key], {});\n",
              "          if (!dataTable) return;\n",
              "\n",
              "          const docLinkHtml = 'Like what you see? Visit the ' +\n",
              "            '<a target=\"_blank\" href=https://colab.research.google.com/notebooks/data_table.ipynb>data table notebook</a>'\n",
              "            + ' to learn more about interactive tables.';\n",
              "          element.innerHTML = '';\n",
              "          dataTable['output_type'] = 'display_data';\n",
              "          await google.colab.output.renderOutput(dataTable, element);\n",
              "          const docLink = document.createElement('div');\n",
              "          docLink.innerHTML = docLinkHtml;\n",
              "          element.appendChild(docLink);\n",
              "        }\n",
              "      </script>\n",
              "    </div>\n",
              "  </div>\n",
              "  "
            ],
            "text/plain": [
              "   row_id direction  congestion      Time  Month  Day location\n",
              "0       0        EB          70  00:00:00      4    1   (0, 0)\n",
              "1       1        NB          49  00:00:00      4    1   (0, 0)\n",
              "2       2        SB          24  00:00:00      4    1   (0, 0)\n",
              "3       3        EB          18  00:00:00      4    1   (0, 1)\n",
              "4       4        NB          60  00:00:00      4    1   (0, 1)\n",
              "5       5        SB          58  00:00:00      4    1   (0, 1)\n",
              "6       6        WB          26  00:00:00      4    1   (0, 1)\n",
              "7       7        EB          31  00:00:00      4    1   (0, 2)\n",
              "8       8        NB          49  00:00:00      4    1   (0, 2)\n",
              "9       9        SB          46  00:00:00      4    1   (0, 2)"
            ]
          },
          "metadata": {},
          "execution_count": 39
        }
      ]
    },
    {
      "cell_type": "code",
      "source": [
        "## Understanding \"Time\" column"
      ],
      "metadata": {
        "id": "K6JMdA8ZI7M0"
      },
<<<<<<< HEAD
      "execution_count": null,
=======
      "execution_count": 40,
>>>>>>> 827112322a66591a34654b99fc95088df37c0dc0
      "outputs": []
    },
    {
      "cell_type": "code",
      "source": [
        "train_df['Time'].unique()"
      ],
      "metadata": {
        "colab": {
          "base_uri": "https://localhost:8080/"
        },
        "id": "i5c40F7tI7OR",
        "outputId": "52ec1b81-4978-48c3-bfbf-d5ad09d53607"
      },
<<<<<<< HEAD
      "execution_count": null,
=======
      "execution_count": 41,
>>>>>>> 827112322a66591a34654b99fc95088df37c0dc0
      "outputs": [
        {
          "output_type": "execute_result",
          "data": {
            "text/plain": [
              "array([datetime.time(0, 0), datetime.time(0, 20), datetime.time(0, 40),\n",
              "       datetime.time(1, 0), datetime.time(1, 20), datetime.time(1, 40),\n",
              "       datetime.time(2, 0), datetime.time(2, 20), datetime.time(2, 40),\n",
              "       datetime.time(3, 0), datetime.time(3, 20), datetime.time(3, 40),\n",
              "       datetime.time(4, 0), datetime.time(4, 20), datetime.time(4, 40),\n",
              "       datetime.time(5, 0), datetime.time(5, 20), datetime.time(5, 40),\n",
              "       datetime.time(6, 0), datetime.time(6, 20), datetime.time(6, 40),\n",
              "       datetime.time(7, 0), datetime.time(7, 20), datetime.time(7, 40),\n",
              "       datetime.time(8, 0), datetime.time(8, 20), datetime.time(8, 40),\n",
              "       datetime.time(9, 0), datetime.time(9, 20), datetime.time(9, 40),\n",
              "       datetime.time(10, 0), datetime.time(10, 20), datetime.time(10, 40),\n",
              "       datetime.time(11, 0), datetime.time(11, 20), datetime.time(11, 40),\n",
              "       datetime.time(12, 0), datetime.time(12, 20), datetime.time(12, 40),\n",
              "       datetime.time(13, 0), datetime.time(13, 20), datetime.time(13, 40),\n",
              "       datetime.time(14, 0), datetime.time(14, 20), datetime.time(14, 40),\n",
              "       datetime.time(15, 0), datetime.time(15, 20), datetime.time(15, 40),\n",
              "       datetime.time(16, 0), datetime.time(16, 20), datetime.time(16, 40),\n",
              "       datetime.time(17, 0), datetime.time(17, 20), datetime.time(17, 40),\n",
              "       datetime.time(18, 0), datetime.time(18, 20), datetime.time(18, 40),\n",
              "       datetime.time(19, 0), datetime.time(19, 20), datetime.time(19, 40),\n",
              "       datetime.time(20, 0), datetime.time(20, 20), datetime.time(20, 40),\n",
              "       datetime.time(21, 0), datetime.time(21, 20), datetime.time(21, 40),\n",
              "       datetime.time(22, 0), datetime.time(22, 20), datetime.time(22, 40),\n",
              "       datetime.time(23, 0), datetime.time(23, 20), datetime.time(23, 40)],\n",
              "      dtype=object)"
            ]
          },
          "metadata": {},
          "execution_count": 41
        }
      ]
    },
    {
      "cell_type": "code",
      "source": [
        "train_df['Time'].dtype"
<<<<<<< HEAD
      ],
      "metadata": {
        "colab": {
          "base_uri": "https://localhost:8080/"
        },
        "id": "Vvxa2TYXI7QA",
        "outputId": "cf4ed945-be09-4ea8-c9ad-839d7d9c271e"
      },
      "execution_count": null,
      "outputs": [
        {
          "output_type": "execute_result",
          "data": {
            "text/plain": [
              "dtype('O')"
            ]
          },
          "metadata": {},
          "execution_count": 42
        }
      ]
    },
    {
      "cell_type": "code",
      "source": [
        "train_df['Time'][0].hour"
      ],
      "metadata": {
        "colab": {
          "base_uri": "https://localhost:8080/"
        },
        "id": "qVY0q4ORI7R2",
        "outputId": "6cde8458-f240-46cb-c3d8-6fecb8ab5f94"
      },
      "execution_count": null,
      "outputs": [
        {
          "output_type": "execute_result",
          "data": {
            "text/plain": [
              "0"
            ]
          },
          "metadata": {},
          "execution_count": 43
        }
      ]
    },
    {
      "cell_type": "code",
      "source": [
        "# Let's check if the 'hour' feature is of any use "
      ],
      "metadata": {
        "id": "f4Dp9WIGI7XY"
      },
      "execution_count": null,
      "outputs": []
    },
    {
      "cell_type": "code",
      "source": [
        "train_df_copy = train_df.copy()\n",
        "\n",
        "train_df_copy['Hour'] = train_df.apply(lambda row : row['Time'].hour , axis = 1)\n",
        "\n",
        "train_df_copy.head()"
=======
>>>>>>> 827112322a66591a34654b99fc95088df37c0dc0
      ],
      "metadata": {
        "colab": {
          "base_uri": "https://localhost:8080/",
          "height": 206
        },
<<<<<<< HEAD
        "id": "_Jncc7cnI7gb",
        "outputId": "d31d88c1-9913-42ed-998c-9b09df9cc187"
      },
      "execution_count": null,
=======
        "id": "Vvxa2TYXI7QA",
        "outputId": "cf4ed945-be09-4ea8-c9ad-839d7d9c271e"
      },
      "execution_count": 42,
>>>>>>> 827112322a66591a34654b99fc95088df37c0dc0
      "outputs": [
        {
          "output_type": "execute_result",
          "data": {
            "text/html": [
              "\n",
              "  <div id=\"df-a3b996fd-a525-48f6-98ff-6d7ece467054\">\n",
              "    <div class=\"colab-df-container\">\n",
              "      <div>\n",
              "<style scoped>\n",
              "    .dataframe tbody tr th:only-of-type {\n",
              "        vertical-align: middle;\n",
              "    }\n",
              "\n",
              "    .dataframe tbody tr th {\n",
              "        vertical-align: top;\n",
              "    }\n",
              "\n",
              "    .dataframe thead th {\n",
              "        text-align: right;\n",
              "    }\n",
              "</style>\n",
              "<table border=\"1\" class=\"dataframe\">\n",
              "  <thead>\n",
              "    <tr style=\"text-align: right;\">\n",
              "      <th></th>\n",
              "      <th>row_id</th>\n",
              "      <th>direction</th>\n",
              "      <th>congestion</th>\n",
              "      <th>Time</th>\n",
              "      <th>Month</th>\n",
              "      <th>Day</th>\n",
              "      <th>location</th>\n",
              "      <th>Hour</th>\n",
              "    </tr>\n",
              "  </thead>\n",
              "  <tbody>\n",
              "    <tr>\n",
              "      <th>0</th>\n",
              "      <td>0</td>\n",
              "      <td>EB</td>\n",
              "      <td>70</td>\n",
              "      <td>00:00:00</td>\n",
              "      <td>4</td>\n",
              "      <td>1</td>\n",
              "      <td>(0, 0)</td>\n",
              "      <td>0</td>\n",
              "    </tr>\n",
              "    <tr>\n",
              "      <th>1</th>\n",
              "      <td>1</td>\n",
              "      <td>NB</td>\n",
              "      <td>49</td>\n",
              "      <td>00:00:00</td>\n",
              "      <td>4</td>\n",
              "      <td>1</td>\n",
              "      <td>(0, 0)</td>\n",
              "      <td>0</td>\n",
              "    </tr>\n",
              "    <tr>\n",
              "      <th>2</th>\n",
              "      <td>2</td>\n",
              "      <td>SB</td>\n",
              "      <td>24</td>\n",
              "      <td>00:00:00</td>\n",
              "      <td>4</td>\n",
              "      <td>1</td>\n",
              "      <td>(0, 0)</td>\n",
              "      <td>0</td>\n",
              "    </tr>\n",
              "    <tr>\n",
              "      <th>3</th>\n",
              "      <td>3</td>\n",
              "      <td>EB</td>\n",
              "      <td>18</td>\n",
              "      <td>00:00:00</td>\n",
              "      <td>4</td>\n",
              "      <td>1</td>\n",
              "      <td>(0, 1)</td>\n",
              "      <td>0</td>\n",
              "    </tr>\n",
              "    <tr>\n",
              "      <th>4</th>\n",
              "      <td>4</td>\n",
              "      <td>NB</td>\n",
              "      <td>60</td>\n",
              "      <td>00:00:00</td>\n",
              "      <td>4</td>\n",
              "      <td>1</td>\n",
              "      <td>(0, 1)</td>\n",
              "      <td>0</td>\n",
              "    </tr>\n",
              "  </tbody>\n",
              "</table>\n",
              "</div>\n",
              "      <button class=\"colab-df-convert\" onclick=\"convertToInteractive('df-a3b996fd-a525-48f6-98ff-6d7ece467054')\"\n",
              "              title=\"Convert this dataframe to an interactive table.\"\n",
              "              style=\"display:none;\">\n",
              "        \n",
              "  <svg xmlns=\"http://www.w3.org/2000/svg\" height=\"24px\"viewBox=\"0 0 24 24\"\n",
              "       width=\"24px\">\n",
              "    <path d=\"M0 0h24v24H0V0z\" fill=\"none\"/>\n",
              "    <path d=\"M18.56 5.44l.94 2.06.94-2.06 2.06-.94-2.06-.94-.94-2.06-.94 2.06-2.06.94zm-11 1L8.5 8.5l.94-2.06 2.06-.94-2.06-.94L8.5 2.5l-.94 2.06-2.06.94zm10 10l.94 2.06.94-2.06 2.06-.94-2.06-.94-.94-2.06-.94 2.06-2.06.94z\"/><path d=\"M17.41 7.96l-1.37-1.37c-.4-.4-.92-.59-1.43-.59-.52 0-1.04.2-1.43.59L10.3 9.45l-7.72 7.72c-.78.78-.78 2.05 0 2.83L4 21.41c.39.39.9.59 1.41.59.51 0 1.02-.2 1.41-.59l7.78-7.78 2.81-2.81c.8-.78.8-2.07 0-2.86zM5.41 20L4 18.59l7.72-7.72 1.47 1.35L5.41 20z\"/>\n",
              "  </svg>\n",
              "      </button>\n",
              "      \n",
              "  <style>\n",
              "    .colab-df-container {\n",
              "      display:flex;\n",
              "      flex-wrap:wrap;\n",
              "      gap: 12px;\n",
              "    }\n",
              "\n",
              "    .colab-df-convert {\n",
              "      background-color: #E8F0FE;\n",
              "      border: none;\n",
              "      border-radius: 50%;\n",
              "      cursor: pointer;\n",
              "      display: none;\n",
              "      fill: #1967D2;\n",
              "      height: 32px;\n",
              "      padding: 0 0 0 0;\n",
              "      width: 32px;\n",
              "    }\n",
              "\n",
              "    .colab-df-convert:hover {\n",
              "      background-color: #E2EBFA;\n",
              "      box-shadow: 0px 1px 2px rgba(60, 64, 67, 0.3), 0px 1px 3px 1px rgba(60, 64, 67, 0.15);\n",
              "      fill: #174EA6;\n",
              "    }\n",
              "\n",
              "    [theme=dark] .colab-df-convert {\n",
              "      background-color: #3B4455;\n",
              "      fill: #D2E3FC;\n",
              "    }\n",
              "\n",
              "    [theme=dark] .colab-df-convert:hover {\n",
              "      background-color: #434B5C;\n",
              "      box-shadow: 0px 1px 3px 1px rgba(0, 0, 0, 0.15);\n",
              "      filter: drop-shadow(0px 1px 2px rgba(0, 0, 0, 0.3));\n",
              "      fill: #FFFFFF;\n",
              "    }\n",
              "  </style>\n",
              "\n",
              "      <script>\n",
              "        const buttonEl =\n",
              "          document.querySelector('#df-a3b996fd-a525-48f6-98ff-6d7ece467054 button.colab-df-convert');\n",
              "        buttonEl.style.display =\n",
              "          google.colab.kernel.accessAllowed ? 'block' : 'none';\n",
              "\n",
              "        async function convertToInteractive(key) {\n",
              "          const element = document.querySelector('#df-a3b996fd-a525-48f6-98ff-6d7ece467054');\n",
              "          const dataTable =\n",
              "            await google.colab.kernel.invokeFunction('convertToInteractive',\n",
              "                                                     [key], {});\n",
              "          if (!dataTable) return;\n",
              "\n",
              "          const docLinkHtml = 'Like what you see? Visit the ' +\n",
              "            '<a target=\"_blank\" href=https://colab.research.google.com/notebooks/data_table.ipynb>data table notebook</a>'\n",
              "            + ' to learn more about interactive tables.';\n",
              "          element.innerHTML = '';\n",
              "          dataTable['output_type'] = 'display_data';\n",
              "          await google.colab.output.renderOutput(dataTable, element);\n",
              "          const docLink = document.createElement('div');\n",
              "          docLink.innerHTML = docLinkHtml;\n",
              "          element.appendChild(docLink);\n",
              "        }\n",
              "      </script>\n",
              "    </div>\n",
              "  </div>\n",
              "  "
            ],
            "text/plain": [
<<<<<<< HEAD
              "   row_id direction  congestion      Time  Month  Day location  Hour\n",
              "0       0        EB          70  00:00:00      4    1   (0, 0)     0\n",
              "1       1        NB          49  00:00:00      4    1   (0, 0)     0\n",
              "2       2        SB          24  00:00:00      4    1   (0, 0)     0\n",
              "3       3        EB          18  00:00:00      4    1   (0, 1)     0\n",
              "4       4        NB          60  00:00:00      4    1   (0, 1)     0"
            ]
          },
          "metadata": {},
          "execution_count": 45
=======
              "dtype('O')"
            ]
          },
          "metadata": {},
          "execution_count": 42
        }
      ]
    },
    {
      "cell_type": "code",
      "source": [
        "train_df['Time'][0].hour"
      ],
      "metadata": {
        "colab": {
          "base_uri": "https://localhost:8080/"
        },
        "id": "qVY0q4ORI7R2",
        "outputId": "6cde8458-f240-46cb-c3d8-6fecb8ab5f94"
      },
      "execution_count": 43,
      "outputs": [
        {
          "output_type": "execute_result",
          "data": {
            "text/plain": [
              "0"
            ]
          },
          "metadata": {},
          "execution_count": 43
        }
      ]
    },
    {
      "cell_type": "code",
      "source": [
        "# Let's check if the 'hour' feature is of any use "
      ],
      "metadata": {
        "id": "f4Dp9WIGI7XY"
      },
      "execution_count": 44,
      "outputs": []
    },
    {
      "cell_type": "code",
      "source": [
        "train_df_copy = train_df.copy()\n",
        "\n",
        "train_df_copy['Hour'] = train_df.apply(lambda row : row['Time'].hour , axis = 1)\n",
        "\n",
        "train_df_copy.head()"
      ],
      "metadata": {
        "colab": {
          "base_uri": "https://localhost:8080/",
          "height": 206
        },
        "id": "_Jncc7cnI7gb",
        "outputId": "d31d88c1-9913-42ed-998c-9b09df9cc187"
      },
      "execution_count": 45,
      "outputs": [
        {
          "output_type": "execute_result",
          "data": {
            "text/html": [
              "\n",
              "  <div id=\"df-a3b996fd-a525-48f6-98ff-6d7ece467054\">\n",
              "    <div class=\"colab-df-container\">\n",
              "      <div>\n",
              "<style scoped>\n",
              "    .dataframe tbody tr th:only-of-type {\n",
              "        vertical-align: middle;\n",
              "    }\n",
              "\n",
              "    .dataframe tbody tr th {\n",
              "        vertical-align: top;\n",
              "    }\n",
              "\n",
              "    .dataframe thead th {\n",
              "        text-align: right;\n",
              "    }\n",
              "</style>\n",
              "<table border=\"1\" class=\"dataframe\">\n",
              "  <thead>\n",
              "    <tr style=\"text-align: right;\">\n",
              "      <th></th>\n",
              "      <th>row_id</th>\n",
              "      <th>direction</th>\n",
              "      <th>congestion</th>\n",
              "      <th>Time</th>\n",
              "      <th>Month</th>\n",
              "      <th>Day</th>\n",
              "      <th>location</th>\n",
              "      <th>Hour</th>\n",
              "    </tr>\n",
              "  </thead>\n",
              "  <tbody>\n",
              "    <tr>\n",
              "      <th>0</th>\n",
              "      <td>0</td>\n",
              "      <td>EB</td>\n",
              "      <td>70</td>\n",
              "      <td>00:00:00</td>\n",
              "      <td>4</td>\n",
              "      <td>1</td>\n",
              "      <td>(0, 0)</td>\n",
              "      <td>0</td>\n",
              "    </tr>\n",
              "    <tr>\n",
              "      <th>1</th>\n",
              "      <td>1</td>\n",
              "      <td>NB</td>\n",
              "      <td>49</td>\n",
              "      <td>00:00:00</td>\n",
              "      <td>4</td>\n",
              "      <td>1</td>\n",
              "      <td>(0, 0)</td>\n",
              "      <td>0</td>\n",
              "    </tr>\n",
              "    <tr>\n",
              "      <th>2</th>\n",
              "      <td>2</td>\n",
              "      <td>SB</td>\n",
              "      <td>24</td>\n",
              "      <td>00:00:00</td>\n",
              "      <td>4</td>\n",
              "      <td>1</td>\n",
              "      <td>(0, 0)</td>\n",
              "      <td>0</td>\n",
              "    </tr>\n",
              "    <tr>\n",
              "      <th>3</th>\n",
              "      <td>3</td>\n",
              "      <td>EB</td>\n",
              "      <td>18</td>\n",
              "      <td>00:00:00</td>\n",
              "      <td>4</td>\n",
              "      <td>1</td>\n",
              "      <td>(0, 1)</td>\n",
              "      <td>0</td>\n",
              "    </tr>\n",
              "    <tr>\n",
              "      <th>4</th>\n",
              "      <td>4</td>\n",
              "      <td>NB</td>\n",
              "      <td>60</td>\n",
              "      <td>00:00:00</td>\n",
              "      <td>4</td>\n",
              "      <td>1</td>\n",
              "      <td>(0, 1)</td>\n",
              "      <td>0</td>\n",
              "    </tr>\n",
              "  </tbody>\n",
              "</table>\n",
              "</div>\n",
              "      <button class=\"colab-df-convert\" onclick=\"convertToInteractive('df-a3b996fd-a525-48f6-98ff-6d7ece467054')\"\n",
              "              title=\"Convert this dataframe to an interactive table.\"\n",
              "              style=\"display:none;\">\n",
              "        \n",
              "  <svg xmlns=\"http://www.w3.org/2000/svg\" height=\"24px\"viewBox=\"0 0 24 24\"\n",
              "       width=\"24px\">\n",
              "    <path d=\"M0 0h24v24H0V0z\" fill=\"none\"/>\n",
              "    <path d=\"M18.56 5.44l.94 2.06.94-2.06 2.06-.94-2.06-.94-.94-2.06-.94 2.06-2.06.94zm-11 1L8.5 8.5l.94-2.06 2.06-.94-2.06-.94L8.5 2.5l-.94 2.06-2.06.94zm10 10l.94 2.06.94-2.06 2.06-.94-2.06-.94-.94-2.06-.94 2.06-2.06.94z\"/><path d=\"M17.41 7.96l-1.37-1.37c-.4-.4-.92-.59-1.43-.59-.52 0-1.04.2-1.43.59L10.3 9.45l-7.72 7.72c-.78.78-.78 2.05 0 2.83L4 21.41c.39.39.9.59 1.41.59.51 0 1.02-.2 1.41-.59l7.78-7.78 2.81-2.81c.8-.78.8-2.07 0-2.86zM5.41 20L4 18.59l7.72-7.72 1.47 1.35L5.41 20z\"/>\n",
              "  </svg>\n",
              "      </button>\n",
              "      \n",
              "  <style>\n",
              "    .colab-df-container {\n",
              "      display:flex;\n",
              "      flex-wrap:wrap;\n",
              "      gap: 12px;\n",
              "    }\n",
              "\n",
              "    .colab-df-convert {\n",
              "      background-color: #E8F0FE;\n",
              "      border: none;\n",
              "      border-radius: 50%;\n",
              "      cursor: pointer;\n",
              "      display: none;\n",
              "      fill: #1967D2;\n",
              "      height: 32px;\n",
              "      padding: 0 0 0 0;\n",
              "      width: 32px;\n",
              "    }\n",
              "\n",
              "    .colab-df-convert:hover {\n",
              "      background-color: #E2EBFA;\n",
              "      box-shadow: 0px 1px 2px rgba(60, 64, 67, 0.3), 0px 1px 3px 1px rgba(60, 64, 67, 0.15);\n",
              "      fill: #174EA6;\n",
              "    }\n",
              "\n",
              "    [theme=dark] .colab-df-convert {\n",
              "      background-color: #3B4455;\n",
              "      fill: #D2E3FC;\n",
              "    }\n",
              "\n",
              "    [theme=dark] .colab-df-convert:hover {\n",
              "      background-color: #434B5C;\n",
              "      box-shadow: 0px 1px 3px 1px rgba(0, 0, 0, 0.15);\n",
              "      filter: drop-shadow(0px 1px 2px rgba(0, 0, 0, 0.3));\n",
              "      fill: #FFFFFF;\n",
              "    }\n",
              "  </style>\n",
              "\n",
              "      <script>\n",
              "        const buttonEl =\n",
              "          document.querySelector('#df-a3b996fd-a525-48f6-98ff-6d7ece467054 button.colab-df-convert');\n",
              "        buttonEl.style.display =\n",
              "          google.colab.kernel.accessAllowed ? 'block' : 'none';\n",
              "\n",
              "        async function convertToInteractive(key) {\n",
              "          const element = document.querySelector('#df-a3b996fd-a525-48f6-98ff-6d7ece467054');\n",
              "          const dataTable =\n",
              "            await google.colab.kernel.invokeFunction('convertToInteractive',\n",
              "                                                     [key], {});\n",
              "          if (!dataTable) return;\n",
              "\n",
              "          const docLinkHtml = 'Like what you see? Visit the ' +\n",
              "            '<a target=\"_blank\" href=https://colab.research.google.com/notebooks/data_table.ipynb>data table notebook</a>'\n",
              "            + ' to learn more about interactive tables.';\n",
              "          element.innerHTML = '';\n",
              "          dataTable['output_type'] = 'display_data';\n",
              "          await google.colab.output.renderOutput(dataTable, element);\n",
              "          const docLink = document.createElement('div');\n",
              "          docLink.innerHTML = docLinkHtml;\n",
              "          element.appendChild(docLink);\n",
              "        }\n",
              "      </script>\n",
              "    </div>\n",
              "  </div>\n",
              "  "
            ],
            "text/plain": [
              "   row_id direction  congestion      Time  Month  Day location  Hour\n",
              "0       0        EB          70  00:00:00      4    1   (0, 0)     0\n",
              "1       1        NB          49  00:00:00      4    1   (0, 0)     0\n",
              "2       2        SB          24  00:00:00      4    1   (0, 0)     0\n",
              "3       3        EB          18  00:00:00      4    1   (0, 1)     0\n",
              "4       4        NB          60  00:00:00      4    1   (0, 1)     0"
            ]
          },
          "metadata": {},
          "execution_count": 45
        }
      ]
    },
    {
      "cell_type": "code",
      "source": [
        "plt.figure(figsize = (12,6))\n",
        "sns.barplot(data = train_df_copy , x = 'Hour' ,y = 'congestion' ,estimator = np.mean)\n",
        "plt.show()"
      ],
      "metadata": {
        "colab": {
          "base_uri": "https://localhost:8080/",
          "height": 388
        },
        "id": "UOTvms_CI7iM",
        "outputId": "a44741f3-4507-4461-bf73-2524171fa65c"
      },
      "execution_count": 46,
      "outputs": [
        {
          "output_type": "display_data",
          "data": {
            "image/png": "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\n",
            "text/plain": [
              "<Figure size 864x432 with 1 Axes>"
            ]
          },
          "metadata": {
            "needs_background": "light"
          }
        }
      ]
    },
    {
      "cell_type": "markdown",
      "source": [
        "Note  : 'Hour' feature will be useful"
      ],
      "metadata": {
        "id": "vSnG5hmoPKxd"
      }
    },
    {
      "cell_type": "code",
      "source": [
        "train_df_copy.drop(['Time'] , axis = 1 , inplace=True)\n",
        "train_df_copy.head()"
      ],
      "metadata": {
        "colab": {
          "base_uri": "https://localhost:8080/",
          "height": 206
        },
        "id": "O1CBj5eoA2o-",
        "outputId": "c85182cb-bd77-450f-eaee-a453b0d8f9fd"
      },
      "execution_count": 47,
      "outputs": [
        {
          "output_type": "execute_result",
          "data": {
            "text/html": [
              "\n",
              "  <div id=\"df-584477cf-4468-4b84-956d-a562c50da089\">\n",
              "    <div class=\"colab-df-container\">\n",
              "      <div>\n",
              "<style scoped>\n",
              "    .dataframe tbody tr th:only-of-type {\n",
              "        vertical-align: middle;\n",
              "    }\n",
              "\n",
              "    .dataframe tbody tr th {\n",
              "        vertical-align: top;\n",
              "    }\n",
              "\n",
              "    .dataframe thead th {\n",
              "        text-align: right;\n",
              "    }\n",
              "</style>\n",
              "<table border=\"1\" class=\"dataframe\">\n",
              "  <thead>\n",
              "    <tr style=\"text-align: right;\">\n",
              "      <th></th>\n",
              "      <th>row_id</th>\n",
              "      <th>direction</th>\n",
              "      <th>congestion</th>\n",
              "      <th>Month</th>\n",
              "      <th>Day</th>\n",
              "      <th>location</th>\n",
              "      <th>Hour</th>\n",
              "    </tr>\n",
              "  </thead>\n",
              "  <tbody>\n",
              "    <tr>\n",
              "      <th>0</th>\n",
              "      <td>0</td>\n",
              "      <td>EB</td>\n",
              "      <td>70</td>\n",
              "      <td>4</td>\n",
              "      <td>1</td>\n",
              "      <td>(0, 0)</td>\n",
              "      <td>0</td>\n",
              "    </tr>\n",
              "    <tr>\n",
              "      <th>1</th>\n",
              "      <td>1</td>\n",
              "      <td>NB</td>\n",
              "      <td>49</td>\n",
              "      <td>4</td>\n",
              "      <td>1</td>\n",
              "      <td>(0, 0)</td>\n",
              "      <td>0</td>\n",
              "    </tr>\n",
              "    <tr>\n",
              "      <th>2</th>\n",
              "      <td>2</td>\n",
              "      <td>SB</td>\n",
              "      <td>24</td>\n",
              "      <td>4</td>\n",
              "      <td>1</td>\n",
              "      <td>(0, 0)</td>\n",
              "      <td>0</td>\n",
              "    </tr>\n",
              "    <tr>\n",
              "      <th>3</th>\n",
              "      <td>3</td>\n",
              "      <td>EB</td>\n",
              "      <td>18</td>\n",
              "      <td>4</td>\n",
              "      <td>1</td>\n",
              "      <td>(0, 1)</td>\n",
              "      <td>0</td>\n",
              "    </tr>\n",
              "    <tr>\n",
              "      <th>4</th>\n",
              "      <td>4</td>\n",
              "      <td>NB</td>\n",
              "      <td>60</td>\n",
              "      <td>4</td>\n",
              "      <td>1</td>\n",
              "      <td>(0, 1)</td>\n",
              "      <td>0</td>\n",
              "    </tr>\n",
              "  </tbody>\n",
              "</table>\n",
              "</div>\n",
              "      <button class=\"colab-df-convert\" onclick=\"convertToInteractive('df-584477cf-4468-4b84-956d-a562c50da089')\"\n",
              "              title=\"Convert this dataframe to an interactive table.\"\n",
              "              style=\"display:none;\">\n",
              "        \n",
              "  <svg xmlns=\"http://www.w3.org/2000/svg\" height=\"24px\"viewBox=\"0 0 24 24\"\n",
              "       width=\"24px\">\n",
              "    <path d=\"M0 0h24v24H0V0z\" fill=\"none\"/>\n",
              "    <path d=\"M18.56 5.44l.94 2.06.94-2.06 2.06-.94-2.06-.94-.94-2.06-.94 2.06-2.06.94zm-11 1L8.5 8.5l.94-2.06 2.06-.94-2.06-.94L8.5 2.5l-.94 2.06-2.06.94zm10 10l.94 2.06.94-2.06 2.06-.94-2.06-.94-.94-2.06-.94 2.06-2.06.94z\"/><path d=\"M17.41 7.96l-1.37-1.37c-.4-.4-.92-.59-1.43-.59-.52 0-1.04.2-1.43.59L10.3 9.45l-7.72 7.72c-.78.78-.78 2.05 0 2.83L4 21.41c.39.39.9.59 1.41.59.51 0 1.02-.2 1.41-.59l7.78-7.78 2.81-2.81c.8-.78.8-2.07 0-2.86zM5.41 20L4 18.59l7.72-7.72 1.47 1.35L5.41 20z\"/>\n",
              "  </svg>\n",
              "      </button>\n",
              "      \n",
              "  <style>\n",
              "    .colab-df-container {\n",
              "      display:flex;\n",
              "      flex-wrap:wrap;\n",
              "      gap: 12px;\n",
              "    }\n",
              "\n",
              "    .colab-df-convert {\n",
              "      background-color: #E8F0FE;\n",
              "      border: none;\n",
              "      border-radius: 50%;\n",
              "      cursor: pointer;\n",
              "      display: none;\n",
              "      fill: #1967D2;\n",
              "      height: 32px;\n",
              "      padding: 0 0 0 0;\n",
              "      width: 32px;\n",
              "    }\n",
              "\n",
              "    .colab-df-convert:hover {\n",
              "      background-color: #E2EBFA;\n",
              "      box-shadow: 0px 1px 2px rgba(60, 64, 67, 0.3), 0px 1px 3px 1px rgba(60, 64, 67, 0.15);\n",
              "      fill: #174EA6;\n",
              "    }\n",
              "\n",
              "    [theme=dark] .colab-df-convert {\n",
              "      background-color: #3B4455;\n",
              "      fill: #D2E3FC;\n",
              "    }\n",
              "\n",
              "    [theme=dark] .colab-df-convert:hover {\n",
              "      background-color: #434B5C;\n",
              "      box-shadow: 0px 1px 3px 1px rgba(0, 0, 0, 0.15);\n",
              "      filter: drop-shadow(0px 1px 2px rgba(0, 0, 0, 0.3));\n",
              "      fill: #FFFFFF;\n",
              "    }\n",
              "  </style>\n",
              "\n",
              "      <script>\n",
              "        const buttonEl =\n",
              "          document.querySelector('#df-584477cf-4468-4b84-956d-a562c50da089 button.colab-df-convert');\n",
              "        buttonEl.style.display =\n",
              "          google.colab.kernel.accessAllowed ? 'block' : 'none';\n",
              "\n",
              "        async function convertToInteractive(key) {\n",
              "          const element = document.querySelector('#df-584477cf-4468-4b84-956d-a562c50da089');\n",
              "          const dataTable =\n",
              "            await google.colab.kernel.invokeFunction('convertToInteractive',\n",
              "                                                     [key], {});\n",
              "          if (!dataTable) return;\n",
              "\n",
              "          const docLinkHtml = 'Like what you see? Visit the ' +\n",
              "            '<a target=\"_blank\" href=https://colab.research.google.com/notebooks/data_table.ipynb>data table notebook</a>'\n",
              "            + ' to learn more about interactive tables.';\n",
              "          element.innerHTML = '';\n",
              "          dataTable['output_type'] = 'display_data';\n",
              "          await google.colab.output.renderOutput(dataTable, element);\n",
              "          const docLink = document.createElement('div');\n",
              "          docLink.innerHTML = docLinkHtml;\n",
              "          element.appendChild(docLink);\n",
              "        }\n",
              "      </script>\n",
              "    </div>\n",
              "  </div>\n",
              "  "
            ],
            "text/plain": [
              "   row_id direction  congestion  Month  Day location  Hour\n",
              "0       0        EB          70      4    1   (0, 0)     0\n",
              "1       1        NB          49      4    1   (0, 0)     0\n",
              "2       2        SB          24      4    1   (0, 0)     0\n",
              "3       3        EB          18      4    1   (0, 1)     0\n",
              "4       4        NB          60      4    1   (0, 1)     0"
            ]
          },
          "metadata": {},
          "execution_count": 47
        }
      ]
    },
    {
      "cell_type": "code",
      "source": [
        "train_df = train_df_copy.copy()"
      ],
      "metadata": {
        "id": "q4MQGw8nA2zU"
      },
      "execution_count": 48,
      "outputs": []
    },
    {
      "cell_type": "code",
      "source": [
        "train_df['location'].nunique()"
      ],
      "metadata": {
        "colab": {
          "base_uri": "https://localhost:8080/"
        },
        "id": "e7R2txB3SvN2",
        "outputId": "1f23bc08-823d-401c-b948-ad12e4b8d22f"
      },
      "execution_count": 49,
      "outputs": [
        {
          "output_type": "execute_result",
          "data": {
            "text/plain": [
              "12"
            ]
          },
          "metadata": {},
          "execution_count": 49
        }
      ]
    },
    {
      "cell_type": "markdown",
      "source": [
        "### Feature Engineering is Done :)"
      ],
      "metadata": {
        "id": "BQi6lEhRA20t"
      }
    },
    {
      "cell_type": "markdown",
      "source": [
        "Stuff to be done -> 1) Check for missing values\n",
        "                    2) Normalization\n",
        "                    3) One-hot encoding for direction and location"
      ],
      "metadata": {
        "id": "lFzV4e6EA213"
      }
    },
    {
      "cell_type": "code",
      "source": [
        "train_df.isnull().sum()"
      ],
      "metadata": {
        "colab": {
          "base_uri": "https://localhost:8080/"
        },
        "id": "RWq5ltI8A233",
        "outputId": "8b9e77ae-31ef-43e6-d31c-27fea4ba9c12"
      },
      "execution_count": 50,
      "outputs": [
        {
          "output_type": "execute_result",
          "data": {
            "text/plain": [
              "row_id        0\n",
              "direction     0\n",
              "congestion    0\n",
              "Month         0\n",
              "Day           0\n",
              "location      0\n",
              "Hour          0\n",
              "dtype: int64"
            ]
          },
          "metadata": {},
          "execution_count": 50
        }
      ]
    },
    {
      "cell_type": "markdown",
      "source": [
        "Note :  No missing values "
      ],
      "metadata": {
        "id": "6hpuDtlbA2_c"
      }
    },
    {
      "cell_type": "code",
      "source": [
        "X = train_df.drop(['congestion'] , axis = 1)\n",
        "y = train_df['congestion']"
      ],
      "metadata": {
        "id": "jY6w7WuCcP3B"
      },
      "execution_count": 51,
      "outputs": []
    },
    {
      "cell_type": "markdown",
      "source": [
        "x-x-x-x-x-x-x-x-x-x-x-x-x-x-x-x-x-x-x-x-x-x-x-x-x"
      ],
      "metadata": {
        "id": "2U6il8kHaHv-"
      }
    },
    {
      "cell_type": "markdown",
      "source": [
        "Columns to be normalized = ['congestion' , 'Month' , 'Day' , 'Hour']\n",
        "\n",
        "\n",
        "Columns to be encoded = ['direction' , 'location']"
      ],
      "metadata": {
        "id": "r5U1wPV1A3A3"
      }
    },
    {
      "cell_type": "markdown",
      "source": [
        "## One-Hot Encoding"
      ],
      "metadata": {
        "id": "tp5GkaLlbEa6"
      }
    },
    {
      "cell_type": "code",
      "source": [
        "X_encoded = pd.get_dummies(data = X )\n",
        "X_encoded.head()"
      ],
      "metadata": {
        "colab": {
          "base_uri": "https://localhost:8080/",
          "height": 317
        },
        "id": "J6TPXL1OA3JB",
        "outputId": "861f4e2b-90de-44a1-e870-b3d9fa480e13"
      },
      "execution_count": 52,
      "outputs": [
        {
          "output_type": "execute_result",
          "data": {
            "text/html": [
              "\n",
              "  <div id=\"df-c7859992-6fe3-4daa-b8cb-6ab03920a48f\">\n",
              "    <div class=\"colab-df-container\">\n",
              "      <div>\n",
              "<style scoped>\n",
              "    .dataframe tbody tr th:only-of-type {\n",
              "        vertical-align: middle;\n",
              "    }\n",
              "\n",
              "    .dataframe tbody tr th {\n",
              "        vertical-align: top;\n",
              "    }\n",
              "\n",
              "    .dataframe thead th {\n",
              "        text-align: right;\n",
              "    }\n",
              "</style>\n",
              "<table border=\"1\" class=\"dataframe\">\n",
              "  <thead>\n",
              "    <tr style=\"text-align: right;\">\n",
              "      <th></th>\n",
              "      <th>row_id</th>\n",
              "      <th>Month</th>\n",
              "      <th>Day</th>\n",
              "      <th>Hour</th>\n",
              "      <th>direction_EB</th>\n",
              "      <th>direction_NB</th>\n",
              "      <th>direction_NE</th>\n",
              "      <th>direction_NW</th>\n",
              "      <th>direction_SB</th>\n",
              "      <th>direction_SE</th>\n",
              "      <th>...</th>\n",
              "      <th>location_(0, 2)</th>\n",
              "      <th>location_(0, 3)</th>\n",
              "      <th>location_(1, 0)</th>\n",
              "      <th>location_(1, 1)</th>\n",
              "      <th>location_(1, 2)</th>\n",
              "      <th>location_(1, 3)</th>\n",
              "      <th>location_(2, 0)</th>\n",
              "      <th>location_(2, 1)</th>\n",
              "      <th>location_(2, 2)</th>\n",
              "      <th>location_(2, 3)</th>\n",
              "    </tr>\n",
              "  </thead>\n",
              "  <tbody>\n",
              "    <tr>\n",
              "      <th>0</th>\n",
              "      <td>0</td>\n",
              "      <td>4</td>\n",
              "      <td>1</td>\n",
              "      <td>0</td>\n",
              "      <td>1</td>\n",
              "      <td>0</td>\n",
              "      <td>0</td>\n",
              "      <td>0</td>\n",
              "      <td>0</td>\n",
              "      <td>0</td>\n",
              "      <td>...</td>\n",
              "      <td>0</td>\n",
              "      <td>0</td>\n",
              "      <td>0</td>\n",
              "      <td>0</td>\n",
              "      <td>0</td>\n",
              "      <td>0</td>\n",
              "      <td>0</td>\n",
              "      <td>0</td>\n",
              "      <td>0</td>\n",
              "      <td>0</td>\n",
              "    </tr>\n",
              "    <tr>\n",
              "      <th>1</th>\n",
              "      <td>1</td>\n",
              "      <td>4</td>\n",
              "      <td>1</td>\n",
              "      <td>0</td>\n",
              "      <td>0</td>\n",
              "      <td>1</td>\n",
              "      <td>0</td>\n",
              "      <td>0</td>\n",
              "      <td>0</td>\n",
              "      <td>0</td>\n",
              "      <td>...</td>\n",
              "      <td>0</td>\n",
              "      <td>0</td>\n",
              "      <td>0</td>\n",
              "      <td>0</td>\n",
              "      <td>0</td>\n",
              "      <td>0</td>\n",
              "      <td>0</td>\n",
              "      <td>0</td>\n",
              "      <td>0</td>\n",
              "      <td>0</td>\n",
              "    </tr>\n",
              "    <tr>\n",
              "      <th>2</th>\n",
              "      <td>2</td>\n",
              "      <td>4</td>\n",
              "      <td>1</td>\n",
              "      <td>0</td>\n",
              "      <td>0</td>\n",
              "      <td>0</td>\n",
              "      <td>0</td>\n",
              "      <td>0</td>\n",
              "      <td>1</td>\n",
              "      <td>0</td>\n",
              "      <td>...</td>\n",
              "      <td>0</td>\n",
              "      <td>0</td>\n",
              "      <td>0</td>\n",
              "      <td>0</td>\n",
              "      <td>0</td>\n",
              "      <td>0</td>\n",
              "      <td>0</td>\n",
              "      <td>0</td>\n",
              "      <td>0</td>\n",
              "      <td>0</td>\n",
              "    </tr>\n",
              "    <tr>\n",
              "      <th>3</th>\n",
              "      <td>3</td>\n",
              "      <td>4</td>\n",
              "      <td>1</td>\n",
              "      <td>0</td>\n",
              "      <td>1</td>\n",
              "      <td>0</td>\n",
              "      <td>0</td>\n",
              "      <td>0</td>\n",
              "      <td>0</td>\n",
              "      <td>0</td>\n",
              "      <td>...</td>\n",
              "      <td>0</td>\n",
              "      <td>0</td>\n",
              "      <td>0</td>\n",
              "      <td>0</td>\n",
              "      <td>0</td>\n",
              "      <td>0</td>\n",
              "      <td>0</td>\n",
              "      <td>0</td>\n",
              "      <td>0</td>\n",
              "      <td>0</td>\n",
              "    </tr>\n",
              "    <tr>\n",
              "      <th>4</th>\n",
              "      <td>4</td>\n",
              "      <td>4</td>\n",
              "      <td>1</td>\n",
              "      <td>0</td>\n",
              "      <td>0</td>\n",
              "      <td>1</td>\n",
              "      <td>0</td>\n",
              "      <td>0</td>\n",
              "      <td>0</td>\n",
              "      <td>0</td>\n",
              "      <td>...</td>\n",
              "      <td>0</td>\n",
              "      <td>0</td>\n",
              "      <td>0</td>\n",
              "      <td>0</td>\n",
              "      <td>0</td>\n",
              "      <td>0</td>\n",
              "      <td>0</td>\n",
              "      <td>0</td>\n",
              "      <td>0</td>\n",
              "      <td>0</td>\n",
              "    </tr>\n",
              "  </tbody>\n",
              "</table>\n",
              "<p>5 rows × 24 columns</p>\n",
              "</div>\n",
              "      <button class=\"colab-df-convert\" onclick=\"convertToInteractive('df-c7859992-6fe3-4daa-b8cb-6ab03920a48f')\"\n",
              "              title=\"Convert this dataframe to an interactive table.\"\n",
              "              style=\"display:none;\">\n",
              "        \n",
              "  <svg xmlns=\"http://www.w3.org/2000/svg\" height=\"24px\"viewBox=\"0 0 24 24\"\n",
              "       width=\"24px\">\n",
              "    <path d=\"M0 0h24v24H0V0z\" fill=\"none\"/>\n",
              "    <path d=\"M18.56 5.44l.94 2.06.94-2.06 2.06-.94-2.06-.94-.94-2.06-.94 2.06-2.06.94zm-11 1L8.5 8.5l.94-2.06 2.06-.94-2.06-.94L8.5 2.5l-.94 2.06-2.06.94zm10 10l.94 2.06.94-2.06 2.06-.94-2.06-.94-.94-2.06-.94 2.06-2.06.94z\"/><path d=\"M17.41 7.96l-1.37-1.37c-.4-.4-.92-.59-1.43-.59-.52 0-1.04.2-1.43.59L10.3 9.45l-7.72 7.72c-.78.78-.78 2.05 0 2.83L4 21.41c.39.39.9.59 1.41.59.51 0 1.02-.2 1.41-.59l7.78-7.78 2.81-2.81c.8-.78.8-2.07 0-2.86zM5.41 20L4 18.59l7.72-7.72 1.47 1.35L5.41 20z\"/>\n",
              "  </svg>\n",
              "      </button>\n",
              "      \n",
              "  <style>\n",
              "    .colab-df-container {\n",
              "      display:flex;\n",
              "      flex-wrap:wrap;\n",
              "      gap: 12px;\n",
              "    }\n",
              "\n",
              "    .colab-df-convert {\n",
              "      background-color: #E8F0FE;\n",
              "      border: none;\n",
              "      border-radius: 50%;\n",
              "      cursor: pointer;\n",
              "      display: none;\n",
              "      fill: #1967D2;\n",
              "      height: 32px;\n",
              "      padding: 0 0 0 0;\n",
              "      width: 32px;\n",
              "    }\n",
              "\n",
              "    .colab-df-convert:hover {\n",
              "      background-color: #E2EBFA;\n",
              "      box-shadow: 0px 1px 2px rgba(60, 64, 67, 0.3), 0px 1px 3px 1px rgba(60, 64, 67, 0.15);\n",
              "      fill: #174EA6;\n",
              "    }\n",
              "\n",
              "    [theme=dark] .colab-df-convert {\n",
              "      background-color: #3B4455;\n",
              "      fill: #D2E3FC;\n",
              "    }\n",
              "\n",
              "    [theme=dark] .colab-df-convert:hover {\n",
              "      background-color: #434B5C;\n",
              "      box-shadow: 0px 1px 3px 1px rgba(0, 0, 0, 0.15);\n",
              "      filter: drop-shadow(0px 1px 2px rgba(0, 0, 0, 0.3));\n",
              "      fill: #FFFFFF;\n",
              "    }\n",
              "  </style>\n",
              "\n",
              "      <script>\n",
              "        const buttonEl =\n",
              "          document.querySelector('#df-c7859992-6fe3-4daa-b8cb-6ab03920a48f button.colab-df-convert');\n",
              "        buttonEl.style.display =\n",
              "          google.colab.kernel.accessAllowed ? 'block' : 'none';\n",
              "\n",
              "        async function convertToInteractive(key) {\n",
              "          const element = document.querySelector('#df-c7859992-6fe3-4daa-b8cb-6ab03920a48f');\n",
              "          const dataTable =\n",
              "            await google.colab.kernel.invokeFunction('convertToInteractive',\n",
              "                                                     [key], {});\n",
              "          if (!dataTable) return;\n",
              "\n",
              "          const docLinkHtml = 'Like what you see? Visit the ' +\n",
              "            '<a target=\"_blank\" href=https://colab.research.google.com/notebooks/data_table.ipynb>data table notebook</a>'\n",
              "            + ' to learn more about interactive tables.';\n",
              "          element.innerHTML = '';\n",
              "          dataTable['output_type'] = 'display_data';\n",
              "          await google.colab.output.renderOutput(dataTable, element);\n",
              "          const docLink = document.createElement('div');\n",
              "          docLink.innerHTML = docLinkHtml;\n",
              "          element.appendChild(docLink);\n",
              "        }\n",
              "      </script>\n",
              "    </div>\n",
              "  </div>\n",
              "  "
            ],
            "text/plain": [
              "   row_id  Month  Day  Hour  direction_EB  direction_NB  direction_NE  \\\n",
              "0       0      4    1     0             1             0             0   \n",
              "1       1      4    1     0             0             1             0   \n",
              "2       2      4    1     0             0             0             0   \n",
              "3       3      4    1     0             1             0             0   \n",
              "4       4      4    1     0             0             1             0   \n",
              "\n",
              "   direction_NW  direction_SB  direction_SE  ...  location_(0, 2)  \\\n",
              "0             0             0             0  ...                0   \n",
              "1             0             0             0  ...                0   \n",
              "2             0             1             0  ...                0   \n",
              "3             0             0             0  ...                0   \n",
              "4             0             0             0  ...                0   \n",
              "\n",
              "   location_(0, 3)  location_(1, 0)  location_(1, 1)  location_(1, 2)  \\\n",
              "0                0                0                0                0   \n",
              "1                0                0                0                0   \n",
              "2                0                0                0                0   \n",
              "3                0                0                0                0   \n",
              "4                0                0                0                0   \n",
              "\n",
              "   location_(1, 3)  location_(2, 0)  location_(2, 1)  location_(2, 2)  \\\n",
              "0                0                0                0                0   \n",
              "1                0                0                0                0   \n",
              "2                0                0                0                0   \n",
              "3                0                0                0                0   \n",
              "4                0                0                0                0   \n",
              "\n",
              "   location_(2, 3)  \n",
              "0                0  \n",
              "1                0  \n",
              "2                0  \n",
              "3                0  \n",
              "4                0  \n",
              "\n",
              "[5 rows x 24 columns]"
            ]
          },
          "metadata": {},
          "execution_count": 52
        }
      ]
    },
    {
      "cell_type": "code",
      "source": [
        "X_encoded.drop(['Month' , 'Day' , 'Hour'] , axis = 1 , inplace = True)\n",
        "X_encoded.head()"
      ],
      "metadata": {
        "colab": {
          "base_uri": "https://localhost:8080/",
          "height": 317
        },
        "id": "YDK6lPs9czgn",
        "outputId": "0726dfcd-bb23-4b2e-ee16-65581b2251fd"
      },
      "execution_count": 53,
      "outputs": [
        {
          "output_type": "execute_result",
          "data": {
            "text/html": [
              "\n",
              "  <div id=\"df-bc81334c-6664-43fd-9930-36ae23a4020c\">\n",
              "    <div class=\"colab-df-container\">\n",
              "      <div>\n",
              "<style scoped>\n",
              "    .dataframe tbody tr th:only-of-type {\n",
              "        vertical-align: middle;\n",
              "    }\n",
              "\n",
              "    .dataframe tbody tr th {\n",
              "        vertical-align: top;\n",
              "    }\n",
              "\n",
              "    .dataframe thead th {\n",
              "        text-align: right;\n",
              "    }\n",
              "</style>\n",
              "<table border=\"1\" class=\"dataframe\">\n",
              "  <thead>\n",
              "    <tr style=\"text-align: right;\">\n",
              "      <th></th>\n",
              "      <th>row_id</th>\n",
              "      <th>direction_EB</th>\n",
              "      <th>direction_NB</th>\n",
              "      <th>direction_NE</th>\n",
              "      <th>direction_NW</th>\n",
              "      <th>direction_SB</th>\n",
              "      <th>direction_SE</th>\n",
              "      <th>direction_SW</th>\n",
              "      <th>direction_WB</th>\n",
              "      <th>location_(0, 0)</th>\n",
              "      <th>...</th>\n",
              "      <th>location_(0, 2)</th>\n",
              "      <th>location_(0, 3)</th>\n",
              "      <th>location_(1, 0)</th>\n",
              "      <th>location_(1, 1)</th>\n",
              "      <th>location_(1, 2)</th>\n",
              "      <th>location_(1, 3)</th>\n",
              "      <th>location_(2, 0)</th>\n",
              "      <th>location_(2, 1)</th>\n",
              "      <th>location_(2, 2)</th>\n",
              "      <th>location_(2, 3)</th>\n",
              "    </tr>\n",
              "  </thead>\n",
              "  <tbody>\n",
              "    <tr>\n",
              "      <th>0</th>\n",
              "      <td>0</td>\n",
              "      <td>1</td>\n",
              "      <td>0</td>\n",
              "      <td>0</td>\n",
              "      <td>0</td>\n",
              "      <td>0</td>\n",
              "      <td>0</td>\n",
              "      <td>0</td>\n",
              "      <td>0</td>\n",
              "      <td>1</td>\n",
              "      <td>...</td>\n",
              "      <td>0</td>\n",
              "      <td>0</td>\n",
              "      <td>0</td>\n",
              "      <td>0</td>\n",
              "      <td>0</td>\n",
              "      <td>0</td>\n",
              "      <td>0</td>\n",
              "      <td>0</td>\n",
              "      <td>0</td>\n",
              "      <td>0</td>\n",
              "    </tr>\n",
              "    <tr>\n",
              "      <th>1</th>\n",
              "      <td>1</td>\n",
              "      <td>0</td>\n",
              "      <td>1</td>\n",
              "      <td>0</td>\n",
              "      <td>0</td>\n",
              "      <td>0</td>\n",
              "      <td>0</td>\n",
              "      <td>0</td>\n",
              "      <td>0</td>\n",
              "      <td>1</td>\n",
              "      <td>...</td>\n",
              "      <td>0</td>\n",
              "      <td>0</td>\n",
              "      <td>0</td>\n",
              "      <td>0</td>\n",
              "      <td>0</td>\n",
              "      <td>0</td>\n",
              "      <td>0</td>\n",
              "      <td>0</td>\n",
              "      <td>0</td>\n",
              "      <td>0</td>\n",
              "    </tr>\n",
              "    <tr>\n",
              "      <th>2</th>\n",
              "      <td>2</td>\n",
              "      <td>0</td>\n",
              "      <td>0</td>\n",
              "      <td>0</td>\n",
              "      <td>0</td>\n",
              "      <td>1</td>\n",
              "      <td>0</td>\n",
              "      <td>0</td>\n",
              "      <td>0</td>\n",
              "      <td>1</td>\n",
              "      <td>...</td>\n",
              "      <td>0</td>\n",
              "      <td>0</td>\n",
              "      <td>0</td>\n",
              "      <td>0</td>\n",
              "      <td>0</td>\n",
              "      <td>0</td>\n",
              "      <td>0</td>\n",
              "      <td>0</td>\n",
              "      <td>0</td>\n",
              "      <td>0</td>\n",
              "    </tr>\n",
              "    <tr>\n",
              "      <th>3</th>\n",
              "      <td>3</td>\n",
              "      <td>1</td>\n",
              "      <td>0</td>\n",
              "      <td>0</td>\n",
              "      <td>0</td>\n",
              "      <td>0</td>\n",
              "      <td>0</td>\n",
              "      <td>0</td>\n",
              "      <td>0</td>\n",
              "      <td>0</td>\n",
              "      <td>...</td>\n",
              "      <td>0</td>\n",
              "      <td>0</td>\n",
              "      <td>0</td>\n",
              "      <td>0</td>\n",
              "      <td>0</td>\n",
              "      <td>0</td>\n",
              "      <td>0</td>\n",
              "      <td>0</td>\n",
              "      <td>0</td>\n",
              "      <td>0</td>\n",
              "    </tr>\n",
              "    <tr>\n",
              "      <th>4</th>\n",
              "      <td>4</td>\n",
              "      <td>0</td>\n",
              "      <td>1</td>\n",
              "      <td>0</td>\n",
              "      <td>0</td>\n",
              "      <td>0</td>\n",
              "      <td>0</td>\n",
              "      <td>0</td>\n",
              "      <td>0</td>\n",
              "      <td>0</td>\n",
              "      <td>...</td>\n",
              "      <td>0</td>\n",
              "      <td>0</td>\n",
              "      <td>0</td>\n",
              "      <td>0</td>\n",
              "      <td>0</td>\n",
              "      <td>0</td>\n",
              "      <td>0</td>\n",
              "      <td>0</td>\n",
              "      <td>0</td>\n",
              "      <td>0</td>\n",
              "    </tr>\n",
              "  </tbody>\n",
              "</table>\n",
              "<p>5 rows × 21 columns</p>\n",
              "</div>\n",
              "      <button class=\"colab-df-convert\" onclick=\"convertToInteractive('df-bc81334c-6664-43fd-9930-36ae23a4020c')\"\n",
              "              title=\"Convert this dataframe to an interactive table.\"\n",
              "              style=\"display:none;\">\n",
              "        \n",
              "  <svg xmlns=\"http://www.w3.org/2000/svg\" height=\"24px\"viewBox=\"0 0 24 24\"\n",
              "       width=\"24px\">\n",
              "    <path d=\"M0 0h24v24H0V0z\" fill=\"none\"/>\n",
              "    <path d=\"M18.56 5.44l.94 2.06.94-2.06 2.06-.94-2.06-.94-.94-2.06-.94 2.06-2.06.94zm-11 1L8.5 8.5l.94-2.06 2.06-.94-2.06-.94L8.5 2.5l-.94 2.06-2.06.94zm10 10l.94 2.06.94-2.06 2.06-.94-2.06-.94-.94-2.06-.94 2.06-2.06.94z\"/><path d=\"M17.41 7.96l-1.37-1.37c-.4-.4-.92-.59-1.43-.59-.52 0-1.04.2-1.43.59L10.3 9.45l-7.72 7.72c-.78.78-.78 2.05 0 2.83L4 21.41c.39.39.9.59 1.41.59.51 0 1.02-.2 1.41-.59l7.78-7.78 2.81-2.81c.8-.78.8-2.07 0-2.86zM5.41 20L4 18.59l7.72-7.72 1.47 1.35L5.41 20z\"/>\n",
              "  </svg>\n",
              "      </button>\n",
              "      \n",
              "  <style>\n",
              "    .colab-df-container {\n",
              "      display:flex;\n",
              "      flex-wrap:wrap;\n",
              "      gap: 12px;\n",
              "    }\n",
              "\n",
              "    .colab-df-convert {\n",
              "      background-color: #E8F0FE;\n",
              "      border: none;\n",
              "      border-radius: 50%;\n",
              "      cursor: pointer;\n",
              "      display: none;\n",
              "      fill: #1967D2;\n",
              "      height: 32px;\n",
              "      padding: 0 0 0 0;\n",
              "      width: 32px;\n",
              "    }\n",
              "\n",
              "    .colab-df-convert:hover {\n",
              "      background-color: #E2EBFA;\n",
              "      box-shadow: 0px 1px 2px rgba(60, 64, 67, 0.3), 0px 1px 3px 1px rgba(60, 64, 67, 0.15);\n",
              "      fill: #174EA6;\n",
              "    }\n",
              "\n",
              "    [theme=dark] .colab-df-convert {\n",
              "      background-color: #3B4455;\n",
              "      fill: #D2E3FC;\n",
              "    }\n",
              "\n",
              "    [theme=dark] .colab-df-convert:hover {\n",
              "      background-color: #434B5C;\n",
              "      box-shadow: 0px 1px 3px 1px rgba(0, 0, 0, 0.15);\n",
              "      filter: drop-shadow(0px 1px 2px rgba(0, 0, 0, 0.3));\n",
              "      fill: #FFFFFF;\n",
              "    }\n",
              "  </style>\n",
              "\n",
              "      <script>\n",
              "        const buttonEl =\n",
              "          document.querySelector('#df-bc81334c-6664-43fd-9930-36ae23a4020c button.colab-df-convert');\n",
              "        buttonEl.style.display =\n",
              "          google.colab.kernel.accessAllowed ? 'block' : 'none';\n",
              "\n",
              "        async function convertToInteractive(key) {\n",
              "          const element = document.querySelector('#df-bc81334c-6664-43fd-9930-36ae23a4020c');\n",
              "          const dataTable =\n",
              "            await google.colab.kernel.invokeFunction('convertToInteractive',\n",
              "                                                     [key], {});\n",
              "          if (!dataTable) return;\n",
              "\n",
              "          const docLinkHtml = 'Like what you see? Visit the ' +\n",
              "            '<a target=\"_blank\" href=https://colab.research.google.com/notebooks/data_table.ipynb>data table notebook</a>'\n",
              "            + ' to learn more about interactive tables.';\n",
              "          element.innerHTML = '';\n",
              "          dataTable['output_type'] = 'display_data';\n",
              "          await google.colab.output.renderOutput(dataTable, element);\n",
              "          const docLink = document.createElement('div');\n",
              "          docLink.innerHTML = docLinkHtml;\n",
              "          element.appendChild(docLink);\n",
              "        }\n",
              "      </script>\n",
              "    </div>\n",
              "  </div>\n",
              "  "
            ],
            "text/plain": [
              "   row_id  direction_EB  direction_NB  direction_NE  direction_NW  \\\n",
              "0       0             1             0             0             0   \n",
              "1       1             0             1             0             0   \n",
              "2       2             0             0             0             0   \n",
              "3       3             1             0             0             0   \n",
              "4       4             0             1             0             0   \n",
              "\n",
              "   direction_SB  direction_SE  direction_SW  direction_WB  location_(0, 0)  \\\n",
              "0             0             0             0             0                1   \n",
              "1             0             0             0             0                1   \n",
              "2             1             0             0             0                1   \n",
              "3             0             0             0             0                0   \n",
              "4             0             0             0             0                0   \n",
              "\n",
              "   ...  location_(0, 2)  location_(0, 3)  location_(1, 0)  location_(1, 1)  \\\n",
              "0  ...                0                0                0                0   \n",
              "1  ...                0                0                0                0   \n",
              "2  ...                0                0                0                0   \n",
              "3  ...                0                0                0                0   \n",
              "4  ...                0                0                0                0   \n",
              "\n",
              "   location_(1, 2)  location_(1, 3)  location_(2, 0)  location_(2, 1)  \\\n",
              "0                0                0                0                0   \n",
              "1                0                0                0                0   \n",
              "2                0                0                0                0   \n",
              "3                0                0                0                0   \n",
              "4                0                0                0                0   \n",
              "\n",
              "   location_(2, 2)  location_(2, 3)  \n",
              "0                0                0  \n",
              "1                0                0  \n",
              "2                0                0  \n",
              "3                0                0  \n",
              "4                0                0  \n",
              "\n",
              "[5 rows x 21 columns]"
            ]
          },
          "metadata": {},
          "execution_count": 53
>>>>>>> 827112322a66591a34654b99fc95088df37c0dc0
        }
      ]
    },
    {
      "cell_type": "code",
      "source": [
        "plt.figure(figsize = (12,6))\n",
        "sns.barplot(data = train_df_copy , x = 'Hour' ,y = 'congestion' ,estimator = np.mean)\n",
        "plt.show()"
      ],
      "metadata": {
<<<<<<< HEAD
        "colab": {
          "base_uri": "https://localhost:8080/",
          "height": 388
        },
        "id": "UOTvms_CI7iM",
        "outputId": "a44741f3-4507-4461-bf73-2524171fa65c"
      },
      "execution_count": null,
      "outputs": [
        {
          "output_type": "display_data",
          "data": {
            "image/png": "iVBORw0KGgoAAAANSUhEUgAAAs0AAAFzCAYAAADFZzQZAAAABHNCSVQICAgIfAhkiAAAAAlwSFlzAAALEgAACxIB0t1+/AAAADh0RVh0U29mdHdhcmUAbWF0cGxvdGxpYiB2ZXJzaW9uMy4yLjIsIGh0dHA6Ly9tYXRwbG90bGliLm9yZy+WH4yJAAAevElEQVR4nO3de9Akd1kv8O+TbCK5QkI2F0hwEQGlLLktSAS5JIrhlgQICAeoALHi4YhykxjglAe1qANBUNFTSCRABIRgIBCQW4wBPB5ENjFAIMjNINlkswvktoCBhN/5Y3rju+vudu/u9Lyzs59P1VRP93TP88y7+/Z839/0dFdrLQAAwLbttdwNAADAvBOaAQCgh9AMAAA9hGYAAOghNAMAQA+hGQAAeqxY7gaGOOyww9qqVauWuw0AABbYpZde+u3W2sqtPbZbhOZVq1ZlzZo1y90GAAALrKq+ua3HHJ4BAAA9hGYAAOghNAMAQA+hGQAAegjNAADQQ2gGAIAeQjMAAPQQmgEAoIfQDAAAPYRmAADoITQDAEAPoRkAAHqsWO4GAIDdzxlnnJF169blyCOPzFlnnbXc7cDohGYAYIetW7cua9euXe42YGaEZgBYANMa+X3z+9YPWu+mjbfdPh2yza8/6fCd7gnmgdAMAAvAyC+MS2gGgBFMa+T3ty/41qD1Nmy89fbpkG3e8MRjdrqnJDng4JWbTWHRCc0AMIJFH/l91IkvX+4WYKaEZgDYAae897JB69248ZYkybUbbxm0zflPfsAu9bXPwYdtNgWmS2gGgAWw6qSXLncLsNBc3AQAAHoYaQaAEex10CGbTYHdm9AMACM46MTTl7sFYIqEZgD2CC77DOwKoRmAPcKinwJu0fmjh+UmNAOwWzv5/IsHrbdx4w+SJNds/MHgbd5/yvE73RfT5Y8elpvQDAAsm4+c9+1B631/449vnw7Z5jG/5nzVTJfQDMAeYa+D7pgfd1OAHSU0A7AsZn2M6v5PeProNRjPwQeu3GwKsyY0A7AsHKPKjnjK416x3C2wh3NFQAAA6GGkGYCpesL57x+03g82fi9Jcs3G7w3e5oOnnLzTfQHsCiPNAADQw0gzAMuiDjposynAPBs1NFfVVUluTnJbkltba6ur6tAk5yVZleSqJE9trV0/Zh8AzJ87PMGhFswvVyBkS7MYaX5Ua23pWcjPTHJxa+3VVXVmN/+7M+gDgB6CAkw4uwtbWo7DM05K8sju/rlJPhGhGWAuCAosus++df2g9W656bbbp0O2edBzDt+lvph/Y4fmluTjVdWSvKm1dnaSI1pr13aPr0tyxNY2rKrTk5yeJHe7291GbhNgcT3+/HcOXvc/Nt6cJLlm482DtvvQKc/Y6b6A/+RTnvk3dmh+WGttbVUdnuSiqvry0gdba60L1P9FF7DPTpLVq1dvdR0AgDEc0l158JAZXYHQpzzzb9TQ3Fpb203XV9UFSR6c5LqqOqq1dm1VHZVk2OckAIyuDjpwsynsqU47/uVTeZ6r/mTdoPVuveG226dDtln1wiN3qS923GihuaoOSLJXa+3m7v6jk/xBkguTnJrk1d30A2P1AMCO+YknnLDcLQDMpTFHmo9IckFVbarz1621j1bVZ5O8p6pOS/LNJE8dsQcAgLl35/0O22zK/BktNLfWvpHkvltZ/p0kx49VFwBgd/OSY18203q+eLjjXBEQAGAP44uHO05oBqbK6MV0+XkCO2Ld677cv1KS267/0e3TIdsc+ZKf2aW+FoHQDEyV0Yvp8vMEmA9CMzDIcy4YdlaF6zb+qJuuHbTNW5/40V3qa3f1uPeePWi9WzbemCS5ZuONg7b52yefvkt9AXuGw/Y/dLMp/YRmAIA9zMse/FvL3cJuR2gGpmrFwZWkdVN2VR10wGZTAJaH0AxM1eEn2a1M074nPnK5WwAgyV7L3QAAAMw7oRkAAHr4HBUW3KKf53fWr2/Rf54AY1iEfafQDAtu0c/zO+vXt+g/T4AxLMK+U2iG3dSrzvvVQet9d+Ot3XTtoG1e8Wsf26W+puWx73/JoPV++L1vJ0mu+d63B23z4ZNft9Xlj7vgtYPq3bLx+km9jdcP2uZvn/jSQc8LsLu57k8/PXjd2274j9unQ7Y74gXH7nRfY3FMMwAA9DDSDAvuDgdOzps8mS6gg/ZNddNZqIP322wKQL+V+99ps+nuSGiGBXf/x+293C2Mat+T7zHbeic9aKb1ABbBy459znK3sMscngEAAD2EZgAA6CE0AwBAD6EZAAB6CM0AANBDaAYAgB5CMwAA9HCeZgAAFsYZZ5yRdevW5cgjj8xZZ501tecVmgEAWBjr1q3L2rVrp/68QjMAAHNv/Z9/ZNB6t93w/dunQ7c5/PmP6V3HMc0AANDDSDMAAAtj5QEHbzadFqF5NzXWQe4AALuzlz/0KaM8r9C8mxrrIHfG5w8eANj9CM1z5N/fcMrgdW+94cZueu2g7e722+fvdF9Mlz94AGD3IzTTy8joMG96+68OWu/Gm2/tpmsHbfMbz/rYLvUFAOy6hQ3Nix70Dtt/r82mYzIyCgDs6RY2NC960PudXzxol5/js296wqD1brnxB930msHbPOg3PrjTfS26Aw6sJK2bAgC7g90uNG944zsGrXfbjTffPh2yzcrnPXOX+lr0kW2m5xGP3nu5WwAAdtBuF5rn1SKPbB9yQG02BQDY0yxsaF65/4GbTXfWdW987aD1brvx+tunQ7Y54nkv3aW+Zum0R9xhuVsAAFhWCxuaX/HwYWcyAIfWAAB9FjY0z9rK/ffbbMruY5EPrQEApkNonpKXPfxBy93CwpjWyO95bz1h0Hobb/pRN107aJtfe85Hd7onAGD3JDQzd4z8AgDzRmhmZj52zmMHrff9m37YTa8ZvM2vnvbhne7rwO68yQc6bzIAsA1CM3u8xx3v1wAA2D5pgblzxwOSpLopAMDyE5qZO089bt/lbgEAYDN7LXcDAAAw74RmAADoITQDAEAPoRkAAHqMHpqrau+q+peq+lA3f/eq+kxVfa2qzqsq3/oCAGCuzWKk+QVJrlwy/5okf9xa++kk1yc5bQY9AADAThs1NFfV0Ukel+TN3XwlOS7J+d0q5yY5ecweAABgV4090vwnSc5I8uNu/s5Jbmit3drNX53kriP3AAAAu2S00FxVj0+yvrV26U5uf3pVramqNRs2bJhydwAAMNyYI80PTXJiVV2V5N2ZHJbxp0nuVFWbrkR4dJK1W9u4tXZ2a211a231ypUrR2wTAAC2b7TQ3Fp7WWvt6NbaqiRPS/L3rbVnJLkkySndaqcm+cBYPQAAwDQsx3mafzfJi6vqa5kc43zOMvQAAACDrehfZde11j6R5BPd/W8kefAs6gIAwDS4IiAAAPQQmgEAoIfQDAAAPYRmAADoITQDAEAPoRkAAHoIzQAA0ENoBgCAHkIzAAD0EJoBAKCH0AwAAD2EZgAA6CE0AwBAD6EZAAB6CM0AANBDaAYAgB5CMwAA9BCaAQCgh9AMAAA9hGYAAOghNAMAQA+hGQAAegjNAADQQ2gGAIAeQjMAAPQQmgEAoIfQDAAAPYRmAADoITQDAEAPoRkAAHoIzQAA0ENoBgCAHkIzAAD0EJoBAKCH0AwAAD2EZgAA6CE0AwBAjxVDVqqqhyZ5ZZKf7LapJK219lPjtQYAAPNhUGhOck6SFyW5NMlt47UDAADzZ2hovrG19pFROwEAgDk1NDRfUlWvTfK+JLdsWthau2yUrgAAYI4MDc2/0E1XL1nWkhw33XYAAGD+DArNrbVHjd0IAADMq0GnnKuqO1bV66tqTXd7XVXdcezmAABgHgw9T/Nbktyc5Knd7aYkbx2rKQAAmCdDj2m+R2vtyUvmf7+qLh+jIQAAmDdDR5p/UFUP2zTTXezkB+O0BAAA82XoSPPzkpzbHcdcSb6b5NljNQUAAPNk6NkzLk9y36o6uJu/adSuAABgjmw3NFfVM1tr76iqF2+xPEnSWnv9dra9Q5JPJfmJrs75rbX/VVV3T/LuJHfO5LLcz2qt/XCXXgUAAIyo75jmA7rpQVu5Hdiz7S1Jjmut3TfJ/ZKcUFUPSfKaJH/cWvvpJNcnOW0newcAgJnY7khza+1N3d2/a63949LHui8Dbm/blmRjN7tPd9t0FcH/1i0/N8krk7xxh7oGAIAZGnr2jD8buGwzVbV3d2q69UkuSvL1JDe01m7tVrk6yV23se3pmy6msmHDhoFtAgDA9PUd03xskl9MsnKL45oPTrJ335O31m5Lcr+qulOSC5L8zNDGWmtnJzk7SVavXt2GbgcAANPWd/aMfTM5dnlFJscxb3JTklOGFmmt3VBVlyQ5NsmdqmpFN9p8dJK1O9YyAADMVt8xzZ9M8smqeltr7ZtJUlV7JTmw77RzVbUyyY+6wLxfkl/J5EuAl2QSuN+d5NQkH9j1lwEAAOMZekzz/66qg6vqgCRXJPlSVb20Z5ujklxSVZ9P8tkkF7XWPpTkd5O8uKq+lslp587Zyd4BAGAmhl4R8D6ttZuq6hlJPpLkzEzOsfzabW3QWvt8kvtvZfk3kjx4J3oFAIBlMXSkeZ+q2ifJyUkubK39KJPTxwEAwMIbGprflOSqTC528qmq+slMvgwIAAALb9DhGa21NyR5w5JF36yqR43TEgAAzJdBI81VdURVnVNVH+nm75PJmS8AAGDhDT08421JPpbkLt38V5K8cIyGAABg3gwNzYe11t6T5MdJ0l2Y5LbRugIAgDkyNDR/r6runO6MGVX1kCQ3jtYVAADMkaHnaX5xkguT3KOq/jHJyuzAZbQBAGB3NvTsGZdV1SOS3DtJJfnX7lzNAACw8AaF5qp60haL7lVVNyb5Qmtt/fTbAgCA+TH08IzTkhyb5JJu/pGZXEb77lX1B621t4/QGwAAzIWhoXlFkp9trV2XTM7bnOSvkvxCkk8lEZoBAFhYQ8+eccymwNxZ3y37bhLHNgMAsNCGjjR/oqo+lORvuvknd8sOSHLDKJ0BAMCcGBqafzOToPzQbv6vkry3tdaSPGqMxgAAYF4MPeVcS3J+dwMAgD3KoGOaq+pJVfXVqrqxqm6qqpur6qaxmwMAgHkw9PCMs5I8obV25ZjNAADAPBp69ozrBGYAAPZUQ0ea11TVeUnen+SWTQtba+8bpSsAAJgjQ0PzwUm+n+TRS5a1JEIzAAALb+jZM54zdiMAADCvhp494+iquqCq1ne391bV0WM3BwAA82DoFwHfmuTCJHfpbh/slgEAwMIbGppXttbe2lq7tbu9LcnKEfsCAIC5MTQ0f6eqnllVe3e3Zyb5zpiNAQDAvBgamp+b5KlJ1iW5NskpSZ49Uk8AADBXhp5y7g+SnNpauz5JqurQJH+USZgGAICFNnSk+ec3BeYkaa19N8n9x2kJAADmy9DQvFdVHbJpphtpHjpKDQAAu7Whwfd1ST5dVX/TzT8lyavGaQkAAObL0CsC/lVVrUlyXLfoSa21L43XFgAAzI/Bh1h0IVlQBgBgjzP0mGYAANhjCc0AANBDaAYAgB5CMwAA9BCaAQCgh9AMAAA9hGYAAOghNAMAQA+hGQAAegjNAADQQ2gGAIAeQjMAAPQQmgEAoIfQDAAAPYRmAADoMVporqpjquqSqvpSVX2xql7QLT+0qi6qqq9200PG6gEAAKZhzJHmW5O8pLV2nyQPSfKbVXWfJGcmubi1ds8kF3fzAAAwt0YLza21a1trl3X3b05yZZK7JjkpybndaucmOXmsHgAAYBpmckxzVa1Kcv8kn0lyRGvt2u6hdUmO2MY2p1fVmqpas2HDhlm0CQAAWzV6aK6qA5O8N8kLW2s3LX2stdaStK1t11o7u7W2urW2euXKlWO3CQAA2zRqaK6qfTIJzO9srb2vW3xdVR3VPX5UkvVj9gAAALtqzLNnVJJzklzZWnv9kocuTHJqd//UJB8YqwcAAJiGFSM+90OTPCvJF6rq8m7Zy5O8Osl7quq0JN9M8tQRewAAgF02Wmhurf3fJLWNh48fqy4AAEybKwICAEAPoRkAAHoIzQAA0ENoBgCAHkIzAAD0EJoBAKCH0AwAAD2EZgAA6CE0AwBAD6EZAAB6CM0AANBDaAYAgB5CMwAA9BCaAQCgh9AMAAA9hGYAAOghNAMAQA+hGQAAegjNAADQQ2gGAIAeQjMAAPQQmgEAoIfQDAAAPYRmAADoITQDAEAPoRkAAHoIzQAA0ENoBgCAHkIzAAD0EJoBAKCH0AwAAD2EZgAA6CE0AwBAD6EZAAB6CM0AANBDaAYAgB5CMwAA9BCaAQCgh9AMAAA9hGYAAOghNAMAQA+hGQAAegjNAADQQ2gGAIAeQjMAAPQQmgEAoIfQDAAAPYRmAADoMVporqq3VNX6qrpiybJDq+qiqvpqNz1krPoAADAtY440vy3JCVssOzPJxa21eya5uJsHAIC5Nlpobq19Ksl3t1h8UpJzu/vnJjl5rPoAADAtsz6m+YjW2rXd/XVJjphxfQAA2GHL9kXA1lpL0rb1eFWdXlVrqmrNhg0bZtgZAABsbtah+bqqOipJuun6ba3YWju7tba6tbZ65cqVM2sQAAC2NOvQfGGSU7v7pyb5wIzrAwDADhvzlHPvSvLpJPeuqqur6rQkr07yK1X11SS/3M0DAMBcWzHWE7fWnr6Nh44fqyYAAIzBFQEBAKCH0AwAAD2EZgAA6CE0AwBAD6EZAAB6CM0AANBDaAYAgB5CMwAA9BCaAQCgh9AMAAA9hGYAAOghNAMAQA+hGQAAegjNAADQQ2gGAIAeQjMAAPQQmgEAoIfQDAAAPYRmAADoITQDAEAPoRkAAHoIzQAA0ENoBgCAHkIzAAD0EJoBAKCH0AwAAD2EZgAA6CE0AwBAD6EZAAB6CM0AANBDaAYAgB5CMwAA9BCaAQCgh9AMAAA9hGYAAOghNAMAQA+hGQAAegjNAADQQ2gGAIAeQjMAAPQQmgEAoIfQDAAAPYRmAADoITQDAEAPoRkAAHoIzQAA0ENoBgCAHkIzAAD0WJbQXFUnVNW/VtXXqurM5egBAACGmnlorqq9k/yfJI9Jcp8kT6+q+8y6DwAAGGo5RpofnORrrbVvtNZ+mOTdSU5ahj4AAGCQ5QjNd03yrSXzV3fLAABgLlVrbbYFq05JckJr7de7+Wcl+YXW2vO3WO/0JKd3s/dO8q87Ue6wJN/ehXbVW55a6qmn3p5Tb5Ffm3rqqbd89Xa21k+21lZu7YEVu9bPTlmb5Jgl80d3yzbTWjs7ydm7Uqiq1rTWVu/Kc6g3+1rqqafenlNvkV+beuqpt3z1xqi1HIdnfDbJPavq7lW1b5KnJblwGfoAAIBBZj7S3Fq7taqen+RjSfZO8pbW2hdn3QcAAAy1HIdnpLX24SQfnkGpXTq8Q71lq6WeeurtOfUW+bWpp556y1dv6rVm/kVAAADY3biMNgAA9FjI0Dzry3RX1Vuqan1VXTGDWsdU1SVV9aWq+mJVvWDkeneoqn+uqs919X5/zHpL6u5dVf9SVR+aQa2rquoLVXV5Va2ZQb07VdX5VfXlqrqyqo4dsda9u9e16XZTVb1wxHov6v6fXFFV76qqO4xVq6v3gq7WF8d6XVv7/a6qQ6vqoqr6ajc9ZMRaT+le34+raqrfBN9Gvdd2/zc/X1UXVNWdRq73h12ty6vq41V1lzHrLXnsJVXVquqwMetV1Surau2S38HHjlmvW/5b3b/hF6vqrDHrVdV5S17bVVV1+cj17ldV/7Rpf11VDx653n2r6tPde8QHq+rgKdXa6nv5iPuWbdUbZf+ynXqj7F+2U2+6+5fW2kLdMvly4deT/FSSfZN8Lsl9Rq758CQPSHLFDF7fUUke0N0/KMlXxnx9SSrJgd39fZJ8JslDZvA6X5zkr5N8aAa1rkpy2Nh1ltQ7N8mvd/f3TXKnGdXdO8m6TM5BOcbz3zXJvyXZr5t/T5Jnj/h6fi7JFUn2z+T7GX+X5KdHqPNffr+TnJXkzO7+mUleM2Ktn83kXPWfSLJ6Bq/t0UlWdPdfM63Xtp16By+5/9tJ/mLMet3yYzL5Mvo3p/m7v43X98okvzPt/5fbqfeo7nfhJ7r5w8f+eS55/HVJfm/k1/fxJI/p7j82ySdGrvfZJI/o7j83yR9OqdZW38tH3Ldsq94o+5ft1Btl/7KdelPdvyziSPPML9PdWvtUku+OWWNJrWtba5d1929OcmVGvKJim9jYze7T3UY9EL6qjk7yuCRvHrPOcqiqO2ayYz4nSVprP2yt3TCj8scn+Xpr7Zsj1liRZL+qWpFJmL1mxFo/m+QzrbXvt9ZuTfLJJE+adpFt/H6flMkfP+mmJ49Vq7V2ZWttZy7utLP1Pt79PJPknzI5l/6Y9W5aMntAprh/2c6++Y+TnDHNWj31RrGNes9L8urW2i3dOutHrpckqapK8tQk7xq5XkuyabT3jpniPmYb9e6V5FPd/YuSPHlKtbb1Xj7WvmWr9cbav2yn3ij7l+3Um+r+ZRFD8x5zme6qWpXk/pmM/o5ZZ+/uI7f1SS5qrY1aL8mfZPKG9uOR62zSkny8qi6tyZUox3T3JBuSvLUmh5+8uaoOGLnmJk/LFN/QttRaW5vkj5L8e5Jrk9zYWvv4WPUyGWX+paq6c1Xtn8mo0zE920zLEa21a7v765IcMaO6s/bcJB8Zu0hVvaqqvpXkGUl+b+RaJyVZ21r73Jh1tvD87iPit0zr4/btuFcmvxefqapPVtWDRq63yS8lua619tWR67wwyWu7/y9/lORlI9f7Yv5z4O0pGWEfs8V7+ej7llllhwH1Rtm/bFlvmvuXRQzNe4SqOjDJe5O8cIu/pKautXZba+1+mfxF+OCq+rmxalXV45Osb61dOlaNrXhYa+0BSR6T5Der6uEj1lqRycd/b2yt3T/J9zL5CG5UNbmQ0IlJ/mbEGodk8uZy9yR3SXJAVT1zrHqttSsz+Xjv40k+muTyJLeNVW87fbSM/OnLcqiqVyS5Nck7x67VWntFa+2Yrtbzx6rT/XH18owczLfwxiT3SHK/TP6YfN3I9VYkOTTJQ5K8NMl7ulHgsT09I/5RvsTzkryo+//yonSf2o3ouUn+R1VdmsnH/j+c5pNv7718jH3LLLPD9uqNtX/ZWr1p7l8WMTQPukz37qyq9snkP8U7W2vvm1Xd7jCCS5KcMGKZhyY5saquyuTQmuOq6h0j1ts0QrrpY8wLMjnEZyxXJ7l6yWj9+ZmE6LE9JsllrbXrRqzxy0n+rbW2obX2oyTvS/KLI9ZLa+2c1toDW2sPT3J9JsexzcJ1VXVUknTTqX0EPg+q6tlJHp/kGd0b96y8M1P6+Hsb7pHJH3Wf6/YxRye5rKqOHKtga+26buDhx0n+MuPuX5LJPuZ93aF1/5zJJ3ZT+7Lj1nSHYz0pyXlj1umcmsm+JZkMAoz682ytfbm19ujW2gMz+aPg69N67m28l4+2b5l1dthWvbH2LwNe3y7vXxYxNC/0Zbq7EYNzklzZWnv9DOqt3PTt1qraL8mvJPnyWPVaay9rrR3dWluVyb/d37fWRhutrKoDquqgTfcz+ZLCaGdBaa2tS/Ktqrp3t+j4JF8aq94SsxgF+vckD6mq/bv/p8dnclzZaKrq8G56t0zetP96zHpLXJjJm3e66QdmVHd0VXVCJodHndha+/4M6t1zyexJGXf/8oXW2uGttVXdPubqTL48tG6smpsCUOeJGXH/0nl/Jl8GTFXdK5MvG3975Jq/nOTLrbWrR66TTI5hfkR3/7gkox4OsmQfs1eS/5nkL6b0vNt6Lx9l37IM2WGr9cbav2yn3nT3L20XvkU4r7dMjm38SiZ/Eb5iBvXelcnHbj/KZCd82oi1HpbJxzWfz+Tj6MuTPHbEej+f5F+6eldkit+MHlD7kRn57BmZnGXlc93tizP6/3K/JGu6n+n7kxwycr0DknwnyR1n8Np+v9spXZHk7em+wT9ivX/I5I+OzyU5fqQa/+X3O8mdk1ycyRv23yU5dMRaT+zu35LkuiQfG/m1fS2T74Vs2r9M82wWW6v33u7/y+eTfDCTL++MVm+Lx6/KdM+esbXX9/YkX+he34VJjhq53r5J3tH9TC9LctzYP88kb0vy36dVp+f1PSzJpd3v/GeSPHDkei/IJE98Jcmr010Ubgq1tvpePuK+ZVv1Rtm/bKfeKPuX7dSb6v7FFQEBAKDHIh6eAQAAUyU0AwBAD6EZAAB6CM0AANBDaAYAgB5CM8BupKo2bjH/7Kr68+XqB2BPITQDsOmqbgBsg9AMsCCqalVV/X1Vfb6qLu6ulJiqeltVnbJkvY3d9JFV9Q9VdWFmc2VKgN2WkQWA3ct+VXX5kvlDM7nSXJL8WZJzW2vnVtVzk7whyck9z/eAJD/XWvu36bcKsDiEZoDdyw9aa/fbNFNVz06yups9NsmTuvtvT3LWgOf7Z4EZoJ/DMwAW363p9vdVtVeSfZc89r1l6QhgNyM0AyyO/5fkad39ZyT5h+7+VUke2N0/Mck+s20LYPcnNAMsjt9K8pyq+nySZyV5Qbf8L5M8oqo+l8khHEaXAXZQtdaWuwcAAJhrRpoBAKCH0AwAAD2EZgAA6CE0AwBAD6EZAAB6CM0AANBDaAYAgB5CMwAA9Pj/TyNH/NspIW8AAAAASUVORK5CYII=\n",
            "text/plain": [
              "<Figure size 864x432 with 1 Axes>"
            ]
          },
          "metadata": {
            "needs_background": "light"
          }
        }
      ]
    },
    {
      "cell_type": "markdown",
      "source": [
        "Note  : 'Hour' feature will be useful"
      ],
      "metadata": {
        "id": "vSnG5hmoPKxd"
      }
=======
        "id": "Af0rDtvEczq7"
      },
      "execution_count": 53,
      "outputs": []
>>>>>>> 827112322a66591a34654b99fc95088df37c0dc0
    },
    {
      "cell_type": "markdown",
      "source": [
<<<<<<< HEAD
        "train_df_copy.drop(['Time'] , axis = 1 , inplace=True)\n",
        "train_df_copy.head()"
      ],
      "metadata": {
        "colab": {
          "base_uri": "https://localhost:8080/",
          "height": 206
        },
        "id": "O1CBj5eoA2o-",
        "outputId": "c85182cb-bd77-450f-eaee-a453b0d8f9fd"
      },
      "execution_count": null,
      "outputs": [
        {
          "output_type": "execute_result",
          "data": {
            "text/html": [
              "\n",
              "  <div id=\"df-584477cf-4468-4b84-956d-a562c50da089\">\n",
              "    <div class=\"colab-df-container\">\n",
              "      <div>\n",
              "<style scoped>\n",
              "    .dataframe tbody tr th:only-of-type {\n",
              "        vertical-align: middle;\n",
              "    }\n",
              "\n",
              "    .dataframe tbody tr th {\n",
              "        vertical-align: top;\n",
              "    }\n",
              "\n",
              "    .dataframe thead th {\n",
              "        text-align: right;\n",
              "    }\n",
              "</style>\n",
              "<table border=\"1\" class=\"dataframe\">\n",
              "  <thead>\n",
              "    <tr style=\"text-align: right;\">\n",
              "      <th></th>\n",
              "      <th>row_id</th>\n",
              "      <th>direction</th>\n",
              "      <th>congestion</th>\n",
              "      <th>Month</th>\n",
              "      <th>Day</th>\n",
              "      <th>location</th>\n",
              "      <th>Hour</th>\n",
              "    </tr>\n",
              "  </thead>\n",
              "  <tbody>\n",
              "    <tr>\n",
              "      <th>0</th>\n",
              "      <td>0</td>\n",
              "      <td>EB</td>\n",
              "      <td>70</td>\n",
              "      <td>4</td>\n",
              "      <td>1</td>\n",
              "      <td>(0, 0)</td>\n",
              "      <td>0</td>\n",
              "    </tr>\n",
              "    <tr>\n",
              "      <th>1</th>\n",
              "      <td>1</td>\n",
              "      <td>NB</td>\n",
              "      <td>49</td>\n",
              "      <td>4</td>\n",
              "      <td>1</td>\n",
              "      <td>(0, 0)</td>\n",
              "      <td>0</td>\n",
              "    </tr>\n",
              "    <tr>\n",
              "      <th>2</th>\n",
              "      <td>2</td>\n",
              "      <td>SB</td>\n",
              "      <td>24</td>\n",
              "      <td>4</td>\n",
              "      <td>1</td>\n",
              "      <td>(0, 0)</td>\n",
              "      <td>0</td>\n",
              "    </tr>\n",
              "    <tr>\n",
              "      <th>3</th>\n",
              "      <td>3</td>\n",
              "      <td>EB</td>\n",
              "      <td>18</td>\n",
              "      <td>4</td>\n",
              "      <td>1</td>\n",
              "      <td>(0, 1)</td>\n",
              "      <td>0</td>\n",
              "    </tr>\n",
              "    <tr>\n",
              "      <th>4</th>\n",
              "      <td>4</td>\n",
              "      <td>NB</td>\n",
              "      <td>60</td>\n",
              "      <td>4</td>\n",
              "      <td>1</td>\n",
              "      <td>(0, 1)</td>\n",
              "      <td>0</td>\n",
              "    </tr>\n",
              "  </tbody>\n",
              "</table>\n",
              "</div>\n",
              "      <button class=\"colab-df-convert\" onclick=\"convertToInteractive('df-584477cf-4468-4b84-956d-a562c50da089')\"\n",
              "              title=\"Convert this dataframe to an interactive table.\"\n",
              "              style=\"display:none;\">\n",
              "        \n",
              "  <svg xmlns=\"http://www.w3.org/2000/svg\" height=\"24px\"viewBox=\"0 0 24 24\"\n",
              "       width=\"24px\">\n",
              "    <path d=\"M0 0h24v24H0V0z\" fill=\"none\"/>\n",
              "    <path d=\"M18.56 5.44l.94 2.06.94-2.06 2.06-.94-2.06-.94-.94-2.06-.94 2.06-2.06.94zm-11 1L8.5 8.5l.94-2.06 2.06-.94-2.06-.94L8.5 2.5l-.94 2.06-2.06.94zm10 10l.94 2.06.94-2.06 2.06-.94-2.06-.94-.94-2.06-.94 2.06-2.06.94z\"/><path d=\"M17.41 7.96l-1.37-1.37c-.4-.4-.92-.59-1.43-.59-.52 0-1.04.2-1.43.59L10.3 9.45l-7.72 7.72c-.78.78-.78 2.05 0 2.83L4 21.41c.39.39.9.59 1.41.59.51 0 1.02-.2 1.41-.59l7.78-7.78 2.81-2.81c.8-.78.8-2.07 0-2.86zM5.41 20L4 18.59l7.72-7.72 1.47 1.35L5.41 20z\"/>\n",
              "  </svg>\n",
              "      </button>\n",
              "      \n",
              "  <style>\n",
              "    .colab-df-container {\n",
              "      display:flex;\n",
              "      flex-wrap:wrap;\n",
              "      gap: 12px;\n",
              "    }\n",
              "\n",
              "    .colab-df-convert {\n",
              "      background-color: #E8F0FE;\n",
              "      border: none;\n",
              "      border-radius: 50%;\n",
              "      cursor: pointer;\n",
              "      display: none;\n",
              "      fill: #1967D2;\n",
              "      height: 32px;\n",
              "      padding: 0 0 0 0;\n",
              "      width: 32px;\n",
              "    }\n",
              "\n",
              "    .colab-df-convert:hover {\n",
              "      background-color: #E2EBFA;\n",
              "      box-shadow: 0px 1px 2px rgba(60, 64, 67, 0.3), 0px 1px 3px 1px rgba(60, 64, 67, 0.15);\n",
              "      fill: #174EA6;\n",
              "    }\n",
              "\n",
              "    [theme=dark] .colab-df-convert {\n",
              "      background-color: #3B4455;\n",
              "      fill: #D2E3FC;\n",
              "    }\n",
              "\n",
              "    [theme=dark] .colab-df-convert:hover {\n",
              "      background-color: #434B5C;\n",
              "      box-shadow: 0px 1px 3px 1px rgba(0, 0, 0, 0.15);\n",
              "      filter: drop-shadow(0px 1px 2px rgba(0, 0, 0, 0.3));\n",
              "      fill: #FFFFFF;\n",
              "    }\n",
              "  </style>\n",
              "\n",
              "      <script>\n",
              "        const buttonEl =\n",
              "          document.querySelector('#df-584477cf-4468-4b84-956d-a562c50da089 button.colab-df-convert');\n",
              "        buttonEl.style.display =\n",
              "          google.colab.kernel.accessAllowed ? 'block' : 'none';\n",
              "\n",
              "        async function convertToInteractive(key) {\n",
              "          const element = document.querySelector('#df-584477cf-4468-4b84-956d-a562c50da089');\n",
              "          const dataTable =\n",
              "            await google.colab.kernel.invokeFunction('convertToInteractive',\n",
              "                                                     [key], {});\n",
              "          if (!dataTable) return;\n",
              "\n",
              "          const docLinkHtml = 'Like what you see? Visit the ' +\n",
              "            '<a target=\"_blank\" href=https://colab.research.google.com/notebooks/data_table.ipynb>data table notebook</a>'\n",
              "            + ' to learn more about interactive tables.';\n",
              "          element.innerHTML = '';\n",
              "          dataTable['output_type'] = 'display_data';\n",
              "          await google.colab.output.renderOutput(dataTable, element);\n",
              "          const docLink = document.createElement('div');\n",
              "          docLink.innerHTML = docLinkHtml;\n",
              "          element.appendChild(docLink);\n",
              "        }\n",
              "      </script>\n",
              "    </div>\n",
              "  </div>\n",
              "  "
            ],
            "text/plain": [
              "   row_id direction  congestion  Month  Day location  Hour\n",
              "0       0        EB          70      4    1   (0, 0)     0\n",
              "1       1        NB          49      4    1   (0, 0)     0\n",
              "2       2        SB          24      4    1   (0, 0)     0\n",
              "3       3        EB          18      4    1   (0, 1)     0\n",
              "4       4        NB          60      4    1   (0, 1)     0"
            ]
          },
          "metadata": {},
          "execution_count": 47
        }
      ]
    },
    {
      "cell_type": "code",
      "source": [
        "train_df = train_df_copy.copy()"
      ],
      "metadata": {
        "id": "q4MQGw8nA2zU"
      },
      "execution_count": null,
      "outputs": []
    },
    {
      "cell_type": "code",
      "source": [
        "train_df['location'].nunique()"
      ],
      "metadata": {
        "colab": {
          "base_uri": "https://localhost:8080/"
        },
        "id": "e7R2txB3SvN2",
        "outputId": "1f23bc08-823d-401c-b948-ad12e4b8d22f"
      },
      "execution_count": null,
      "outputs": [
        {
          "output_type": "execute_result",
          "data": {
            "text/plain": [
              "12"
            ]
          },
          "metadata": {},
          "execution_count": 49
        }
      ]
    },
    {
      "cell_type": "markdown",
      "source": [
        "### Feature Engineering is Done :)"
      ],
      "metadata": {
        "id": "BQi6lEhRA20t"
      }
    },
    {
      "cell_type": "markdown",
      "source": [
        "Stuff to be done -> 1) Check for missing values\n",
        "                    2) Normalization\n",
        "                    3) One-hot encoding for direction and location"
      ],
      "metadata": {
        "id": "lFzV4e6EA213"
      }
    },
    {
      "cell_type": "code",
      "source": [
        "train_df.isnull().sum()"
      ],
      "metadata": {
        "colab": {
          "base_uri": "https://localhost:8080/"
        },
        "id": "RWq5ltI8A233",
        "outputId": "8b9e77ae-31ef-43e6-d31c-27fea4ba9c12"
      },
      "execution_count": null,
      "outputs": [
        {
          "output_type": "execute_result",
          "data": {
            "text/plain": [
              "row_id        0\n",
              "direction     0\n",
              "congestion    0\n",
              "Month         0\n",
              "Day           0\n",
              "location      0\n",
              "Hour          0\n",
              "dtype: int64"
            ]
          },
          "metadata": {},
          "execution_count": 50
        }
      ]
    },
    {
      "cell_type": "markdown",
      "source": [
        "Note :  No missing values "
      ],
      "metadata": {
        "id": "6hpuDtlbA2_c"
      }
    },
    {
      "cell_type": "code",
      "source": [
        "X = train_df.drop(['congestion'] , axis = 1)\n",
        "y = train_df['congestion']"
      ],
      "metadata": {
        "id": "jY6w7WuCcP3B"
      },
      "execution_count": null,
      "outputs": []
    },
    {
      "cell_type": "markdown",
      "source": [
        "x-x-x-x-x-x-x-x-x-x-x-x-x-x-x-x-x-x-x-x-x-x-x-x-x"
      ],
      "metadata": {
        "id": "2U6il8kHaHv-"
      }
    },
    {
      "cell_type": "markdown",
      "source": [
        "Columns to be normalized = ['congestion' , 'Month' , 'Day' , 'Hour']\n",
        "\n",
        "\n",
        "Columns to be encoded = ['direction' , 'location']"
      ],
      "metadata": {
        "id": "r5U1wPV1A3A3"
      }
    },
    {
      "cell_type": "markdown",
      "source": [
        "## One-Hot Encoding"
      ],
      "metadata": {
        "id": "tp5GkaLlbEa6"
      }
    },
    {
      "cell_type": "code",
      "source": [
        "X_encoded = pd.get_dummies(data = X )\n",
        "X_encoded.head()"
      ],
      "metadata": {
        "colab": {
          "base_uri": "https://localhost:8080/",
          "height": 317
        },
        "id": "J6TPXL1OA3JB",
        "outputId": "861f4e2b-90de-44a1-e870-b3d9fa480e13"
      },
      "execution_count": null,
      "outputs": [
        {
          "output_type": "execute_result",
          "data": {
            "text/html": [
              "\n",
              "  <div id=\"df-c7859992-6fe3-4daa-b8cb-6ab03920a48f\">\n",
              "    <div class=\"colab-df-container\">\n",
              "      <div>\n",
              "<style scoped>\n",
              "    .dataframe tbody tr th:only-of-type {\n",
              "        vertical-align: middle;\n",
              "    }\n",
              "\n",
              "    .dataframe tbody tr th {\n",
              "        vertical-align: top;\n",
              "    }\n",
              "\n",
              "    .dataframe thead th {\n",
              "        text-align: right;\n",
              "    }\n",
              "</style>\n",
              "<table border=\"1\" class=\"dataframe\">\n",
              "  <thead>\n",
              "    <tr style=\"text-align: right;\">\n",
              "      <th></th>\n",
              "      <th>row_id</th>\n",
              "      <th>Month</th>\n",
              "      <th>Day</th>\n",
              "      <th>Hour</th>\n",
              "      <th>direction_EB</th>\n",
              "      <th>direction_NB</th>\n",
              "      <th>direction_NE</th>\n",
              "      <th>direction_NW</th>\n",
              "      <th>direction_SB</th>\n",
              "      <th>direction_SE</th>\n",
              "      <th>...</th>\n",
              "      <th>location_(0, 2)</th>\n",
              "      <th>location_(0, 3)</th>\n",
              "      <th>location_(1, 0)</th>\n",
              "      <th>location_(1, 1)</th>\n",
              "      <th>location_(1, 2)</th>\n",
              "      <th>location_(1, 3)</th>\n",
              "      <th>location_(2, 0)</th>\n",
              "      <th>location_(2, 1)</th>\n",
              "      <th>location_(2, 2)</th>\n",
              "      <th>location_(2, 3)</th>\n",
              "    </tr>\n",
              "  </thead>\n",
              "  <tbody>\n",
              "    <tr>\n",
              "      <th>0</th>\n",
              "      <td>0</td>\n",
              "      <td>4</td>\n",
              "      <td>1</td>\n",
              "      <td>0</td>\n",
              "      <td>1</td>\n",
              "      <td>0</td>\n",
              "      <td>0</td>\n",
              "      <td>0</td>\n",
              "      <td>0</td>\n",
              "      <td>0</td>\n",
              "      <td>...</td>\n",
              "      <td>0</td>\n",
              "      <td>0</td>\n",
              "      <td>0</td>\n",
              "      <td>0</td>\n",
              "      <td>0</td>\n",
              "      <td>0</td>\n",
              "      <td>0</td>\n",
              "      <td>0</td>\n",
              "      <td>0</td>\n",
              "      <td>0</td>\n",
              "    </tr>\n",
              "    <tr>\n",
              "      <th>1</th>\n",
              "      <td>1</td>\n",
              "      <td>4</td>\n",
              "      <td>1</td>\n",
              "      <td>0</td>\n",
              "      <td>0</td>\n",
              "      <td>1</td>\n",
              "      <td>0</td>\n",
              "      <td>0</td>\n",
              "      <td>0</td>\n",
              "      <td>0</td>\n",
              "      <td>...</td>\n",
              "      <td>0</td>\n",
              "      <td>0</td>\n",
              "      <td>0</td>\n",
              "      <td>0</td>\n",
              "      <td>0</td>\n",
              "      <td>0</td>\n",
              "      <td>0</td>\n",
              "      <td>0</td>\n",
              "      <td>0</td>\n",
              "      <td>0</td>\n",
              "    </tr>\n",
              "    <tr>\n",
              "      <th>2</th>\n",
              "      <td>2</td>\n",
              "      <td>4</td>\n",
              "      <td>1</td>\n",
              "      <td>0</td>\n",
              "      <td>0</td>\n",
              "      <td>0</td>\n",
              "      <td>0</td>\n",
              "      <td>0</td>\n",
              "      <td>1</td>\n",
              "      <td>0</td>\n",
              "      <td>...</td>\n",
              "      <td>0</td>\n",
              "      <td>0</td>\n",
              "      <td>0</td>\n",
              "      <td>0</td>\n",
              "      <td>0</td>\n",
              "      <td>0</td>\n",
              "      <td>0</td>\n",
              "      <td>0</td>\n",
              "      <td>0</td>\n",
              "      <td>0</td>\n",
              "    </tr>\n",
              "    <tr>\n",
              "      <th>3</th>\n",
              "      <td>3</td>\n",
              "      <td>4</td>\n",
              "      <td>1</td>\n",
              "      <td>0</td>\n",
              "      <td>1</td>\n",
              "      <td>0</td>\n",
              "      <td>0</td>\n",
              "      <td>0</td>\n",
              "      <td>0</td>\n",
              "      <td>0</td>\n",
              "      <td>...</td>\n",
              "      <td>0</td>\n",
              "      <td>0</td>\n",
              "      <td>0</td>\n",
              "      <td>0</td>\n",
              "      <td>0</td>\n",
              "      <td>0</td>\n",
              "      <td>0</td>\n",
              "      <td>0</td>\n",
              "      <td>0</td>\n",
              "      <td>0</td>\n",
              "    </tr>\n",
              "    <tr>\n",
              "      <th>4</th>\n",
              "      <td>4</td>\n",
              "      <td>4</td>\n",
              "      <td>1</td>\n",
              "      <td>0</td>\n",
              "      <td>0</td>\n",
              "      <td>1</td>\n",
              "      <td>0</td>\n",
              "      <td>0</td>\n",
              "      <td>0</td>\n",
              "      <td>0</td>\n",
              "      <td>...</td>\n",
              "      <td>0</td>\n",
              "      <td>0</td>\n",
              "      <td>0</td>\n",
              "      <td>0</td>\n",
              "      <td>0</td>\n",
              "      <td>0</td>\n",
              "      <td>0</td>\n",
              "      <td>0</td>\n",
              "      <td>0</td>\n",
              "      <td>0</td>\n",
              "    </tr>\n",
              "  </tbody>\n",
              "</table>\n",
              "<p>5 rows × 24 columns</p>\n",
              "</div>\n",
              "      <button class=\"colab-df-convert\" onclick=\"convertToInteractive('df-c7859992-6fe3-4daa-b8cb-6ab03920a48f')\"\n",
              "              title=\"Convert this dataframe to an interactive table.\"\n",
              "              style=\"display:none;\">\n",
              "        \n",
              "  <svg xmlns=\"http://www.w3.org/2000/svg\" height=\"24px\"viewBox=\"0 0 24 24\"\n",
              "       width=\"24px\">\n",
              "    <path d=\"M0 0h24v24H0V0z\" fill=\"none\"/>\n",
              "    <path d=\"M18.56 5.44l.94 2.06.94-2.06 2.06-.94-2.06-.94-.94-2.06-.94 2.06-2.06.94zm-11 1L8.5 8.5l.94-2.06 2.06-.94-2.06-.94L8.5 2.5l-.94 2.06-2.06.94zm10 10l.94 2.06.94-2.06 2.06-.94-2.06-.94-.94-2.06-.94 2.06-2.06.94z\"/><path d=\"M17.41 7.96l-1.37-1.37c-.4-.4-.92-.59-1.43-.59-.52 0-1.04.2-1.43.59L10.3 9.45l-7.72 7.72c-.78.78-.78 2.05 0 2.83L4 21.41c.39.39.9.59 1.41.59.51 0 1.02-.2 1.41-.59l7.78-7.78 2.81-2.81c.8-.78.8-2.07 0-2.86zM5.41 20L4 18.59l7.72-7.72 1.47 1.35L5.41 20z\"/>\n",
              "  </svg>\n",
              "      </button>\n",
              "      \n",
              "  <style>\n",
              "    .colab-df-container {\n",
              "      display:flex;\n",
              "      flex-wrap:wrap;\n",
              "      gap: 12px;\n",
              "    }\n",
              "\n",
              "    .colab-df-convert {\n",
              "      background-color: #E8F0FE;\n",
              "      border: none;\n",
              "      border-radius: 50%;\n",
              "      cursor: pointer;\n",
              "      display: none;\n",
              "      fill: #1967D2;\n",
              "      height: 32px;\n",
              "      padding: 0 0 0 0;\n",
              "      width: 32px;\n",
              "    }\n",
              "\n",
              "    .colab-df-convert:hover {\n",
              "      background-color: #E2EBFA;\n",
              "      box-shadow: 0px 1px 2px rgba(60, 64, 67, 0.3), 0px 1px 3px 1px rgba(60, 64, 67, 0.15);\n",
              "      fill: #174EA6;\n",
              "    }\n",
              "\n",
              "    [theme=dark] .colab-df-convert {\n",
              "      background-color: #3B4455;\n",
              "      fill: #D2E3FC;\n",
              "    }\n",
              "\n",
              "    [theme=dark] .colab-df-convert:hover {\n",
              "      background-color: #434B5C;\n",
              "      box-shadow: 0px 1px 3px 1px rgba(0, 0, 0, 0.15);\n",
              "      filter: drop-shadow(0px 1px 2px rgba(0, 0, 0, 0.3));\n",
              "      fill: #FFFFFF;\n",
              "    }\n",
              "  </style>\n",
              "\n",
              "      <script>\n",
              "        const buttonEl =\n",
              "          document.querySelector('#df-c7859992-6fe3-4daa-b8cb-6ab03920a48f button.colab-df-convert');\n",
              "        buttonEl.style.display =\n",
              "          google.colab.kernel.accessAllowed ? 'block' : 'none';\n",
              "\n",
              "        async function convertToInteractive(key) {\n",
              "          const element = document.querySelector('#df-c7859992-6fe3-4daa-b8cb-6ab03920a48f');\n",
              "          const dataTable =\n",
              "            await google.colab.kernel.invokeFunction('convertToInteractive',\n",
              "                                                     [key], {});\n",
              "          if (!dataTable) return;\n",
              "\n",
              "          const docLinkHtml = 'Like what you see? Visit the ' +\n",
              "            '<a target=\"_blank\" href=https://colab.research.google.com/notebooks/data_table.ipynb>data table notebook</a>'\n",
              "            + ' to learn more about interactive tables.';\n",
              "          element.innerHTML = '';\n",
              "          dataTable['output_type'] = 'display_data';\n",
              "          await google.colab.output.renderOutput(dataTable, element);\n",
              "          const docLink = document.createElement('div');\n",
              "          docLink.innerHTML = docLinkHtml;\n",
              "          element.appendChild(docLink);\n",
              "        }\n",
              "      </script>\n",
              "    </div>\n",
              "  </div>\n",
              "  "
            ],
            "text/plain": [
              "   row_id  Month  Day  Hour  direction_EB  direction_NB  direction_NE  \\\n",
              "0       0      4    1     0             1             0             0   \n",
              "1       1      4    1     0             0             1             0   \n",
              "2       2      4    1     0             0             0             0   \n",
              "3       3      4    1     0             1             0             0   \n",
              "4       4      4    1     0             0             1             0   \n",
              "\n",
              "   direction_NW  direction_SB  direction_SE  ...  location_(0, 2)  \\\n",
              "0             0             0             0  ...                0   \n",
              "1             0             0             0  ...                0   \n",
              "2             0             1             0  ...                0   \n",
              "3             0             0             0  ...                0   \n",
              "4             0             0             0  ...                0   \n",
              "\n",
              "   location_(0, 3)  location_(1, 0)  location_(1, 1)  location_(1, 2)  \\\n",
              "0                0                0                0                0   \n",
              "1                0                0                0                0   \n",
              "2                0                0                0                0   \n",
              "3                0                0                0                0   \n",
              "4                0                0                0                0   \n",
              "\n",
              "   location_(1, 3)  location_(2, 0)  location_(2, 1)  location_(2, 2)  \\\n",
              "0                0                0                0                0   \n",
              "1                0                0                0                0   \n",
              "2                0                0                0                0   \n",
              "3                0                0                0                0   \n",
              "4                0                0                0                0   \n",
              "\n",
              "   location_(2, 3)  \n",
              "0                0  \n",
              "1                0  \n",
              "2                0  \n",
              "3                0  \n",
              "4                0  \n",
              "\n",
              "[5 rows x 24 columns]"
            ]
          },
          "metadata": {},
          "execution_count": 52
        }
      ]
    },
    {
      "cell_type": "code",
      "source": [
        "X_encoded.drop(['Month' , 'Day' , 'Hour'] , axis = 1 , inplace = True)\n",
        "X_encoded.head()"
      ],
      "metadata": {
        "colab": {
          "base_uri": "https://localhost:8080/",
          "height": 317
        },
        "id": "YDK6lPs9czgn",
        "outputId": "0726dfcd-bb23-4b2e-ee16-65581b2251fd"
      },
      "execution_count": null,
      "outputs": [
        {
          "output_type": "execute_result",
          "data": {
            "text/html": [
              "\n",
              "  <div id=\"df-bc81334c-6664-43fd-9930-36ae23a4020c\">\n",
              "    <div class=\"colab-df-container\">\n",
              "      <div>\n",
              "<style scoped>\n",
              "    .dataframe tbody tr th:only-of-type {\n",
              "        vertical-align: middle;\n",
              "    }\n",
              "\n",
              "    .dataframe tbody tr th {\n",
              "        vertical-align: top;\n",
              "    }\n",
              "\n",
              "    .dataframe thead th {\n",
              "        text-align: right;\n",
              "    }\n",
              "</style>\n",
              "<table border=\"1\" class=\"dataframe\">\n",
              "  <thead>\n",
              "    <tr style=\"text-align: right;\">\n",
              "      <th></th>\n",
              "      <th>row_id</th>\n",
              "      <th>direction_EB</th>\n",
              "      <th>direction_NB</th>\n",
              "      <th>direction_NE</th>\n",
              "      <th>direction_NW</th>\n",
              "      <th>direction_SB</th>\n",
              "      <th>direction_SE</th>\n",
              "      <th>direction_SW</th>\n",
              "      <th>direction_WB</th>\n",
              "      <th>location_(0, 0)</th>\n",
              "      <th>...</th>\n",
              "      <th>location_(0, 2)</th>\n",
              "      <th>location_(0, 3)</th>\n",
              "      <th>location_(1, 0)</th>\n",
              "      <th>location_(1, 1)</th>\n",
              "      <th>location_(1, 2)</th>\n",
              "      <th>location_(1, 3)</th>\n",
              "      <th>location_(2, 0)</th>\n",
              "      <th>location_(2, 1)</th>\n",
              "      <th>location_(2, 2)</th>\n",
              "      <th>location_(2, 3)</th>\n",
              "    </tr>\n",
              "  </thead>\n",
              "  <tbody>\n",
              "    <tr>\n",
              "      <th>0</th>\n",
              "      <td>0</td>\n",
              "      <td>1</td>\n",
              "      <td>0</td>\n",
              "      <td>0</td>\n",
              "      <td>0</td>\n",
              "      <td>0</td>\n",
              "      <td>0</td>\n",
              "      <td>0</td>\n",
              "      <td>0</td>\n",
              "      <td>1</td>\n",
              "      <td>...</td>\n",
              "      <td>0</td>\n",
              "      <td>0</td>\n",
              "      <td>0</td>\n",
              "      <td>0</td>\n",
              "      <td>0</td>\n",
              "      <td>0</td>\n",
              "      <td>0</td>\n",
              "      <td>0</td>\n",
              "      <td>0</td>\n",
              "      <td>0</td>\n",
              "    </tr>\n",
              "    <tr>\n",
              "      <th>1</th>\n",
              "      <td>1</td>\n",
              "      <td>0</td>\n",
              "      <td>1</td>\n",
              "      <td>0</td>\n",
              "      <td>0</td>\n",
              "      <td>0</td>\n",
              "      <td>0</td>\n",
              "      <td>0</td>\n",
              "      <td>0</td>\n",
              "      <td>1</td>\n",
              "      <td>...</td>\n",
              "      <td>0</td>\n",
              "      <td>0</td>\n",
              "      <td>0</td>\n",
              "      <td>0</td>\n",
              "      <td>0</td>\n",
              "      <td>0</td>\n",
              "      <td>0</td>\n",
              "      <td>0</td>\n",
              "      <td>0</td>\n",
              "      <td>0</td>\n",
              "    </tr>\n",
              "    <tr>\n",
              "      <th>2</th>\n",
              "      <td>2</td>\n",
              "      <td>0</td>\n",
              "      <td>0</td>\n",
              "      <td>0</td>\n",
              "      <td>0</td>\n",
              "      <td>1</td>\n",
              "      <td>0</td>\n",
              "      <td>0</td>\n",
              "      <td>0</td>\n",
              "      <td>1</td>\n",
              "      <td>...</td>\n",
              "      <td>0</td>\n",
              "      <td>0</td>\n",
              "      <td>0</td>\n",
              "      <td>0</td>\n",
              "      <td>0</td>\n",
              "      <td>0</td>\n",
              "      <td>0</td>\n",
              "      <td>0</td>\n",
              "      <td>0</td>\n",
              "      <td>0</td>\n",
              "    </tr>\n",
              "    <tr>\n",
              "      <th>3</th>\n",
              "      <td>3</td>\n",
              "      <td>1</td>\n",
              "      <td>0</td>\n",
              "      <td>0</td>\n",
              "      <td>0</td>\n",
              "      <td>0</td>\n",
              "      <td>0</td>\n",
              "      <td>0</td>\n",
              "      <td>0</td>\n",
              "      <td>0</td>\n",
              "      <td>...</td>\n",
              "      <td>0</td>\n",
              "      <td>0</td>\n",
              "      <td>0</td>\n",
              "      <td>0</td>\n",
              "      <td>0</td>\n",
              "      <td>0</td>\n",
              "      <td>0</td>\n",
              "      <td>0</td>\n",
              "      <td>0</td>\n",
              "      <td>0</td>\n",
              "    </tr>\n",
              "    <tr>\n",
              "      <th>4</th>\n",
              "      <td>4</td>\n",
              "      <td>0</td>\n",
              "      <td>1</td>\n",
              "      <td>0</td>\n",
              "      <td>0</td>\n",
              "      <td>0</td>\n",
              "      <td>0</td>\n",
              "      <td>0</td>\n",
              "      <td>0</td>\n",
              "      <td>0</td>\n",
              "      <td>...</td>\n",
              "      <td>0</td>\n",
              "      <td>0</td>\n",
              "      <td>0</td>\n",
              "      <td>0</td>\n",
              "      <td>0</td>\n",
              "      <td>0</td>\n",
              "      <td>0</td>\n",
              "      <td>0</td>\n",
              "      <td>0</td>\n",
              "      <td>0</td>\n",
              "    </tr>\n",
              "  </tbody>\n",
              "</table>\n",
              "<p>5 rows × 21 columns</p>\n",
              "</div>\n",
              "      <button class=\"colab-df-convert\" onclick=\"convertToInteractive('df-bc81334c-6664-43fd-9930-36ae23a4020c')\"\n",
              "              title=\"Convert this dataframe to an interactive table.\"\n",
              "              style=\"display:none;\">\n",
              "        \n",
              "  <svg xmlns=\"http://www.w3.org/2000/svg\" height=\"24px\"viewBox=\"0 0 24 24\"\n",
              "       width=\"24px\">\n",
              "    <path d=\"M0 0h24v24H0V0z\" fill=\"none\"/>\n",
              "    <path d=\"M18.56 5.44l.94 2.06.94-2.06 2.06-.94-2.06-.94-.94-2.06-.94 2.06-2.06.94zm-11 1L8.5 8.5l.94-2.06 2.06-.94-2.06-.94L8.5 2.5l-.94 2.06-2.06.94zm10 10l.94 2.06.94-2.06 2.06-.94-2.06-.94-.94-2.06-.94 2.06-2.06.94z\"/><path d=\"M17.41 7.96l-1.37-1.37c-.4-.4-.92-.59-1.43-.59-.52 0-1.04.2-1.43.59L10.3 9.45l-7.72 7.72c-.78.78-.78 2.05 0 2.83L4 21.41c.39.39.9.59 1.41.59.51 0 1.02-.2 1.41-.59l7.78-7.78 2.81-2.81c.8-.78.8-2.07 0-2.86zM5.41 20L4 18.59l7.72-7.72 1.47 1.35L5.41 20z\"/>\n",
              "  </svg>\n",
              "      </button>\n",
              "      \n",
              "  <style>\n",
              "    .colab-df-container {\n",
              "      display:flex;\n",
              "      flex-wrap:wrap;\n",
              "      gap: 12px;\n",
              "    }\n",
              "\n",
              "    .colab-df-convert {\n",
              "      background-color: #E8F0FE;\n",
              "      border: none;\n",
              "      border-radius: 50%;\n",
              "      cursor: pointer;\n",
              "      display: none;\n",
              "      fill: #1967D2;\n",
              "      height: 32px;\n",
              "      padding: 0 0 0 0;\n",
              "      width: 32px;\n",
              "    }\n",
              "\n",
              "    .colab-df-convert:hover {\n",
              "      background-color: #E2EBFA;\n",
              "      box-shadow: 0px 1px 2px rgba(60, 64, 67, 0.3), 0px 1px 3px 1px rgba(60, 64, 67, 0.15);\n",
              "      fill: #174EA6;\n",
              "    }\n",
              "\n",
              "    [theme=dark] .colab-df-convert {\n",
              "      background-color: #3B4455;\n",
              "      fill: #D2E3FC;\n",
              "    }\n",
              "\n",
              "    [theme=dark] .colab-df-convert:hover {\n",
              "      background-color: #434B5C;\n",
              "      box-shadow: 0px 1px 3px 1px rgba(0, 0, 0, 0.15);\n",
              "      filter: drop-shadow(0px 1px 2px rgba(0, 0, 0, 0.3));\n",
              "      fill: #FFFFFF;\n",
              "    }\n",
              "  </style>\n",
              "\n",
              "      <script>\n",
              "        const buttonEl =\n",
              "          document.querySelector('#df-bc81334c-6664-43fd-9930-36ae23a4020c button.colab-df-convert');\n",
              "        buttonEl.style.display =\n",
              "          google.colab.kernel.accessAllowed ? 'block' : 'none';\n",
              "\n",
              "        async function convertToInteractive(key) {\n",
              "          const element = document.querySelector('#df-bc81334c-6664-43fd-9930-36ae23a4020c');\n",
              "          const dataTable =\n",
              "            await google.colab.kernel.invokeFunction('convertToInteractive',\n",
              "                                                     [key], {});\n",
              "          if (!dataTable) return;\n",
              "\n",
              "          const docLinkHtml = 'Like what you see? Visit the ' +\n",
              "            '<a target=\"_blank\" href=https://colab.research.google.com/notebooks/data_table.ipynb>data table notebook</a>'\n",
              "            + ' to learn more about interactive tables.';\n",
              "          element.innerHTML = '';\n",
              "          dataTable['output_type'] = 'display_data';\n",
              "          await google.colab.output.renderOutput(dataTable, element);\n",
              "          const docLink = document.createElement('div');\n",
              "          docLink.innerHTML = docLinkHtml;\n",
              "          element.appendChild(docLink);\n",
              "        }\n",
              "      </script>\n",
              "    </div>\n",
              "  </div>\n",
              "  "
            ],
            "text/plain": [
              "   row_id  direction_EB  direction_NB  direction_NE  direction_NW  \\\n",
              "0       0             1             0             0             0   \n",
              "1       1             0             1             0             0   \n",
              "2       2             0             0             0             0   \n",
              "3       3             1             0             0             0   \n",
              "4       4             0             1             0             0   \n",
              "\n",
              "   direction_SB  direction_SE  direction_SW  direction_WB  location_(0, 0)  \\\n",
              "0             0             0             0             0                1   \n",
              "1             0             0             0             0                1   \n",
              "2             1             0             0             0                1   \n",
              "3             0             0             0             0                0   \n",
              "4             0             0             0             0                0   \n",
              "\n",
              "   ...  location_(0, 2)  location_(0, 3)  location_(1, 0)  location_(1, 1)  \\\n",
              "0  ...                0                0                0                0   \n",
              "1  ...                0                0                0                0   \n",
              "2  ...                0                0                0                0   \n",
              "3  ...                0                0                0                0   \n",
              "4  ...                0                0                0                0   \n",
              "\n",
              "   location_(1, 2)  location_(1, 3)  location_(2, 0)  location_(2, 1)  \\\n",
              "0                0                0                0                0   \n",
              "1                0                0                0                0   \n",
              "2                0                0                0                0   \n",
              "3                0                0                0                0   \n",
              "4                0                0                0                0   \n",
              "\n",
              "   location_(2, 2)  location_(2, 3)  \n",
              "0                0                0  \n",
              "1                0                0  \n",
              "2                0                0  \n",
              "3                0                0  \n",
              "4                0                0  \n",
              "\n",
              "[5 rows x 21 columns]"
            ]
          },
          "metadata": {},
          "execution_count": 53
        }
      ]
    },
    {
      "cell_type": "code",
      "source": [
        ""
      ],
      "metadata": {
        "id": "Af0rDtvEczq7"
      },
      "execution_count": null,
      "outputs": []
    },
    {
      "cell_type": "markdown",
      "source": [
=======
>>>>>>> 827112322a66591a34654b99fc95088df37c0dc0
        "### Normalization / Scaling"
      ],
      "metadata": {
        "id": "HZrL58CkA3MB"
      }
    },
    {
      "cell_type": "code",
      "source": [
        "# Using Standard Scaler\n",
        "from sklearn.preprocessing import StandardScaler\n",
        "\n",
        "scaler = StandardScaler()\n",
        "\n",
        "X_scaled = pd.DataFrame(scaler.fit_transform(X[['Month' ,'Day' ,'Hour']]) , columns = ['Month' ,'Day' ,'Hour'])\n",
        "\n",
        "X_scaled.head(10)"
      ],
      "metadata": {
        "colab": {
          "base_uri": "https://localhost:8080/",
          "height": 363
        },
        "id": "0LZTUaOSA3Si",
        "outputId": "2fe0a4a0-e809-489f-c308-ef452423ecea"
<<<<<<< HEAD
      },
      "execution_count": null,
      "outputs": [
        {
          "output_type": "execute_result",
          "data": {
            "text/html": [
              "\n",
              "  <div id=\"df-056ce261-fb73-4b71-8524-2dec75bd2bd7\">\n",
              "    <div class=\"colab-df-container\">\n",
              "      <div>\n",
              "<style scoped>\n",
              "    .dataframe tbody tr th:only-of-type {\n",
              "        vertical-align: middle;\n",
              "    }\n",
              "\n",
              "    .dataframe tbody tr th {\n",
              "        vertical-align: top;\n",
              "    }\n",
              "\n",
              "    .dataframe thead th {\n",
              "        text-align: right;\n",
              "    }\n",
              "</style>\n",
              "<table border=\"1\" class=\"dataframe\">\n",
              "  <thead>\n",
              "    <tr style=\"text-align: right;\">\n",
              "      <th></th>\n",
              "      <th>Month</th>\n",
              "      <th>Day</th>\n",
              "      <th>Hour</th>\n",
              "    </tr>\n",
              "  </thead>\n",
              "  <tbody>\n",
              "    <tr>\n",
              "      <th>0</th>\n",
              "      <td>-1.467375</td>\n",
              "      <td>-1.671268</td>\n",
              "      <td>-1.657262</td>\n",
              "    </tr>\n",
              "    <tr>\n",
              "      <th>1</th>\n",
              "      <td>-1.467375</td>\n",
              "      <td>-1.671268</td>\n",
              "      <td>-1.657262</td>\n",
              "    </tr>\n",
              "    <tr>\n",
              "      <th>2</th>\n",
              "      <td>-1.467375</td>\n",
              "      <td>-1.671268</td>\n",
              "      <td>-1.657262</td>\n",
              "    </tr>\n",
              "    <tr>\n",
              "      <th>3</th>\n",
              "      <td>-1.467375</td>\n",
              "      <td>-1.671268</td>\n",
              "      <td>-1.657262</td>\n",
              "    </tr>\n",
              "    <tr>\n",
              "      <th>4</th>\n",
              "      <td>-1.467375</td>\n",
              "      <td>-1.671268</td>\n",
              "      <td>-1.657262</td>\n",
              "    </tr>\n",
              "    <tr>\n",
              "      <th>5</th>\n",
              "      <td>-1.467375</td>\n",
              "      <td>-1.671268</td>\n",
              "      <td>-1.657262</td>\n",
              "    </tr>\n",
              "    <tr>\n",
              "      <th>6</th>\n",
              "      <td>-1.467375</td>\n",
              "      <td>-1.671268</td>\n",
              "      <td>-1.657262</td>\n",
              "    </tr>\n",
              "    <tr>\n",
              "      <th>7</th>\n",
              "      <td>-1.467375</td>\n",
              "      <td>-1.671268</td>\n",
              "      <td>-1.657262</td>\n",
              "    </tr>\n",
              "    <tr>\n",
              "      <th>8</th>\n",
              "      <td>-1.467375</td>\n",
              "      <td>-1.671268</td>\n",
              "      <td>-1.657262</td>\n",
              "    </tr>\n",
              "    <tr>\n",
              "      <th>9</th>\n",
              "      <td>-1.467375</td>\n",
              "      <td>-1.671268</td>\n",
              "      <td>-1.657262</td>\n",
              "    </tr>\n",
              "  </tbody>\n",
              "</table>\n",
              "</div>\n",
              "      <button class=\"colab-df-convert\" onclick=\"convertToInteractive('df-056ce261-fb73-4b71-8524-2dec75bd2bd7')\"\n",
              "              title=\"Convert this dataframe to an interactive table.\"\n",
              "              style=\"display:none;\">\n",
              "        \n",
              "  <svg xmlns=\"http://www.w3.org/2000/svg\" height=\"24px\"viewBox=\"0 0 24 24\"\n",
              "       width=\"24px\">\n",
              "    <path d=\"M0 0h24v24H0V0z\" fill=\"none\"/>\n",
              "    <path d=\"M18.56 5.44l.94 2.06.94-2.06 2.06-.94-2.06-.94-.94-2.06-.94 2.06-2.06.94zm-11 1L8.5 8.5l.94-2.06 2.06-.94-2.06-.94L8.5 2.5l-.94 2.06-2.06.94zm10 10l.94 2.06.94-2.06 2.06-.94-2.06-.94-.94-2.06-.94 2.06-2.06.94z\"/><path d=\"M17.41 7.96l-1.37-1.37c-.4-.4-.92-.59-1.43-.59-.52 0-1.04.2-1.43.59L10.3 9.45l-7.72 7.72c-.78.78-.78 2.05 0 2.83L4 21.41c.39.39.9.59 1.41.59.51 0 1.02-.2 1.41-.59l7.78-7.78 2.81-2.81c.8-.78.8-2.07 0-2.86zM5.41 20L4 18.59l7.72-7.72 1.47 1.35L5.41 20z\"/>\n",
              "  </svg>\n",
              "      </button>\n",
              "      \n",
              "  <style>\n",
              "    .colab-df-container {\n",
              "      display:flex;\n",
              "      flex-wrap:wrap;\n",
              "      gap: 12px;\n",
              "    }\n",
              "\n",
              "    .colab-df-convert {\n",
              "      background-color: #E8F0FE;\n",
              "      border: none;\n",
              "      border-radius: 50%;\n",
              "      cursor: pointer;\n",
              "      display: none;\n",
              "      fill: #1967D2;\n",
              "      height: 32px;\n",
              "      padding: 0 0 0 0;\n",
              "      width: 32px;\n",
              "    }\n",
              "\n",
              "    .colab-df-convert:hover {\n",
              "      background-color: #E2EBFA;\n",
              "      box-shadow: 0px 1px 2px rgba(60, 64, 67, 0.3), 0px 1px 3px 1px rgba(60, 64, 67, 0.15);\n",
              "      fill: #174EA6;\n",
              "    }\n",
              "\n",
              "    [theme=dark] .colab-df-convert {\n",
              "      background-color: #3B4455;\n",
              "      fill: #D2E3FC;\n",
              "    }\n",
              "\n",
              "    [theme=dark] .colab-df-convert:hover {\n",
              "      background-color: #434B5C;\n",
              "      box-shadow: 0px 1px 3px 1px rgba(0, 0, 0, 0.15);\n",
              "      filter: drop-shadow(0px 1px 2px rgba(0, 0, 0, 0.3));\n",
              "      fill: #FFFFFF;\n",
              "    }\n",
              "  </style>\n",
              "\n",
              "      <script>\n",
              "        const buttonEl =\n",
              "          document.querySelector('#df-056ce261-fb73-4b71-8524-2dec75bd2bd7 button.colab-df-convert');\n",
              "        buttonEl.style.display =\n",
              "          google.colab.kernel.accessAllowed ? 'block' : 'none';\n",
              "\n",
              "        async function convertToInteractive(key) {\n",
              "          const element = document.querySelector('#df-056ce261-fb73-4b71-8524-2dec75bd2bd7');\n",
              "          const dataTable =\n",
              "            await google.colab.kernel.invokeFunction('convertToInteractive',\n",
              "                                                     [key], {});\n",
              "          if (!dataTable) return;\n",
              "\n",
              "          const docLinkHtml = 'Like what you see? Visit the ' +\n",
              "            '<a target=\"_blank\" href=https://colab.research.google.com/notebooks/data_table.ipynb>data table notebook</a>'\n",
              "            + ' to learn more about interactive tables.';\n",
              "          element.innerHTML = '';\n",
              "          dataTable['output_type'] = 'display_data';\n",
              "          await google.colab.output.renderOutput(dataTable, element);\n",
              "          const docLink = document.createElement('div');\n",
              "          docLink.innerHTML = docLinkHtml;\n",
              "          element.appendChild(docLink);\n",
              "        }\n",
              "      </script>\n",
              "    </div>\n",
              "  </div>\n",
              "  "
            ],
            "text/plain": [
              "      Month       Day      Hour\n",
              "0 -1.467375 -1.671268 -1.657262\n",
              "1 -1.467375 -1.671268 -1.657262\n",
              "2 -1.467375 -1.671268 -1.657262\n",
              "3 -1.467375 -1.671268 -1.657262\n",
              "4 -1.467375 -1.671268 -1.657262\n",
              "5 -1.467375 -1.671268 -1.657262\n",
              "6 -1.467375 -1.671268 -1.657262\n",
              "7 -1.467375 -1.671268 -1.657262\n",
              "8 -1.467375 -1.671268 -1.657262\n",
              "9 -1.467375 -1.671268 -1.657262"
            ]
          },
          "metadata": {},
          "execution_count": 54
        }
      ]
    },
    {
      "cell_type": "code",
      "source": [
        "X_cleaned = pd.concat([X_scaled , X_encoded] , axis = 1)\n",
        "X_cleaned.head()"
      ],
      "metadata": {
        "colab": {
          "base_uri": "https://localhost:8080/",
          "height": 317
        },
        "id": "s_UnSZkIbLi_",
        "outputId": "c1e669ce-cc69-4a8f-a7ab-e386f9c1fcd0"
      },
      "execution_count": null,
      "outputs": [
        {
          "output_type": "execute_result",
          "data": {
            "text/html": [
              "\n",
              "  <div id=\"df-268deb56-d802-4f31-b92f-41b8edefbaf5\">\n",
              "    <div class=\"colab-df-container\">\n",
              "      <div>\n",
              "<style scoped>\n",
              "    .dataframe tbody tr th:only-of-type {\n",
              "        vertical-align: middle;\n",
              "    }\n",
              "\n",
              "    .dataframe tbody tr th {\n",
              "        vertical-align: top;\n",
              "    }\n",
              "\n",
              "    .dataframe thead th {\n",
              "        text-align: right;\n",
              "    }\n",
              "</style>\n",
              "<table border=\"1\" class=\"dataframe\">\n",
              "  <thead>\n",
              "    <tr style=\"text-align: right;\">\n",
              "      <th></th>\n",
              "      <th>Month</th>\n",
              "      <th>Day</th>\n",
              "      <th>Hour</th>\n",
              "      <th>row_id</th>\n",
              "      <th>direction_EB</th>\n",
              "      <th>direction_NB</th>\n",
              "      <th>direction_NE</th>\n",
              "      <th>direction_NW</th>\n",
              "      <th>direction_SB</th>\n",
              "      <th>direction_SE</th>\n",
              "      <th>...</th>\n",
              "      <th>location_(0, 2)</th>\n",
              "      <th>location_(0, 3)</th>\n",
              "      <th>location_(1, 0)</th>\n",
              "      <th>location_(1, 1)</th>\n",
              "      <th>location_(1, 2)</th>\n",
              "      <th>location_(1, 3)</th>\n",
              "      <th>location_(2, 0)</th>\n",
              "      <th>location_(2, 1)</th>\n",
              "      <th>location_(2, 2)</th>\n",
              "      <th>location_(2, 3)</th>\n",
              "    </tr>\n",
              "  </thead>\n",
              "  <tbody>\n",
              "    <tr>\n",
              "      <th>0</th>\n",
              "      <td>-1.467375</td>\n",
              "      <td>-1.671268</td>\n",
              "      <td>-1.657262</td>\n",
              "      <td>0</td>\n",
              "      <td>1</td>\n",
              "      <td>0</td>\n",
              "      <td>0</td>\n",
              "      <td>0</td>\n",
              "      <td>0</td>\n",
              "      <td>0</td>\n",
              "      <td>...</td>\n",
              "      <td>0</td>\n",
              "      <td>0</td>\n",
              "      <td>0</td>\n",
              "      <td>0</td>\n",
              "      <td>0</td>\n",
              "      <td>0</td>\n",
              "      <td>0</td>\n",
              "      <td>0</td>\n",
              "      <td>0</td>\n",
              "      <td>0</td>\n",
              "    </tr>\n",
              "    <tr>\n",
              "      <th>1</th>\n",
              "      <td>-1.467375</td>\n",
              "      <td>-1.671268</td>\n",
              "      <td>-1.657262</td>\n",
              "      <td>1</td>\n",
              "      <td>0</td>\n",
              "      <td>1</td>\n",
              "      <td>0</td>\n",
              "      <td>0</td>\n",
              "      <td>0</td>\n",
              "      <td>0</td>\n",
              "      <td>...</td>\n",
              "      <td>0</td>\n",
              "      <td>0</td>\n",
              "      <td>0</td>\n",
              "      <td>0</td>\n",
              "      <td>0</td>\n",
              "      <td>0</td>\n",
              "      <td>0</td>\n",
              "      <td>0</td>\n",
              "      <td>0</td>\n",
              "      <td>0</td>\n",
              "    </tr>\n",
              "    <tr>\n",
              "      <th>2</th>\n",
              "      <td>-1.467375</td>\n",
              "      <td>-1.671268</td>\n",
              "      <td>-1.657262</td>\n",
              "      <td>2</td>\n",
              "      <td>0</td>\n",
              "      <td>0</td>\n",
              "      <td>0</td>\n",
              "      <td>0</td>\n",
              "      <td>1</td>\n",
              "      <td>0</td>\n",
              "      <td>...</td>\n",
              "      <td>0</td>\n",
              "      <td>0</td>\n",
              "      <td>0</td>\n",
              "      <td>0</td>\n",
              "      <td>0</td>\n",
              "      <td>0</td>\n",
              "      <td>0</td>\n",
              "      <td>0</td>\n",
              "      <td>0</td>\n",
              "      <td>0</td>\n",
              "    </tr>\n",
              "    <tr>\n",
              "      <th>3</th>\n",
              "      <td>-1.467375</td>\n",
              "      <td>-1.671268</td>\n",
              "      <td>-1.657262</td>\n",
              "      <td>3</td>\n",
              "      <td>1</td>\n",
              "      <td>0</td>\n",
              "      <td>0</td>\n",
              "      <td>0</td>\n",
              "      <td>0</td>\n",
              "      <td>0</td>\n",
              "      <td>...</td>\n",
              "      <td>0</td>\n",
              "      <td>0</td>\n",
              "      <td>0</td>\n",
              "      <td>0</td>\n",
              "      <td>0</td>\n",
              "      <td>0</td>\n",
              "      <td>0</td>\n",
              "      <td>0</td>\n",
              "      <td>0</td>\n",
              "      <td>0</td>\n",
              "    </tr>\n",
              "    <tr>\n",
              "      <th>4</th>\n",
              "      <td>-1.467375</td>\n",
              "      <td>-1.671268</td>\n",
              "      <td>-1.657262</td>\n",
              "      <td>4</td>\n",
              "      <td>0</td>\n",
              "      <td>1</td>\n",
              "      <td>0</td>\n",
              "      <td>0</td>\n",
              "      <td>0</td>\n",
              "      <td>0</td>\n",
              "      <td>...</td>\n",
              "      <td>0</td>\n",
              "      <td>0</td>\n",
              "      <td>0</td>\n",
              "      <td>0</td>\n",
              "      <td>0</td>\n",
              "      <td>0</td>\n",
              "      <td>0</td>\n",
              "      <td>0</td>\n",
              "      <td>0</td>\n",
              "      <td>0</td>\n",
              "    </tr>\n",
              "  </tbody>\n",
              "</table>\n",
              "<p>5 rows × 24 columns</p>\n",
              "</div>\n",
              "      <button class=\"colab-df-convert\" onclick=\"convertToInteractive('df-268deb56-d802-4f31-b92f-41b8edefbaf5')\"\n",
              "              title=\"Convert this dataframe to an interactive table.\"\n",
              "              style=\"display:none;\">\n",
              "        \n",
              "  <svg xmlns=\"http://www.w3.org/2000/svg\" height=\"24px\"viewBox=\"0 0 24 24\"\n",
              "       width=\"24px\">\n",
              "    <path d=\"M0 0h24v24H0V0z\" fill=\"none\"/>\n",
              "    <path d=\"M18.56 5.44l.94 2.06.94-2.06 2.06-.94-2.06-.94-.94-2.06-.94 2.06-2.06.94zm-11 1L8.5 8.5l.94-2.06 2.06-.94-2.06-.94L8.5 2.5l-.94 2.06-2.06.94zm10 10l.94 2.06.94-2.06 2.06-.94-2.06-.94-.94-2.06-.94 2.06-2.06.94z\"/><path d=\"M17.41 7.96l-1.37-1.37c-.4-.4-.92-.59-1.43-.59-.52 0-1.04.2-1.43.59L10.3 9.45l-7.72 7.72c-.78.78-.78 2.05 0 2.83L4 21.41c.39.39.9.59 1.41.59.51 0 1.02-.2 1.41-.59l7.78-7.78 2.81-2.81c.8-.78.8-2.07 0-2.86zM5.41 20L4 18.59l7.72-7.72 1.47 1.35L5.41 20z\"/>\n",
              "  </svg>\n",
              "      </button>\n",
              "      \n",
              "  <style>\n",
              "    .colab-df-container {\n",
              "      display:flex;\n",
              "      flex-wrap:wrap;\n",
              "      gap: 12px;\n",
              "    }\n",
              "\n",
              "    .colab-df-convert {\n",
              "      background-color: #E8F0FE;\n",
              "      border: none;\n",
              "      border-radius: 50%;\n",
              "      cursor: pointer;\n",
              "      display: none;\n",
              "      fill: #1967D2;\n",
              "      height: 32px;\n",
              "      padding: 0 0 0 0;\n",
              "      width: 32px;\n",
              "    }\n",
              "\n",
              "    .colab-df-convert:hover {\n",
              "      background-color: #E2EBFA;\n",
              "      box-shadow: 0px 1px 2px rgba(60, 64, 67, 0.3), 0px 1px 3px 1px rgba(60, 64, 67, 0.15);\n",
              "      fill: #174EA6;\n",
              "    }\n",
              "\n",
              "    [theme=dark] .colab-df-convert {\n",
              "      background-color: #3B4455;\n",
              "      fill: #D2E3FC;\n",
              "    }\n",
              "\n",
              "    [theme=dark] .colab-df-convert:hover {\n",
              "      background-color: #434B5C;\n",
              "      box-shadow: 0px 1px 3px 1px rgba(0, 0, 0, 0.15);\n",
              "      filter: drop-shadow(0px 1px 2px rgba(0, 0, 0, 0.3));\n",
              "      fill: #FFFFFF;\n",
              "    }\n",
              "  </style>\n",
              "\n",
              "      <script>\n",
              "        const buttonEl =\n",
              "          document.querySelector('#df-268deb56-d802-4f31-b92f-41b8edefbaf5 button.colab-df-convert');\n",
              "        buttonEl.style.display =\n",
              "          google.colab.kernel.accessAllowed ? 'block' : 'none';\n",
              "\n",
              "        async function convertToInteractive(key) {\n",
              "          const element = document.querySelector('#df-268deb56-d802-4f31-b92f-41b8edefbaf5');\n",
              "          const dataTable =\n",
              "            await google.colab.kernel.invokeFunction('convertToInteractive',\n",
              "                                                     [key], {});\n",
              "          if (!dataTable) return;\n",
              "\n",
              "          const docLinkHtml = 'Like what you see? Visit the ' +\n",
              "            '<a target=\"_blank\" href=https://colab.research.google.com/notebooks/data_table.ipynb>data table notebook</a>'\n",
              "            + ' to learn more about interactive tables.';\n",
              "          element.innerHTML = '';\n",
              "          dataTable['output_type'] = 'display_data';\n",
              "          await google.colab.output.renderOutput(dataTable, element);\n",
              "          const docLink = document.createElement('div');\n",
              "          docLink.innerHTML = docLinkHtml;\n",
              "          element.appendChild(docLink);\n",
              "        }\n",
              "      </script>\n",
              "    </div>\n",
              "  </div>\n",
              "  "
            ],
            "text/plain": [
              "      Month       Day      Hour  row_id  direction_EB  direction_NB  \\\n",
              "0 -1.467375 -1.671268 -1.657262       0             1             0   \n",
              "1 -1.467375 -1.671268 -1.657262       1             0             1   \n",
              "2 -1.467375 -1.671268 -1.657262       2             0             0   \n",
              "3 -1.467375 -1.671268 -1.657262       3             1             0   \n",
              "4 -1.467375 -1.671268 -1.657262       4             0             1   \n",
              "\n",
              "   direction_NE  direction_NW  direction_SB  direction_SE  ...  \\\n",
              "0             0             0             0             0  ...   \n",
              "1             0             0             0             0  ...   \n",
              "2             0             0             1             0  ...   \n",
              "3             0             0             0             0  ...   \n",
              "4             0             0             0             0  ...   \n",
              "\n",
              "   location_(0, 2)  location_(0, 3)  location_(1, 0)  location_(1, 1)  \\\n",
              "0                0                0                0                0   \n",
              "1                0                0                0                0   \n",
              "2                0                0                0                0   \n",
              "3                0                0                0                0   \n",
              "4                0                0                0                0   \n",
              "\n",
              "   location_(1, 2)  location_(1, 3)  location_(2, 0)  location_(2, 1)  \\\n",
              "0                0                0                0                0   \n",
              "1                0                0                0                0   \n",
              "2                0                0                0                0   \n",
              "3                0                0                0                0   \n",
              "4                0                0                0                0   \n",
              "\n",
              "   location_(2, 2)  location_(2, 3)  \n",
              "0                0                0  \n",
              "1                0                0  \n",
              "2                0                0  \n",
              "3                0                0  \n",
              "4                0                0  \n",
              "\n",
              "[5 rows x 24 columns]"
            ]
          },
          "metadata": {},
          "execution_count": 55
        }
      ]
    },
    {
      "cell_type": "code",
      "source": [
        "X_cleaned.isnull().sum()"
      ],
      "metadata": {
        "colab": {
          "base_uri": "https://localhost:8080/"
        },
        "id": "OSyHWtu8bLs1",
        "outputId": "ef70624c-566d-4df4-a7b7-16b0387bec45"
      },
      "execution_count": null,
      "outputs": [
        {
          "output_type": "execute_result",
          "data": {
            "text/plain": [
              "Month              0\n",
              "Day                0\n",
              "Hour               0\n",
              "row_id             0\n",
              "direction_EB       0\n",
              "direction_NB       0\n",
              "direction_NE       0\n",
              "direction_NW       0\n",
              "direction_SB       0\n",
              "direction_SE       0\n",
              "direction_SW       0\n",
              "direction_WB       0\n",
              "location_(0, 0)    0\n",
              "location_(0, 1)    0\n",
              "location_(0, 2)    0\n",
              "location_(0, 3)    0\n",
              "location_(1, 0)    0\n",
              "location_(1, 1)    0\n",
              "location_(1, 2)    0\n",
              "location_(1, 3)    0\n",
              "location_(2, 0)    0\n",
              "location_(2, 1)    0\n",
              "location_(2, 2)    0\n",
              "location_(2, 3)    0\n",
              "dtype: int64"
            ]
          },
          "metadata": {},
          "execution_count": 56
        }
      ]
    },
    {
      "cell_type": "markdown",
      "source": [
        "### Features have been scaled"
      ],
      "metadata": {
        "id": "OMRPHFGFbLuZ"
      }
    },
    {
      "cell_type": "markdown",
      "source": [
        "-x-x-x-x-x-x-x-x-x-x-x-x-x-x-x-x-x-x-x-x-x-x-x-x-x-x-x-x-x-x-x-x-x-"
      ],
      "metadata": {
        "id": "vAm_zJQ6bLwI"
      }
    },
    {
      "cell_type": "code",
      "source": [
        "## Train and test split"
      ],
      "metadata": {
        "id": "jjtoajWqbLx9"
=======
>>>>>>> 827112322a66591a34654b99fc95088df37c0dc0
      },
      "execution_count": 54,
      "outputs": [
        {
          "output_type": "execute_result",
          "data": {
            "text/html": [
              "\n",
              "  <div id=\"df-056ce261-fb73-4b71-8524-2dec75bd2bd7\">\n",
              "    <div class=\"colab-df-container\">\n",
              "      <div>\n",
              "<style scoped>\n",
              "    .dataframe tbody tr th:only-of-type {\n",
              "        vertical-align: middle;\n",
              "    }\n",
              "\n",
              "    .dataframe tbody tr th {\n",
              "        vertical-align: top;\n",
              "    }\n",
              "\n",
              "    .dataframe thead th {\n",
              "        text-align: right;\n",
              "    }\n",
              "</style>\n",
              "<table border=\"1\" class=\"dataframe\">\n",
              "  <thead>\n",
              "    <tr style=\"text-align: right;\">\n",
              "      <th></th>\n",
              "      <th>Month</th>\n",
              "      <th>Day</th>\n",
              "      <th>Hour</th>\n",
              "    </tr>\n",
              "  </thead>\n",
              "  <tbody>\n",
              "    <tr>\n",
              "      <th>0</th>\n",
              "      <td>-1.467375</td>\n",
              "      <td>-1.671268</td>\n",
              "      <td>-1.657262</td>\n",
              "    </tr>\n",
              "    <tr>\n",
              "      <th>1</th>\n",
              "      <td>-1.467375</td>\n",
              "      <td>-1.671268</td>\n",
              "      <td>-1.657262</td>\n",
              "    </tr>\n",
              "    <tr>\n",
              "      <th>2</th>\n",
              "      <td>-1.467375</td>\n",
              "      <td>-1.671268</td>\n",
              "      <td>-1.657262</td>\n",
              "    </tr>\n",
              "    <tr>\n",
              "      <th>3</th>\n",
              "      <td>-1.467375</td>\n",
              "      <td>-1.671268</td>\n",
              "      <td>-1.657262</td>\n",
              "    </tr>\n",
              "    <tr>\n",
              "      <th>4</th>\n",
              "      <td>-1.467375</td>\n",
              "      <td>-1.671268</td>\n",
              "      <td>-1.657262</td>\n",
              "    </tr>\n",
              "    <tr>\n",
              "      <th>5</th>\n",
              "      <td>-1.467375</td>\n",
              "      <td>-1.671268</td>\n",
              "      <td>-1.657262</td>\n",
              "    </tr>\n",
              "    <tr>\n",
              "      <th>6</th>\n",
              "      <td>-1.467375</td>\n",
              "      <td>-1.671268</td>\n",
              "      <td>-1.657262</td>\n",
              "    </tr>\n",
              "    <tr>\n",
              "      <th>7</th>\n",
              "      <td>-1.467375</td>\n",
              "      <td>-1.671268</td>\n",
              "      <td>-1.657262</td>\n",
              "    </tr>\n",
              "    <tr>\n",
              "      <th>8</th>\n",
              "      <td>-1.467375</td>\n",
              "      <td>-1.671268</td>\n",
              "      <td>-1.657262</td>\n",
              "    </tr>\n",
              "    <tr>\n",
              "      <th>9</th>\n",
              "      <td>-1.467375</td>\n",
              "      <td>-1.671268</td>\n",
              "      <td>-1.657262</td>\n",
              "    </tr>\n",
              "  </tbody>\n",
              "</table>\n",
              "</div>\n",
              "      <button class=\"colab-df-convert\" onclick=\"convertToInteractive('df-056ce261-fb73-4b71-8524-2dec75bd2bd7')\"\n",
              "              title=\"Convert this dataframe to an interactive table.\"\n",
              "              style=\"display:none;\">\n",
              "        \n",
              "  <svg xmlns=\"http://www.w3.org/2000/svg\" height=\"24px\"viewBox=\"0 0 24 24\"\n",
              "       width=\"24px\">\n",
              "    <path d=\"M0 0h24v24H0V0z\" fill=\"none\"/>\n",
              "    <path d=\"M18.56 5.44l.94 2.06.94-2.06 2.06-.94-2.06-.94-.94-2.06-.94 2.06-2.06.94zm-11 1L8.5 8.5l.94-2.06 2.06-.94-2.06-.94L8.5 2.5l-.94 2.06-2.06.94zm10 10l.94 2.06.94-2.06 2.06-.94-2.06-.94-.94-2.06-.94 2.06-2.06.94z\"/><path d=\"M17.41 7.96l-1.37-1.37c-.4-.4-.92-.59-1.43-.59-.52 0-1.04.2-1.43.59L10.3 9.45l-7.72 7.72c-.78.78-.78 2.05 0 2.83L4 21.41c.39.39.9.59 1.41.59.51 0 1.02-.2 1.41-.59l7.78-7.78 2.81-2.81c.8-.78.8-2.07 0-2.86zM5.41 20L4 18.59l7.72-7.72 1.47 1.35L5.41 20z\"/>\n",
              "  </svg>\n",
              "      </button>\n",
              "      \n",
              "  <style>\n",
              "    .colab-df-container {\n",
              "      display:flex;\n",
              "      flex-wrap:wrap;\n",
              "      gap: 12px;\n",
              "    }\n",
              "\n",
              "    .colab-df-convert {\n",
              "      background-color: #E8F0FE;\n",
              "      border: none;\n",
              "      border-radius: 50%;\n",
              "      cursor: pointer;\n",
              "      display: none;\n",
              "      fill: #1967D2;\n",
              "      height: 32px;\n",
              "      padding: 0 0 0 0;\n",
              "      width: 32px;\n",
              "    }\n",
              "\n",
              "    .colab-df-convert:hover {\n",
              "      background-color: #E2EBFA;\n",
              "      box-shadow: 0px 1px 2px rgba(60, 64, 67, 0.3), 0px 1px 3px 1px rgba(60, 64, 67, 0.15);\n",
              "      fill: #174EA6;\n",
              "    }\n",
              "\n",
              "    [theme=dark] .colab-df-convert {\n",
              "      background-color: #3B4455;\n",
              "      fill: #D2E3FC;\n",
              "    }\n",
              "\n",
              "    [theme=dark] .colab-df-convert:hover {\n",
              "      background-color: #434B5C;\n",
              "      box-shadow: 0px 1px 3px 1px rgba(0, 0, 0, 0.15);\n",
              "      filter: drop-shadow(0px 1px 2px rgba(0, 0, 0, 0.3));\n",
              "      fill: #FFFFFF;\n",
              "    }\n",
              "  </style>\n",
              "\n",
              "      <script>\n",
              "        const buttonEl =\n",
              "          document.querySelector('#df-056ce261-fb73-4b71-8524-2dec75bd2bd7 button.colab-df-convert');\n",
              "        buttonEl.style.display =\n",
              "          google.colab.kernel.accessAllowed ? 'block' : 'none';\n",
              "\n",
              "        async function convertToInteractive(key) {\n",
              "          const element = document.querySelector('#df-056ce261-fb73-4b71-8524-2dec75bd2bd7');\n",
              "          const dataTable =\n",
              "            await google.colab.kernel.invokeFunction('convertToInteractive',\n",
              "                                                     [key], {});\n",
              "          if (!dataTable) return;\n",
              "\n",
              "          const docLinkHtml = 'Like what you see? Visit the ' +\n",
              "            '<a target=\"_blank\" href=https://colab.research.google.com/notebooks/data_table.ipynb>data table notebook</a>'\n",
              "            + ' to learn more about interactive tables.';\n",
              "          element.innerHTML = '';\n",
              "          dataTable['output_type'] = 'display_data';\n",
              "          await google.colab.output.renderOutput(dataTable, element);\n",
              "          const docLink = document.createElement('div');\n",
              "          docLink.innerHTML = docLinkHtml;\n",
              "          element.appendChild(docLink);\n",
              "        }\n",
              "      </script>\n",
              "    </div>\n",
              "  </div>\n",
              "  "
            ],
            "text/plain": [
              "      Month       Day      Hour\n",
              "0 -1.467375 -1.671268 -1.657262\n",
              "1 -1.467375 -1.671268 -1.657262\n",
              "2 -1.467375 -1.671268 -1.657262\n",
              "3 -1.467375 -1.671268 -1.657262\n",
              "4 -1.467375 -1.671268 -1.657262\n",
              "5 -1.467375 -1.671268 -1.657262\n",
              "6 -1.467375 -1.671268 -1.657262\n",
              "7 -1.467375 -1.671268 -1.657262\n",
              "8 -1.467375 -1.671268 -1.657262\n",
              "9 -1.467375 -1.671268 -1.657262"
            ]
          },
          "metadata": {},
          "execution_count": 54
        }
      ]
    },
    {
      "cell_type": "code",
      "source": [
        "X_cleaned = pd.concat([X_scaled , X_encoded] , axis = 1)\n",
        "X_cleaned.head()"
      ],
      "metadata": {
        "colab": {
          "base_uri": "https://localhost:8080/",
          "height": 317
        },
        "id": "s_UnSZkIbLi_",
        "outputId": "c1e669ce-cc69-4a8f-a7ab-e386f9c1fcd0"
      },
      "execution_count": 55,
      "outputs": [
        {
          "output_type": "execute_result",
          "data": {
            "text/html": [
              "\n",
              "  <div id=\"df-268deb56-d802-4f31-b92f-41b8edefbaf5\">\n",
              "    <div class=\"colab-df-container\">\n",
              "      <div>\n",
              "<style scoped>\n",
              "    .dataframe tbody tr th:only-of-type {\n",
              "        vertical-align: middle;\n",
              "    }\n",
              "\n",
              "    .dataframe tbody tr th {\n",
              "        vertical-align: top;\n",
              "    }\n",
              "\n",
              "    .dataframe thead th {\n",
              "        text-align: right;\n",
              "    }\n",
              "</style>\n",
              "<table border=\"1\" class=\"dataframe\">\n",
              "  <thead>\n",
              "    <tr style=\"text-align: right;\">\n",
              "      <th></th>\n",
              "      <th>Month</th>\n",
              "      <th>Day</th>\n",
              "      <th>Hour</th>\n",
              "      <th>row_id</th>\n",
              "      <th>direction_EB</th>\n",
              "      <th>direction_NB</th>\n",
              "      <th>direction_NE</th>\n",
              "      <th>direction_NW</th>\n",
              "      <th>direction_SB</th>\n",
              "      <th>direction_SE</th>\n",
              "      <th>...</th>\n",
              "      <th>location_(0, 2)</th>\n",
              "      <th>location_(0, 3)</th>\n",
              "      <th>location_(1, 0)</th>\n",
              "      <th>location_(1, 1)</th>\n",
              "      <th>location_(1, 2)</th>\n",
              "      <th>location_(1, 3)</th>\n",
              "      <th>location_(2, 0)</th>\n",
              "      <th>location_(2, 1)</th>\n",
              "      <th>location_(2, 2)</th>\n",
              "      <th>location_(2, 3)</th>\n",
              "    </tr>\n",
              "  </thead>\n",
              "  <tbody>\n",
              "    <tr>\n",
              "      <th>0</th>\n",
              "      <td>-1.467375</td>\n",
              "      <td>-1.671268</td>\n",
              "      <td>-1.657262</td>\n",
              "      <td>0</td>\n",
              "      <td>1</td>\n",
              "      <td>0</td>\n",
              "      <td>0</td>\n",
              "      <td>0</td>\n",
              "      <td>0</td>\n",
              "      <td>0</td>\n",
              "      <td>...</td>\n",
              "      <td>0</td>\n",
              "      <td>0</td>\n",
              "      <td>0</td>\n",
              "      <td>0</td>\n",
              "      <td>0</td>\n",
              "      <td>0</td>\n",
              "      <td>0</td>\n",
              "      <td>0</td>\n",
              "      <td>0</td>\n",
              "      <td>0</td>\n",
              "    </tr>\n",
              "    <tr>\n",
              "      <th>1</th>\n",
              "      <td>-1.467375</td>\n",
              "      <td>-1.671268</td>\n",
              "      <td>-1.657262</td>\n",
              "      <td>1</td>\n",
              "      <td>0</td>\n",
              "      <td>1</td>\n",
              "      <td>0</td>\n",
              "      <td>0</td>\n",
              "      <td>0</td>\n",
              "      <td>0</td>\n",
              "      <td>...</td>\n",
              "      <td>0</td>\n",
              "      <td>0</td>\n",
              "      <td>0</td>\n",
              "      <td>0</td>\n",
              "      <td>0</td>\n",
              "      <td>0</td>\n",
              "      <td>0</td>\n",
              "      <td>0</td>\n",
              "      <td>0</td>\n",
              "      <td>0</td>\n",
              "    </tr>\n",
              "    <tr>\n",
              "      <th>2</th>\n",
              "      <td>-1.467375</td>\n",
              "      <td>-1.671268</td>\n",
              "      <td>-1.657262</td>\n",
              "      <td>2</td>\n",
              "      <td>0</td>\n",
              "      <td>0</td>\n",
              "      <td>0</td>\n",
              "      <td>0</td>\n",
              "      <td>1</td>\n",
              "      <td>0</td>\n",
              "      <td>...</td>\n",
              "      <td>0</td>\n",
              "      <td>0</td>\n",
              "      <td>0</td>\n",
              "      <td>0</td>\n",
              "      <td>0</td>\n",
              "      <td>0</td>\n",
              "      <td>0</td>\n",
              "      <td>0</td>\n",
              "      <td>0</td>\n",
              "      <td>0</td>\n",
              "    </tr>\n",
              "    <tr>\n",
              "      <th>3</th>\n",
              "      <td>-1.467375</td>\n",
              "      <td>-1.671268</td>\n",
              "      <td>-1.657262</td>\n",
              "      <td>3</td>\n",
              "      <td>1</td>\n",
              "      <td>0</td>\n",
              "      <td>0</td>\n",
              "      <td>0</td>\n",
              "      <td>0</td>\n",
              "      <td>0</td>\n",
              "      <td>...</td>\n",
              "      <td>0</td>\n",
              "      <td>0</td>\n",
              "      <td>0</td>\n",
              "      <td>0</td>\n",
              "      <td>0</td>\n",
              "      <td>0</td>\n",
              "      <td>0</td>\n",
              "      <td>0</td>\n",
              "      <td>0</td>\n",
              "      <td>0</td>\n",
              "    </tr>\n",
              "    <tr>\n",
              "      <th>4</th>\n",
              "      <td>-1.467375</td>\n",
              "      <td>-1.671268</td>\n",
              "      <td>-1.657262</td>\n",
              "      <td>4</td>\n",
              "      <td>0</td>\n",
              "      <td>1</td>\n",
              "      <td>0</td>\n",
              "      <td>0</td>\n",
              "      <td>0</td>\n",
              "      <td>0</td>\n",
              "      <td>...</td>\n",
              "      <td>0</td>\n",
              "      <td>0</td>\n",
              "      <td>0</td>\n",
              "      <td>0</td>\n",
              "      <td>0</td>\n",
              "      <td>0</td>\n",
              "      <td>0</td>\n",
              "      <td>0</td>\n",
              "      <td>0</td>\n",
              "      <td>0</td>\n",
              "    </tr>\n",
              "  </tbody>\n",
              "</table>\n",
              "<p>5 rows × 24 columns</p>\n",
              "</div>\n",
              "      <button class=\"colab-df-convert\" onclick=\"convertToInteractive('df-268deb56-d802-4f31-b92f-41b8edefbaf5')\"\n",
              "              title=\"Convert this dataframe to an interactive table.\"\n",
              "              style=\"display:none;\">\n",
              "        \n",
              "  <svg xmlns=\"http://www.w3.org/2000/svg\" height=\"24px\"viewBox=\"0 0 24 24\"\n",
              "       width=\"24px\">\n",
              "    <path d=\"M0 0h24v24H0V0z\" fill=\"none\"/>\n",
              "    <path d=\"M18.56 5.44l.94 2.06.94-2.06 2.06-.94-2.06-.94-.94-2.06-.94 2.06-2.06.94zm-11 1L8.5 8.5l.94-2.06 2.06-.94-2.06-.94L8.5 2.5l-.94 2.06-2.06.94zm10 10l.94 2.06.94-2.06 2.06-.94-2.06-.94-.94-2.06-.94 2.06-2.06.94z\"/><path d=\"M17.41 7.96l-1.37-1.37c-.4-.4-.92-.59-1.43-.59-.52 0-1.04.2-1.43.59L10.3 9.45l-7.72 7.72c-.78.78-.78 2.05 0 2.83L4 21.41c.39.39.9.59 1.41.59.51 0 1.02-.2 1.41-.59l7.78-7.78 2.81-2.81c.8-.78.8-2.07 0-2.86zM5.41 20L4 18.59l7.72-7.72 1.47 1.35L5.41 20z\"/>\n",
              "  </svg>\n",
              "      </button>\n",
              "      \n",
              "  <style>\n",
              "    .colab-df-container {\n",
              "      display:flex;\n",
              "      flex-wrap:wrap;\n",
              "      gap: 12px;\n",
              "    }\n",
              "\n",
              "    .colab-df-convert {\n",
              "      background-color: #E8F0FE;\n",
              "      border: none;\n",
              "      border-radius: 50%;\n",
              "      cursor: pointer;\n",
              "      display: none;\n",
              "      fill: #1967D2;\n",
              "      height: 32px;\n",
              "      padding: 0 0 0 0;\n",
              "      width: 32px;\n",
              "    }\n",
              "\n",
              "    .colab-df-convert:hover {\n",
              "      background-color: #E2EBFA;\n",
              "      box-shadow: 0px 1px 2px rgba(60, 64, 67, 0.3), 0px 1px 3px 1px rgba(60, 64, 67, 0.15);\n",
              "      fill: #174EA6;\n",
              "    }\n",
              "\n",
              "    [theme=dark] .colab-df-convert {\n",
              "      background-color: #3B4455;\n",
              "      fill: #D2E3FC;\n",
              "    }\n",
              "\n",
              "    [theme=dark] .colab-df-convert:hover {\n",
              "      background-color: #434B5C;\n",
              "      box-shadow: 0px 1px 3px 1px rgba(0, 0, 0, 0.15);\n",
              "      filter: drop-shadow(0px 1px 2px rgba(0, 0, 0, 0.3));\n",
              "      fill: #FFFFFF;\n",
              "    }\n",
              "  </style>\n",
              "\n",
              "      <script>\n",
              "        const buttonEl =\n",
              "          document.querySelector('#df-268deb56-d802-4f31-b92f-41b8edefbaf5 button.colab-df-convert');\n",
              "        buttonEl.style.display =\n",
              "          google.colab.kernel.accessAllowed ? 'block' : 'none';\n",
              "\n",
              "        async function convertToInteractive(key) {\n",
              "          const element = document.querySelector('#df-268deb56-d802-4f31-b92f-41b8edefbaf5');\n",
              "          const dataTable =\n",
              "            await google.colab.kernel.invokeFunction('convertToInteractive',\n",
              "                                                     [key], {});\n",
              "          if (!dataTable) return;\n",
              "\n",
              "          const docLinkHtml = 'Like what you see? Visit the ' +\n",
              "            '<a target=\"_blank\" href=https://colab.research.google.com/notebooks/data_table.ipynb>data table notebook</a>'\n",
              "            + ' to learn more about interactive tables.';\n",
              "          element.innerHTML = '';\n",
              "          dataTable['output_type'] = 'display_data';\n",
              "          await google.colab.output.renderOutput(dataTable, element);\n",
              "          const docLink = document.createElement('div');\n",
              "          docLink.innerHTML = docLinkHtml;\n",
              "          element.appendChild(docLink);\n",
              "        }\n",
              "      </script>\n",
              "    </div>\n",
              "  </div>\n",
              "  "
            ],
            "text/plain": [
              "      Month       Day      Hour  row_id  direction_EB  direction_NB  \\\n",
              "0 -1.467375 -1.671268 -1.657262       0             1             0   \n",
              "1 -1.467375 -1.671268 -1.657262       1             0             1   \n",
              "2 -1.467375 -1.671268 -1.657262       2             0             0   \n",
              "3 -1.467375 -1.671268 -1.657262       3             1             0   \n",
              "4 -1.467375 -1.671268 -1.657262       4             0             1   \n",
              "\n",
              "   direction_NE  direction_NW  direction_SB  direction_SE  ...  \\\n",
              "0             0             0             0             0  ...   \n",
              "1             0             0             0             0  ...   \n",
              "2             0             0             1             0  ...   \n",
              "3             0             0             0             0  ...   \n",
              "4             0             0             0             0  ...   \n",
              "\n",
              "   location_(0, 2)  location_(0, 3)  location_(1, 0)  location_(1, 1)  \\\n",
              "0                0                0                0                0   \n",
              "1                0                0                0                0   \n",
              "2                0                0                0                0   \n",
              "3                0                0                0                0   \n",
              "4                0                0                0                0   \n",
              "\n",
              "   location_(1, 2)  location_(1, 3)  location_(2, 0)  location_(2, 1)  \\\n",
              "0                0                0                0                0   \n",
              "1                0                0                0                0   \n",
              "2                0                0                0                0   \n",
              "3                0                0                0                0   \n",
              "4                0                0                0                0   \n",
              "\n",
              "   location_(2, 2)  location_(2, 3)  \n",
              "0                0                0  \n",
              "1                0                0  \n",
              "2                0                0  \n",
              "3                0                0  \n",
              "4                0                0  \n",
              "\n",
              "[5 rows x 24 columns]"
            ]
          },
          "metadata": {},
          "execution_count": 55
        }
      ]
    },
    {
      "cell_type": "code",
      "source": [
        "X_cleaned.isnull().sum()"
      ],
      "metadata": {
        "colab": {
          "base_uri": "https://localhost:8080/"
        },
        "id": "OSyHWtu8bLs1",
        "outputId": "ef70624c-566d-4df4-a7b7-16b0387bec45"
      },
      "execution_count": 56,
      "outputs": [
        {
          "output_type": "execute_result",
          "data": {
            "text/plain": [
              "Month              0\n",
              "Day                0\n",
              "Hour               0\n",
              "row_id             0\n",
              "direction_EB       0\n",
              "direction_NB       0\n",
              "direction_NE       0\n",
              "direction_NW       0\n",
              "direction_SB       0\n",
              "direction_SE       0\n",
              "direction_SW       0\n",
              "direction_WB       0\n",
              "location_(0, 0)    0\n",
              "location_(0, 1)    0\n",
              "location_(0, 2)    0\n",
              "location_(0, 3)    0\n",
              "location_(1, 0)    0\n",
              "location_(1, 1)    0\n",
              "location_(1, 2)    0\n",
              "location_(1, 3)    0\n",
              "location_(2, 0)    0\n",
              "location_(2, 1)    0\n",
              "location_(2, 2)    0\n",
              "location_(2, 3)    0\n",
              "dtype: int64"
            ]
          },
          "metadata": {},
          "execution_count": 56
        }
      ]
    },
    {
      "cell_type": "markdown",
      "source": [
        "### Features have been scaled"
      ],
      "metadata": {
        "id": "OMRPHFGFbLuZ"
      }
    },
    {
      "cell_type": "markdown",
      "source": [
        "-x-x-x-x-x-x-x-x-x-x-x-x-x-x-x-x-x-x-x-x-x-x-x-x-x-x-x-x-x-x-x-x-x-"
      ],
      "metadata": {
        "id": "vAm_zJQ6bLwI"
      }
    },
    {
      "cell_type": "code",
      "source": [
        "## Train and test split"
      ],
      "metadata": {
        "id": "jjtoajWqbLx9"
      },
      "execution_count": 57,
      "outputs": []
    },
    {
      "cell_type": "code",
      "source": [
        "from sklearn.model_selection import train_test_split\n",
        "\n",
        "X_train , X_valid , y_train , y_valid = train_test_split(X_cleaned , y , random_state = 42)"
      ],
      "metadata": {
        "id": "saX1k7CObL4t"
<<<<<<< HEAD
      },
      "execution_count": null,
      "outputs": []
    },
    {
      "cell_type": "code",
      "source": [
        "len(X_train) , len(X_valid)"
      ],
      "metadata": {
        "colab": {
          "base_uri": "https://localhost:8080/"
        },
        "id": "8Oo8g430bMDC",
        "outputId": "07292c03-a6c2-490c-ba5b-8a6740c9a5f5"
      },
      "execution_count": null,
      "outputs": [
        {
          "output_type": "execute_result",
          "data": {
            "text/plain": [
              "(636626, 212209)"
            ]
          },
          "metadata": {},
          "execution_count": 59
        }
      ]
    },
    {
      "cell_type": "code",
      "source": [
        "len(y_train) , len(y_valid)"
      ],
      "metadata": {
        "colab": {
          "base_uri": "https://localhost:8080/"
        },
        "id": "WKJnVc_0bMFJ",
        "outputId": "f4a1cdf7-4c8b-41be-f3ce-b4199f29175e"
      },
      "execution_count": null,
      "outputs": [
        {
          "output_type": "execute_result",
          "data": {
            "text/plain": [
              "(636626, 212209)"
            ]
          },
          "metadata": {},
          "execution_count": 60
        }
      ]
    },
    {
      "cell_type": "code",
      "source": [
        "# Save X_cleaned and y for future uses\n",
        "train_df_clean = pd.concat([X_cleaned  , y] , axis = 1)\n",
        "train_df_clean.to_csv('train_df_clean.csv' , index = False)"
      ],
      "metadata": {
        "id": "ZvVAuOoyzbCs"
      },
      "execution_count": null,
      "outputs": []
    },
    {
      "cell_type": "code",
      "source": [
        "train_df_clean.isnull().sum()"
      ],
      "metadata": {
        "colab": {
          "base_uri": "https://localhost:8080/"
        },
        "id": "QqtfqGQuzbL8",
        "outputId": "22b1191b-d1d2-4265-f7a7-bafe5cec2e6e"
      },
      "execution_count": null,
      "outputs": [
        {
          "output_type": "execute_result",
          "data": {
            "text/plain": [
              "Month              0\n",
              "Day                0\n",
              "Hour               0\n",
              "row_id             0\n",
              "direction_EB       0\n",
              "direction_NB       0\n",
              "direction_NE       0\n",
              "direction_NW       0\n",
              "direction_SB       0\n",
              "direction_SE       0\n",
              "direction_SW       0\n",
              "direction_WB       0\n",
              "location_(0, 0)    0\n",
              "location_(0, 1)    0\n",
              "location_(0, 2)    0\n",
              "location_(0, 3)    0\n",
              "location_(1, 0)    0\n",
              "location_(1, 1)    0\n",
              "location_(1, 2)    0\n",
              "location_(1, 3)    0\n",
              "location_(2, 0)    0\n",
              "location_(2, 1)    0\n",
              "location_(2, 2)    0\n",
              "location_(2, 3)    0\n",
              "congestion         0\n",
              "dtype: int64"
            ]
          },
          "metadata": {},
          "execution_count": 85
        }
      ]
    },
    {
      "cell_type": "markdown",
      "source": [
        "-x-x-x-x-x-x-x-x-x-x-x-x-x-x-x-x-x-x-x-x-x-x-x-x-x-x-x-x-x-x-x-x"
      ],
      "metadata": {
        "id": "O9J_uAR3bMHW"
      }
    },
    {
      "cell_type": "markdown",
      "source": [
        "# Time to fit some models and evaluate their MAE\n",
        "##   1) Linear Regressor\n",
        "##   2) XGboost\n",
        "##   3) RandomForest\n",
        "##   4) Deep Learning Model"
      ],
      "metadata": {
        "id": "D-5ZXAM3etS5"
      }
    },
    {
      "cell_type": "markdown",
      "source": [
        "###1) Linear Regression"
      ],
      "metadata": {
        "id": "7C1E0hEugAVF"
      }
    },
    {
      "cell_type": "code",
      "source": [
        "from sklearn.linear_model import LinearRegression\n",
        "\n",
        "lr = LinearRegression()\n",
        "\n",
        "lr.fit(X_train , y_train)\n",
        "\n",
        "y_preds_lr = lr.predict(X_valid)"
      ],
      "metadata": {
        "id": "LDKqkwBAetdm"
      },
      "execution_count": null,
      "outputs": []
    },
    {
      "cell_type": "code",
      "source": [
        "from sklearn.metrics import mean_absolute_error\n",
        "\n",
        "lr_mae = mean_absolute_error(y_valid , y_preds_lr)\n",
        "print(\"MAE in baseline Linear Regressor\" , lr_mae)"
      ],
      "metadata": {
        "colab": {
          "base_uri": "https://localhost:8080/"
        },
        "id": "sKeTESyRetfp",
        "outputId": "c9ecea90-d3c3-4c31-94d5-1a7d6820478b"
      },
      "execution_count": null,
      "outputs": [
        {
          "output_type": "stream",
          "name": "stdout",
          "text": [
            "MAE in baseline Linear Regressor 11.537223061793602\n"
          ]
        }
      ]
    },
    {
      "cell_type": "markdown",
      "source": [
        "### 2) Random Forest"
      ],
      "metadata": {
        "id": "36UYFud_ethv"
      }
    },
    {
      "cell_type": "code",
      "source": [
        "from sklearn.ensemble import RandomForestRegressor\n",
        "\n",
        "rf = RandomForestRegressor()\n",
        "\n",
        "rf.fit(X_train , y_train )\n",
        "\n",
        "y_preds_rm = rf.predict(X_valid)\n",
        "\n"
      ],
      "metadata": {
        "id": "kTNvFGK_etkJ"
      },
      "execution_count": null,
      "outputs": []
    },
    {
      "cell_type": "code",
      "source": [
        "from sklearn.metrics import mean_absolute_error\n",
        "\n",
        "rf_mae = mean_absolute_error(y_valid , y_preds_rm)\n",
        "print(\"MAE in baseline Random Forest Rgressor\" , rf_mae)"
      ],
      "metadata": {
        "colab": {
          "base_uri": "https://localhost:8080/"
        },
        "id": "k2JqbzMhbMJT",
        "outputId": "c4ae0fad-389c-40fc-c06a-2ea340b0b355"
      },
      "execution_count": null,
      "outputs": [
        {
          "output_type": "stream",
          "name": "stdout",
          "text": [
            "MAE in baseline Random Forest Rgressor 6.185834059818387\n"
          ]
        }
      ]
    },
    {
      "cell_type": "markdown",
      "source": [
        "###3) XGBoost "
      ],
      "metadata": {
        "id": "vZAszsfOgoa6"
      }
    },
    {
      "cell_type": "code",
      "source": [
        "import xgboost\n",
        "\n",
        "xgboost = xgboost.XGBRegressor()\n",
        "\n",
        "xgboost.fit(X_train , y_train )\n",
        "\n",
        "y_preds_xg = xgboost.predict(X_valid)"
      ],
      "metadata": {
        "colab": {
          "base_uri": "https://localhost:8080/"
        },
        "id": "6Xt3SBFJgodw",
        "outputId": "aa37f452-bc93-4973-9673-423e4ad06da3"
      },
      "execution_count": null,
      "outputs": [
        {
          "output_type": "stream",
          "name": "stdout",
          "text": [
            "[14:53:10] WARNING: /workspace/src/objective/regression_obj.cu:152: reg:linear is now deprecated in favor of reg:squarederror.\n"
          ]
        }
      ]
    },
    {
      "cell_type": "code",
      "source": [
        "from sklearn.metrics import mean_absolute_error\n",
        "\n",
        "xgboost_mae = mean_absolute_error(y_valid , y_preds_xg)\n",
        "print(\"MAE in baseline XGBoost Regressor\" , xgboost_mae)"
      ],
      "metadata": {
        "colab": {
          "base_uri": "https://localhost:8080/"
        },
        "id": "Yz7g-SEPgooA",
        "outputId": "a79d1dd8-3ce4-4b25-b8b7-5c35411043dc"
      },
      "execution_count": null,
      "outputs": [
        {
          "output_type": "stream",
          "name": "stdout",
          "text": [
            "MAE in baseline XGBoost Regressor 9.169595056295837\n"
          ]
        }
      ]
    },
    {
      "cell_type": "code",
      "source": [
        "### Saving baseline models for future uses\n",
        "import pickle\n"
      ],
      "metadata": {
        "id": "w4t91kmzgoqA"
      },
      "execution_count": null,
      "outputs": []
    },
    {
      "cell_type": "code",
      "source": [
        "pickle.dump(lr, open('baseline_linear_regressor.h5' , 'wb'))\n"
      ],
      "metadata": {
        "id": "DgchWzE2gor0"
      },
      "execution_count": null,
      "outputs": []
    },
    {
      "cell_type": "code",
      "source": [
        "pickle.dump(rf, open('baseline_randomforest_regressor.h5' , 'wb'))"
      ],
      "metadata": {
        "id": "HKcZMtMGgouP"
      },
      "execution_count": null,
      "outputs": []
    },
    {
      "cell_type": "code",
      "source": [
        "pickle.dump(xgboost, open('baseline_xgboost_regressor.h5' , 'wb'))"
      ],
      "metadata": {
        "id": "Th-f0RFjgowj"
=======
>>>>>>> 827112322a66591a34654b99fc95088df37c0dc0
      },
      "execution_count": 58,
      "outputs": []
    },
    {
      "cell_type": "code",
      "source": [
        "len(X_train) , len(X_valid)"
      ],
      "metadata": {
        "colab": {
          "base_uri": "https://localhost:8080/"
        },
        "id": "8Oo8g430bMDC",
        "outputId": "07292c03-a6c2-490c-ba5b-8a6740c9a5f5"
      },
      "execution_count": 59,
      "outputs": [
        {
          "output_type": "execute_result",
          "data": {
            "text/plain": [
              "(636626, 212209)"
            ]
          },
          "metadata": {},
          "execution_count": 59
        }
      ]
    },
    {
      "cell_type": "code",
      "source": [
        "len(y_train) , len(y_valid)"
      ],
      "metadata": {
        "colab": {
          "base_uri": "https://localhost:8080/"
        },
        "id": "WKJnVc_0bMFJ",
        "outputId": "f4a1cdf7-4c8b-41be-f3ce-b4199f29175e"
      },
      "execution_count": 60,
      "outputs": [
        {
          "output_type": "execute_result",
          "data": {
            "text/plain": [
              "(636626, 212209)"
            ]
          },
          "metadata": {},
          "execution_count": 60
        }
      ]
    },
    {
      "cell_type": "code",
      "source": [
        "# Save X_cleaned and y for future uses\n",
        "train_df_clean = pd.concat([X_cleaned  , y] , axis = 1)\n",
        "train_df_clean.to_csv('train_df_clean.csv' , index = False)"
      ],
      "metadata": {
        "id": "ZvVAuOoyzbCs"
      },
      "execution_count": 83,
      "outputs": []
    },
    {
      "cell_type": "code",
      "source": [
        "train_df_clean.isnull().sum()"
      ],
      "metadata": {
        "colab": {
          "base_uri": "https://localhost:8080/"
        },
        "id": "QqtfqGQuzbL8",
        "outputId": "22b1191b-d1d2-4265-f7a7-bafe5cec2e6e"
      },
      "execution_count": 85,
      "outputs": [
        {
          "output_type": "execute_result",
          "data": {
            "text/plain": [
              "Month              0\n",
              "Day                0\n",
              "Hour               0\n",
              "row_id             0\n",
              "direction_EB       0\n",
              "direction_NB       0\n",
              "direction_NE       0\n",
              "direction_NW       0\n",
              "direction_SB       0\n",
              "direction_SE       0\n",
              "direction_SW       0\n",
              "direction_WB       0\n",
              "location_(0, 0)    0\n",
              "location_(0, 1)    0\n",
              "location_(0, 2)    0\n",
              "location_(0, 3)    0\n",
              "location_(1, 0)    0\n",
              "location_(1, 1)    0\n",
              "location_(1, 2)    0\n",
              "location_(1, 3)    0\n",
              "location_(2, 0)    0\n",
              "location_(2, 1)    0\n",
              "location_(2, 2)    0\n",
              "location_(2, 3)    0\n",
              "congestion         0\n",
              "dtype: int64"
            ]
          },
          "metadata": {},
          "execution_count": 85
        }
      ]
    },
    {
      "cell_type": "markdown",
      "source": [
        "-x-x-x-x-x-x-x-x-x-x-x-x-x-x-x-x-x-x-x-x-x-x-x-x-x-x-x-x-x-x-x-x"
      ],
      "metadata": {
        "id": "O9J_uAR3bMHW"
      }
    },
    {
      "cell_type": "markdown",
      "source": [
        "# Time to fit some models and evaluate their MAE\n",
        "##   1) Linear Regressor\n",
        "##   2) XGboost\n",
        "##   3) RandomForest\n",
        "##   4) Deep Learning Model"
      ],
      "metadata": {
        "id": "D-5ZXAM3etS5"
      }
    },
    {
      "cell_type": "markdown",
      "source": [
        "###1) Linear Regression"
      ],
      "metadata": {
        "id": "7C1E0hEugAVF"
      }
    },
    {
      "cell_type": "code",
      "source": [
        "from sklearn.linear_model import LinearRegression\n",
        "\n",
        "lr = LinearRegression()\n",
        "\n",
        "lr.fit(X_train , y_train)\n",
        "\n",
        "y_preds_lr = lr.predict(X_valid)"
      ],
      "metadata": {
        "id": "LDKqkwBAetdm"
      },
      "execution_count": 61,
      "outputs": []
    },
    {
      "cell_type": "code",
      "source": [
        "from sklearn.metrics import mean_absolute_error\n",
        "\n",
        "lr_mae = mean_absolute_error(y_valid , y_preds_lr)\n",
        "print(\"MAE in baseline Linear Regressor\" , lr_mae)"
      ],
      "metadata": {
        "colab": {
          "base_uri": "https://localhost:8080/"
        },
        "id": "sKeTESyRetfp",
        "outputId": "c9ecea90-d3c3-4c31-94d5-1a7d6820478b"
      },
      "execution_count": 62,
      "outputs": [
        {
          "output_type": "stream",
          "name": "stdout",
          "text": [
            "MAE in baseline Linear Regressor 11.537223061793602\n"
          ]
        }
      ]
    },
    {
      "cell_type": "markdown",
      "source": [
        "### 2) Random Forest"
      ],
      "metadata": {
        "id": "36UYFud_ethv"
      }
    },
    {
      "cell_type": "code",
      "source": [
        "from sklearn.ensemble import RandomForestRegressor\n",
        "\n",
        "rf = RandomForestRegressor()\n",
        "\n",
        "rf.fit(X_train , y_train )\n",
        "\n",
        "y_preds_rm = rf.predict(X_valid)\n",
        "\n"
      ],
      "metadata": {
        "id": "kTNvFGK_etkJ"
      },
      "execution_count": 63,
      "outputs": []
    },
    {
      "cell_type": "code",
      "source": [
        "from sklearn.metrics import mean_absolute_error\n",
        "\n",
        "rf_mae = mean_absolute_error(y_valid , y_preds_rm)\n",
        "print(\"MAE in baseline Random Forest Rgressor\" , rf_mae)"
      ],
      "metadata": {
        "colab": {
          "base_uri": "https://localhost:8080/"
        },
        "id": "k2JqbzMhbMJT",
        "outputId": "c4ae0fad-389c-40fc-c06a-2ea340b0b355"
      },
      "execution_count": 74,
      "outputs": [
        {
          "output_type": "stream",
          "name": "stdout",
          "text": [
            "MAE in baseline Random Forest Rgressor 6.185834059818387\n"
          ]
        }
      ]
    },
    {
      "cell_type": "markdown",
      "source": [
        "###3) XGBoost "
      ],
      "metadata": {
        "id": "vZAszsfOgoa6"
      }
    },
    {
      "cell_type": "code",
      "source": [
        "import xgboost\n",
        "\n",
        "xgboost = xgboost.XGBRegressor()\n",
        "\n",
        "xgboost.fit(X_train , y_train )\n",
        "\n",
        "y_preds_xg = xgboost.predict(X_valid)"
      ],
      "metadata": {
        "colab": {
          "base_uri": "https://localhost:8080/"
        },
        "id": "6Xt3SBFJgodw",
        "outputId": "aa37f452-bc93-4973-9673-423e4ad06da3"
      },
      "execution_count": 72,
      "outputs": [
        {
          "output_type": "stream",
          "name": "stdout",
          "text": [
            "[14:53:10] WARNING: /workspace/src/objective/regression_obj.cu:152: reg:linear is now deprecated in favor of reg:squarederror.\n"
          ]
        }
      ]
    },
    {
      "cell_type": "code",
      "source": [
        "from sklearn.metrics import mean_absolute_error\n",
        "\n",
        "xgboost_mae = mean_absolute_error(y_valid , y_preds_xg)\n",
        "print(\"MAE in baseline XGBoost Regressor\" , xgboost_mae)"
      ],
      "metadata": {
        "colab": {
          "base_uri": "https://localhost:8080/"
        },
        "id": "Yz7g-SEPgooA",
        "outputId": "a79d1dd8-3ce4-4b25-b8b7-5c35411043dc"
      },
      "execution_count": 75,
      "outputs": [
        {
          "output_type": "stream",
          "name": "stdout",
          "text": [
            "MAE in baseline XGBoost Regressor 9.169595056295837\n"
          ]
        }
      ]
    },
    {
      "cell_type": "code",
      "source": [
        "### Saving baseline models for future uses\n",
        "import pickle\n"
      ],
      "metadata": {
        "id": "w4t91kmzgoqA"
      },
      "execution_count": 78,
      "outputs": []
    },
    {
      "cell_type": "code",
      "source": [
        "pickle.dump(lr, open('baseline_linear_regressor.h5' , 'wb'))\n"
      ],
      "metadata": {
        "id": "DgchWzE2gor0"
      },
      "execution_count": 79,
      "outputs": []
    },
    {
      "cell_type": "code",
      "source": [
        "pickle.dump(rf, open('baseline_randomforest_regressor.h5' , 'wb'))"
      ],
      "metadata": {
        "id": "HKcZMtMGgouP"
      },
      "execution_count": 80,
      "outputs": []
    },
    {
      "cell_type": "code",
      "source": [
        "pickle.dump(xgboost, open('baseline_xgboost_regressor.h5' , 'wb'))"
      ],
      "metadata": {
        "id": "Th-f0RFjgowj"
      },
      "execution_count": 81,
      "outputs": []
    },
    {
      "cell_type": "code",
      "source": [
        ""
      ],
      "metadata": {
        "id": "Ey4Gpw5yPK0R"
      },
      "execution_count": null,
      "outputs": []
    },
    {
      "cell_type": "markdown",
      "source": [
        "### 4) Deep Learning model"
      ],
      "metadata": {
        "id": "YVctuRkfPK29"
      }
    },
    {
      "cell_type": "code",
      "source": [
        "import pandas as pd\n",
        "\n",
        "train_df_loaded = pd.read_csv('https://raw.githubusercontent.com/topguns837/Tabular_Playground_Kaggle_Mar_2022/master/Cleaned%20Data/train_df_clean.csv')"
      ],
      "metadata": {
        "id": "lI_0tCoHZ-ly"
      },
      "execution_count": 3,
      "outputs": []
    },
    {
      "cell_type": "code",
      "source": [
        "X_loaded = train_df_loaded.drop(['congestion'] , axis = 1)\n",
        "y_loaded = train_df_loaded['congestion']"
      ],
      "metadata": {
        "id": "u6goRt06c6Zw"
      },
      "execution_count": 4,
      "outputs": []
    },
    {
      "cell_type": "code",
      "source": [
        "from sklearn.model_selection import train_test_split\n",
        "\n",
        "X_train_loaded , X_valid_loaded , y_train_loaded , y_valid_loaded = train_test_split(X_loaded , y_loaded , random_state = 42)"
      ],
      "metadata": {
        "id": "1K5iONSKczlx"
      },
      "execution_count": 5,
      "outputs": []
    },
    {
      "cell_type": "code",
      "source": [
        "import tensorflow as tf\n",
        "\n",
        "#1. Set random seed\n",
        "tf.random.set_seed(42)\n",
        "\n",
        "#2. Build a model\n",
        "\n",
        "dl_model = tf.keras.Sequential([\n",
        "                                tf.keras.layers.Dense(8 , activation = 'relu') ,\n",
        "                                tf.keras.layers.Dense(32 , activation = 'relu') , \n",
        "                                tf.keras.layers.Dense(32 , activation = 'relu') , \n",
        "                                tf.keras.layers.Dense(16 , activation = 'tanh') ,\n",
        "                                #tf.keras.layers.Dense(4,activation = 'elu') ,\n",
        "                                tf.keras.layers.Dense(1 , activation = 'relu')\n",
        "])\n",
        "\n",
        "#3. Compile the model\n",
        "dl_model.compile(loss = 'mae' , \n",
        "                 optimizer = tf.keras.optimizers.Adam() ,\n",
        "                 metrics = ['mae'])\n",
        "\n",
        "#4. Fit the model\n",
        "dl_model.fit(X_train_loaded , y_train_loaded , epochs = 10 ,\n",
        "             validation_data = [X_valid_loaded , y_valid_loaded])"
      ],
      "metadata": {
        "id": "FDFjWuOPwIqR",
        "colab": {
          "base_uri": "https://localhost:8080/"
        },
        "outputId": "76a82610-83ea-4700-b8c8-e7491a0c0798"
      },
      "execution_count": 11,
      "outputs": [
        {
          "output_type": "stream",
          "name": "stdout",
          "text": [
            "Epoch 1/10\n",
            "19895/19895 [==============================] - 62s 3ms/step - loss: 15.7851 - mae: 15.7851 - val_loss: 13.8532 - val_mae: 13.8532\n",
            "Epoch 2/10\n",
            "19895/19895 [==============================] - 72s 4ms/step - loss: 13.8747 - mae: 13.8747 - val_loss: 13.8543 - val_mae: 13.8543\n",
            "Epoch 3/10\n",
            "19895/19895 [==============================] - 62s 3ms/step - loss: 13.8757 - mae: 13.8757 - val_loss: 13.8561 - val_mae: 13.8561\n",
            "Epoch 4/10\n",
            "19895/19895 [==============================] - 62s 3ms/step - loss: 13.8751 - mae: 13.8751 - val_loss: 13.8531 - val_mae: 13.8531\n",
            "Epoch 5/10\n",
            "19895/19895 [==============================] - 65s 3ms/step - loss: 13.8810 - mae: 13.8810 - val_loss: 13.8549 - val_mae: 13.8549\n",
            "Epoch 6/10\n",
            "19895/19895 [==============================] - 61s 3ms/step - loss: 13.8753 - mae: 13.8753 - val_loss: 13.8562 - val_mae: 13.8562\n",
            "Epoch 7/10\n",
            "19895/19895 [==============================] - 76s 4ms/step - loss: 13.8877 - mae: 13.8877 - val_loss: 13.8529 - val_mae: 13.8529\n",
            "Epoch 8/10\n",
            "19895/19895 [==============================] - 77s 4ms/step - loss: 13.8751 - mae: 13.8751 - val_loss: 13.8549 - val_mae: 13.8549\n",
            "Epoch 9/10\n",
            "19895/19895 [==============================] - 63s 3ms/step - loss: 13.8756 - mae: 13.8756 - val_loss: 13.8537 - val_mae: 13.8537\n",
            "Epoch 10/10\n",
            "19895/19895 [==============================] - 62s 3ms/step - loss: 13.8753 - mae: 13.8753 - val_loss: 13.8539 - val_mae: 13.8539\n"
          ]
        },
        {
          "output_type": "execute_result",
          "data": {
            "text/plain": [
              "<keras.callbacks.History at 0x7fedee09ea10>"
            ]
          },
          "metadata": {},
          "execution_count": 11
        }
      ]
    },
    {
      "cell_type": "code",
      "source": [
        "dl_model.save('baseline_dl_model.h5')"
      ],
      "metadata": {
        "id": "fFOL6tSwwI6E"
      },
      "execution_count": 12,
      "outputs": []
    },
    {
      "cell_type": "markdown",
      "source": [
        "### 4) Deep Learning model"
      ],
      "metadata": {
        "id": "YVctuRkfPK29"
      }
    },
    {
      "cell_type": "code",
      "source": [
        "import tensorflow as tf\n",
        "\n",
        "#1. Set random seed\n",
        "tf.random.set_seed(42)\n",
        "\n",
        "#2. Build a model\n",
        "\n",
        "dl_model = tf.keras.Sequential([\n",
        "                                tf.keras.layers.Dense(8 , activation = 'relu') ,\n",
        "                                tf.keras.layers.Dense(16 , activation = 'relu') , \n",
        "                                tf.keras.layers.Dense(16 , activation = 'relu') , \n",
        "                                tf.keras.layers.Dense(1 , activation = 'relu')\n",
        "])\n",
        "\n",
        "#3. Compile the model\n",
        "dl_model.compile(loss = 'mae' , \n",
        "                 optimizer = tf.keras.optimizers.Adam() ,\n",
        "                 metrics = ['mae'])\n",
        "\n",
        "#4. Fit the model\n",
        "dl_model.fit(X_train , y_train , epochs = 50 ,\n",
        "             validation_data = [X_valid , y_valid])"
      ],
      "metadata": {
        "id": "FDFjWuOPwIqR"
      },
      "execution_count": 82,
      "outputs": []
    },
    {
      "cell_type": "code",
      "source": [
        ""
      ],
      "metadata": {
<<<<<<< HEAD
        "id": "Jo3MzAQ1wI8u"
      },
      "execution_count": 12,
      "outputs": []
    },
    {
      "cell_type": "markdown",
      "source": [
        "### Transform test data and use baseline RandomForest for initial submission in Kaggle"
      ],
      "metadata": {
        "id": "SQcHaCfIlgiC"
      }
    },
    {
      "cell_type": "code",
      "source": [
        "test = pd.read_csv('https://raw.githubusercontent.com/topguns837/Tabular_Playground_Kaggle_Mar_2022/master/test.csv?token=GHSAT0AAAAAABQDRJRAGUVH2Q5AZT62G4U4YRNUSOA' , index_col = False)"
      ],
      "metadata": {
        "id": "LRFWsBYalgkx"
      },
      "execution_count": 15,
=======
        "id": "fFOL6tSwwI6E"
      },
      "execution_count": null,
>>>>>>> 827112322a66591a34654b99fc95088df37c0dc0
      "outputs": []
    },
    {
      "cell_type": "code",
      "source": [
<<<<<<< HEAD
        "test.head()"
      ],
      "metadata": {
        "colab": {
          "base_uri": "https://localhost:8080/",
          "height": 206
        },
        "id": "7LZ006XAlgnJ",
        "outputId": "98b258ef-bca1-45ae-ba15-80a4c63020ed"
      },
      "execution_count": 17,
      "outputs": [
        {
          "output_type": "execute_result",
          "data": {
            "text/html": [
              "\n",
              "  <div id=\"df-70f23810-6ccf-4016-857b-14b340c95be6\">\n",
              "    <div class=\"colab-df-container\">\n",
              "      <div>\n",
              "<style scoped>\n",
              "    .dataframe tbody tr th:only-of-type {\n",
              "        vertical-align: middle;\n",
              "    }\n",
              "\n",
              "    .dataframe tbody tr th {\n",
              "        vertical-align: top;\n",
              "    }\n",
              "\n",
              "    .dataframe thead th {\n",
              "        text-align: right;\n",
              "    }\n",
              "</style>\n",
              "<table border=\"1\" class=\"dataframe\">\n",
              "  <thead>\n",
              "    <tr style=\"text-align: right;\">\n",
              "      <th></th>\n",
              "      <th>row_id</th>\n",
              "      <th>time</th>\n",
              "      <th>x</th>\n",
              "      <th>y</th>\n",
              "      <th>direction</th>\n",
              "    </tr>\n",
              "  </thead>\n",
              "  <tbody>\n",
              "    <tr>\n",
              "      <th>0</th>\n",
              "      <td>848835</td>\n",
              "      <td>1991-09-30 12:00:00</td>\n",
              "      <td>0</td>\n",
              "      <td>0</td>\n",
              "      <td>EB</td>\n",
              "    </tr>\n",
              "    <tr>\n",
              "      <th>1</th>\n",
              "      <td>848836</td>\n",
              "      <td>1991-09-30 12:00:00</td>\n",
              "      <td>0</td>\n",
              "      <td>0</td>\n",
              "      <td>NB</td>\n",
              "    </tr>\n",
              "    <tr>\n",
              "      <th>2</th>\n",
              "      <td>848837</td>\n",
              "      <td>1991-09-30 12:00:00</td>\n",
              "      <td>0</td>\n",
              "      <td>0</td>\n",
              "      <td>SB</td>\n",
              "    </tr>\n",
              "    <tr>\n",
              "      <th>3</th>\n",
              "      <td>848838</td>\n",
              "      <td>1991-09-30 12:00:00</td>\n",
              "      <td>0</td>\n",
              "      <td>1</td>\n",
              "      <td>EB</td>\n",
              "    </tr>\n",
              "    <tr>\n",
              "      <th>4</th>\n",
              "      <td>848839</td>\n",
              "      <td>1991-09-30 12:00:00</td>\n",
              "      <td>0</td>\n",
              "      <td>1</td>\n",
              "      <td>NB</td>\n",
              "    </tr>\n",
              "  </tbody>\n",
              "</table>\n",
              "</div>\n",
              "      <button class=\"colab-df-convert\" onclick=\"convertToInteractive('df-70f23810-6ccf-4016-857b-14b340c95be6')\"\n",
              "              title=\"Convert this dataframe to an interactive table.\"\n",
              "              style=\"display:none;\">\n",
              "        \n",
              "  <svg xmlns=\"http://www.w3.org/2000/svg\" height=\"24px\"viewBox=\"0 0 24 24\"\n",
              "       width=\"24px\">\n",
              "    <path d=\"M0 0h24v24H0V0z\" fill=\"none\"/>\n",
              "    <path d=\"M18.56 5.44l.94 2.06.94-2.06 2.06-.94-2.06-.94-.94-2.06-.94 2.06-2.06.94zm-11 1L8.5 8.5l.94-2.06 2.06-.94-2.06-.94L8.5 2.5l-.94 2.06-2.06.94zm10 10l.94 2.06.94-2.06 2.06-.94-2.06-.94-.94-2.06-.94 2.06-2.06.94z\"/><path d=\"M17.41 7.96l-1.37-1.37c-.4-.4-.92-.59-1.43-.59-.52 0-1.04.2-1.43.59L10.3 9.45l-7.72 7.72c-.78.78-.78 2.05 0 2.83L4 21.41c.39.39.9.59 1.41.59.51 0 1.02-.2 1.41-.59l7.78-7.78 2.81-2.81c.8-.78.8-2.07 0-2.86zM5.41 20L4 18.59l7.72-7.72 1.47 1.35L5.41 20z\"/>\n",
              "  </svg>\n",
              "      </button>\n",
              "      \n",
              "  <style>\n",
              "    .colab-df-container {\n",
              "      display:flex;\n",
              "      flex-wrap:wrap;\n",
              "      gap: 12px;\n",
              "    }\n",
              "\n",
              "    .colab-df-convert {\n",
              "      background-color: #E8F0FE;\n",
              "      border: none;\n",
              "      border-radius: 50%;\n",
              "      cursor: pointer;\n",
              "      display: none;\n",
              "      fill: #1967D2;\n",
              "      height: 32px;\n",
              "      padding: 0 0 0 0;\n",
              "      width: 32px;\n",
              "    }\n",
              "\n",
              "    .colab-df-convert:hover {\n",
              "      background-color: #E2EBFA;\n",
              "      box-shadow: 0px 1px 2px rgba(60, 64, 67, 0.3), 0px 1px 3px 1px rgba(60, 64, 67, 0.15);\n",
              "      fill: #174EA6;\n",
              "    }\n",
              "\n",
              "    [theme=dark] .colab-df-convert {\n",
              "      background-color: #3B4455;\n",
              "      fill: #D2E3FC;\n",
              "    }\n",
              "\n",
              "    [theme=dark] .colab-df-convert:hover {\n",
              "      background-color: #434B5C;\n",
              "      box-shadow: 0px 1px 3px 1px rgba(0, 0, 0, 0.15);\n",
              "      filter: drop-shadow(0px 1px 2px rgba(0, 0, 0, 0.3));\n",
              "      fill: #FFFFFF;\n",
              "    }\n",
              "  </style>\n",
              "\n",
              "      <script>\n",
              "        const buttonEl =\n",
              "          document.querySelector('#df-70f23810-6ccf-4016-857b-14b340c95be6 button.colab-df-convert');\n",
              "        buttonEl.style.display =\n",
              "          google.colab.kernel.accessAllowed ? 'block' : 'none';\n",
              "\n",
              "        async function convertToInteractive(key) {\n",
              "          const element = document.querySelector('#df-70f23810-6ccf-4016-857b-14b340c95be6');\n",
              "          const dataTable =\n",
              "            await google.colab.kernel.invokeFunction('convertToInteractive',\n",
              "                                                     [key], {});\n",
              "          if (!dataTable) return;\n",
              "\n",
              "          const docLinkHtml = 'Like what you see? Visit the ' +\n",
              "            '<a target=\"_blank\" href=https://colab.research.google.com/notebooks/data_table.ipynb>data table notebook</a>'\n",
              "            + ' to learn more about interactive tables.';\n",
              "          element.innerHTML = '';\n",
              "          dataTable['output_type'] = 'display_data';\n",
              "          await google.colab.output.renderOutput(dataTable, element);\n",
              "          const docLink = document.createElement('div');\n",
              "          docLink.innerHTML = docLinkHtml;\n",
              "          element.appendChild(docLink);\n",
              "        }\n",
              "      </script>\n",
              "    </div>\n",
              "  </div>\n",
              "  "
            ],
            "text/plain": [
              "   row_id                 time  x  y direction\n",
              "0  848835  1991-09-30 12:00:00  0  0        EB\n",
              "1  848836  1991-09-30 12:00:00  0  0        NB\n",
              "2  848837  1991-09-30 12:00:00  0  0        SB\n",
              "3  848838  1991-09-30 12:00:00  0  1        EB\n",
              "4  848839  1991-09-30 12:00:00  0  1        NB"
            ]
          },
          "metadata": {},
          "execution_count": 17
        }
      ]
=======
        ""
      ],
      "metadata": {
        "id": "Jo3MzAQ1wI8u"
      },
      "execution_count": null,
      "outputs": []
>>>>>>> 827112322a66591a34654b99fc95088df37c0dc0
    },
    {
      "cell_type": "code",
      "source": [
        ""
      ],
      "metadata": {
        "id": "_6SKkI-owI_S"
      },
<<<<<<< HEAD
      "execution_count": 16,
=======
      "execution_count": null,
>>>>>>> 827112322a66591a34654b99fc95088df37c0dc0
      "outputs": []
    },
    {
      "cell_type": "code",
      "source": [
        ""
      ],
      "metadata": {
        "id": "LPMGI6ZPwJCk"
      },
      "execution_count": null,
      "outputs": []
    },
    {
      "cell_type": "code",
      "source": [
        ""
      ],
      "metadata": {
        "id": "AjvSKxCIwJFp"
      },
      "execution_count": null,
      "outputs": []
    },
    {
      "cell_type": "code",
      "source": [
        ""
      ],
      "metadata": {
        "id": "ttUlu60XPK5f"
      },
      "execution_count": null,
      "outputs": []
    }
  ]
}